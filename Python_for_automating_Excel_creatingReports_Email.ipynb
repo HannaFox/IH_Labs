{
 "cells": [
  {
   "cell_type": "code",
   "execution_count": 13,
   "id": "46e46cb0",
   "metadata": {},
   "outputs": [],
   "source": [
    "import xlwings as xw #library to controll excel"
   ]
  },
  {
   "cell_type": "code",
   "execution_count": 14,
   "id": "11be59ec",
   "metadata": {},
   "outputs": [],
   "source": [
    "new_book = xw.Book() #creates new excel book and opens it"
   ]
  },
  {
   "cell_type": "code",
   "execution_count": 15,
   "id": "a593a9d6",
   "metadata": {},
   "outputs": [],
   "source": [
    "#how about creating a new worksheet in the book?\n",
    "inputs = new_book.sheets.add(\"inputs\")"
   ]
  },
  {
   "cell_type": "code",
   "execution_count": 16,
   "id": "75c9c7a4",
   "metadata": {},
   "outputs": [],
   "source": [
    "#why am I getting index zero? \n",
    "#sheets method returns a list \n",
    "worksheet = new_book.sheets[0]"
   ]
  },
  {
   "cell_type": "code",
   "execution_count": 17,
   "id": "13a9b9e8",
   "metadata": {},
   "outputs": [
    {
     "data": {
      "text/plain": [
       "Sheets([<Sheet [Book1]inputs>, <Sheet [Book1]Sheet1>])"
      ]
     },
     "execution_count": 17,
     "metadata": {},
     "output_type": "execute_result"
    }
   ],
   "source": [
    "new_book.sheets"
   ]
  },
  {
   "cell_type": "code",
   "execution_count": 18,
   "id": "ed075c4c",
   "metadata": {},
   "outputs": [],
   "source": [
    "#whenever I want to do something to my worksheet I simply call the variable \n",
    "#I want to write something in my excel\n",
    "worksheet.range(\"A1\").value = \"Hello, how are you\""
   ]
  },
  {
   "cell_type": "code",
   "execution_count": 19,
   "id": "5c2a7db3",
   "metadata": {},
   "outputs": [],
   "source": [
    "#let's do some formatting\n",
    "worksheet.range(\"A1\").color = (0,100,100)\n",
    "worksheet.range(\"A1\").column_width = 50"
   ]
  },
  {
   "cell_type": "code",
   "execution_count": 20,
   "id": "0fa3eb7a",
   "metadata": {},
   "outputs": [],
   "source": [
    "worksheet.range(\"A1\").clear_contents()\n",
    "#instead of clear content you can also just do clear\n",
    "#clear both the content and the formatting\n",
    "worksheet.range(\"A1\").clear()"
   ]
  },
  {
   "cell_type": "code",
   "execution_count": 21,
   "id": "a71c56a9",
   "metadata": {},
   "outputs": [
    {
     "name": "stdout",
     "output_type": "stream",
     "text": [
      "None\n",
      "None\n",
      "None\n"
     ]
    }
   ],
   "source": [
    "# can we use python to read the contents in exxel?\n",
    "name = worksheet.range(\"C3\").value\n",
    "age = worksheet.range(\"C4\").value\n",
    "hobby = worksheet.range(\"C5\").value\n",
    "print(name)\n",
    "print(age)\n",
    "print(hobby)"
   ]
  },
  {
   "cell_type": "code",
   "execution_count": 22,
   "id": "4ab9cc75",
   "metadata": {},
   "outputs": [],
   "source": [
    "#NEVER EVER reference things explicitely -> name the cells in excel!!"
   ]
  },
  {
   "cell_type": "code",
   "execution_count": 23,
   "id": "4fa49d7f",
   "metadata": {},
   "outputs": [
    {
     "ename": "com_error",
     "evalue": "(-2147352567, 'Exception occurred.', (0, None, None, None, 0, -2146827284), None)",
     "output_type": "error",
     "traceback": [
      "\u001b[1;31m---------------------------------------------------------------------------\u001b[0m",
      "\u001b[1;31mcom_error\u001b[0m                                 Traceback (most recent call last)",
      "\u001b[1;32m~\\AppData\\Local\\Temp\\ipykernel_17204\\2556934592.py\u001b[0m in \u001b[0;36m<module>\u001b[1;34m\u001b[0m\n\u001b[1;32m----> 1\u001b[1;33m \u001b[0mname\u001b[0m \u001b[1;33m=\u001b[0m \u001b[0mworksheet\u001b[0m\u001b[1;33m.\u001b[0m\u001b[0mrange\u001b[0m\u001b[1;33m(\u001b[0m\u001b[1;34m\"name\"\u001b[0m\u001b[1;33m)\u001b[0m\u001b[1;33m.\u001b[0m\u001b[0mvalue\u001b[0m\u001b[1;33m\u001b[0m\u001b[1;33m\u001b[0m\u001b[0m\n\u001b[0m\u001b[0;32m      2\u001b[0m \u001b[0mage\u001b[0m \u001b[1;33m=\u001b[0m \u001b[0mworksheet\u001b[0m\u001b[1;33m.\u001b[0m\u001b[0mrange\u001b[0m\u001b[1;33m(\u001b[0m\u001b[1;34m\"age\"\u001b[0m\u001b[1;33m)\u001b[0m\u001b[1;33m.\u001b[0m\u001b[0mvalue\u001b[0m\u001b[1;33m\u001b[0m\u001b[1;33m\u001b[0m\u001b[0m\n\u001b[0;32m      3\u001b[0m \u001b[0mhobby\u001b[0m \u001b[1;33m=\u001b[0m \u001b[0mworksheet\u001b[0m\u001b[1;33m.\u001b[0m\u001b[0mrange\u001b[0m\u001b[1;33m(\u001b[0m\u001b[1;34m\"hobby\"\u001b[0m\u001b[1;33m)\u001b[0m\u001b[1;33m.\u001b[0m\u001b[0mvalue\u001b[0m\u001b[1;33m\u001b[0m\u001b[1;33m\u001b[0m\u001b[0m\n\u001b[0;32m      4\u001b[0m \u001b[0mprint\u001b[0m\u001b[1;33m(\u001b[0m\u001b[0mname\u001b[0m\u001b[1;33m)\u001b[0m\u001b[1;33m\u001b[0m\u001b[1;33m\u001b[0m\u001b[0m\n\u001b[0;32m      5\u001b[0m \u001b[0mprint\u001b[0m\u001b[1;33m(\u001b[0m\u001b[0mage\u001b[0m\u001b[1;33m)\u001b[0m\u001b[1;33m\u001b[0m\u001b[1;33m\u001b[0m\u001b[0m\n",
      "\u001b[1;32m~\\anaconda3\\lib\\site-packages\\xlwings\\main.py\u001b[0m in \u001b[0;36mrange\u001b[1;34m(self, cell1, cell2)\u001b[0m\n\u001b[0;32m   1362\u001b[0m                 \u001b[1;32mraise\u001b[0m \u001b[0mValueError\u001b[0m\u001b[1;33m(\u001b[0m\u001b[1;34m\"Second range is not on this sheet\"\u001b[0m\u001b[1;33m)\u001b[0m\u001b[1;33m\u001b[0m\u001b[1;33m\u001b[0m\u001b[0m\n\u001b[0;32m   1363\u001b[0m             \u001b[0mcell2\u001b[0m \u001b[1;33m=\u001b[0m \u001b[0mcell2\u001b[0m\u001b[1;33m.\u001b[0m\u001b[0mimpl\u001b[0m\u001b[1;33m\u001b[0m\u001b[1;33m\u001b[0m\u001b[0m\n\u001b[1;32m-> 1364\u001b[1;33m         \u001b[1;32mreturn\u001b[0m \u001b[0mRange\u001b[0m\u001b[1;33m(\u001b[0m\u001b[0mimpl\u001b[0m\u001b[1;33m=\u001b[0m\u001b[0mself\u001b[0m\u001b[1;33m.\u001b[0m\u001b[0mimpl\u001b[0m\u001b[1;33m.\u001b[0m\u001b[0mrange\u001b[0m\u001b[1;33m(\u001b[0m\u001b[0mcell1\u001b[0m\u001b[1;33m,\u001b[0m \u001b[0mcell2\u001b[0m\u001b[1;33m)\u001b[0m\u001b[1;33m)\u001b[0m\u001b[1;33m\u001b[0m\u001b[1;33m\u001b[0m\u001b[0m\n\u001b[0m\u001b[0;32m   1365\u001b[0m \u001b[1;33m\u001b[0m\u001b[0m\n\u001b[0;32m   1366\u001b[0m     \u001b[1;33m@\u001b[0m\u001b[0mproperty\u001b[0m\u001b[1;33m\u001b[0m\u001b[1;33m\u001b[0m\u001b[0m\n",
      "\u001b[1;32m~\\anaconda3\\lib\\site-packages\\xlwings\\_xlwindows.py\u001b[0m in \u001b[0;36mrange\u001b[1;34m(self, arg1, arg2)\u001b[0m\n\u001b[0;32m    971\u001b[0m             \u001b[0marg2\u001b[0m \u001b[1;33m=\u001b[0m \u001b[1;32mNone\u001b[0m\u001b[1;33m\u001b[0m\u001b[1;33m\u001b[0m\u001b[0m\n\u001b[0;32m    972\u001b[0m         \u001b[1;32melse\u001b[0m\u001b[1;33m:\u001b[0m\u001b[1;33m\u001b[0m\u001b[1;33m\u001b[0m\u001b[0m\n\u001b[1;32m--> 973\u001b[1;33m             \u001b[0mxl1\u001b[0m \u001b[1;33m=\u001b[0m \u001b[0mself\u001b[0m\u001b[1;33m.\u001b[0m\u001b[0mxl\u001b[0m\u001b[1;33m.\u001b[0m\u001b[0mRange\u001b[0m\u001b[1;33m(\u001b[0m\u001b[0marg1\u001b[0m\u001b[1;33m)\u001b[0m\u001b[1;33m\u001b[0m\u001b[1;33m\u001b[0m\u001b[0m\n\u001b[0m\u001b[0;32m    974\u001b[0m \u001b[1;33m\u001b[0m\u001b[0m\n\u001b[0;32m    975\u001b[0m         \u001b[1;32mif\u001b[0m \u001b[0marg2\u001b[0m \u001b[1;32mis\u001b[0m \u001b[1;32mNone\u001b[0m\u001b[1;33m:\u001b[0m\u001b[1;33m\u001b[0m\u001b[1;33m\u001b[0m\u001b[0m\n",
      "\u001b[1;32m~\\anaconda3\\lib\\site-packages\\xlwings\\_xlwindows.py\u001b[0m in \u001b[0;36m__call__\u001b[1;34m(self, *args, **kwargs)\u001b[0m\n\u001b[0;32m    103\u001b[0m         \u001b[1;32mwhile\u001b[0m \u001b[1;32mTrue\u001b[0m\u001b[1;33m:\u001b[0m\u001b[1;33m\u001b[0m\u001b[1;33m\u001b[0m\u001b[0m\n\u001b[0;32m    104\u001b[0m             \u001b[1;32mtry\u001b[0m\u001b[1;33m:\u001b[0m\u001b[1;33m\u001b[0m\u001b[1;33m\u001b[0m\u001b[0m\n\u001b[1;32m--> 105\u001b[1;33m                 \u001b[0mv\u001b[0m \u001b[1;33m=\u001b[0m \u001b[0mself\u001b[0m\u001b[1;33m.\u001b[0m\u001b[0m__method\u001b[0m\u001b[1;33m(\u001b[0m\u001b[1;33m*\u001b[0m\u001b[0margs\u001b[0m\u001b[1;33m,\u001b[0m \u001b[1;33m**\u001b[0m\u001b[0mkwargs\u001b[0m\u001b[1;33m)\u001b[0m\u001b[1;33m\u001b[0m\u001b[1;33m\u001b[0m\u001b[0m\n\u001b[0m\u001b[0;32m    106\u001b[0m                 \u001b[1;32mif\u001b[0m \u001b[0misinstance\u001b[0m\u001b[1;33m(\u001b[0m\u001b[0mv\u001b[0m\u001b[1;33m,\u001b[0m \u001b[1;33m(\u001b[0m\u001b[0mCDispatch\u001b[0m\u001b[1;33m,\u001b[0m \u001b[0mCoClassBaseClass\u001b[0m\u001b[1;33m,\u001b[0m \u001b[0mDispatchBaseClass\u001b[0m\u001b[1;33m)\u001b[0m\u001b[1;33m)\u001b[0m\u001b[1;33m:\u001b[0m\u001b[1;33m\u001b[0m\u001b[1;33m\u001b[0m\u001b[0m\n\u001b[0;32m    107\u001b[0m                     \u001b[1;32mreturn\u001b[0m \u001b[0mCOMRetryObjectWrapper\u001b[0m\u001b[1;33m(\u001b[0m\u001b[0mv\u001b[0m\u001b[1;33m)\u001b[0m\u001b[1;33m\u001b[0m\u001b[1;33m\u001b[0m\u001b[0m\n",
      "\u001b[1;32m~\\anaconda3\\lib\\site-packages\\win32com\\gen_py\\00020813-0000-0000-C000-000000000046x0x1x9.py\u001b[0m in \u001b[0;36mRange\u001b[1;34m(self, Cell1, Cell2)\u001b[0m\n\u001b[0;32m  47112\u001b[0m         \u001b[1;31m# The method Range is actually a property, but must be used as a method to correctly pass the arguments\u001b[0m\u001b[1;33m\u001b[0m\u001b[1;33m\u001b[0m\u001b[0m\n\u001b[0;32m  47113\u001b[0m         \u001b[1;32mdef\u001b[0m \u001b[0mRange\u001b[0m\u001b[1;33m(\u001b[0m\u001b[0mself\u001b[0m\u001b[1;33m,\u001b[0m \u001b[0mCell1\u001b[0m\u001b[1;33m=\u001b[0m\u001b[0mdefaultNamedNotOptArg\u001b[0m\u001b[1;33m,\u001b[0m \u001b[0mCell2\u001b[0m\u001b[1;33m=\u001b[0m\u001b[0mdefaultNamedOptArg\u001b[0m\u001b[1;33m)\u001b[0m\u001b[1;33m:\u001b[0m\u001b[1;33m\u001b[0m\u001b[1;33m\u001b[0m\u001b[0m\n\u001b[1;32m> 47114\u001b[1;33m \t\tret = self._oleobj_.InvokeTypes(197, LCID, 2, (9, 0), ((12, 1), (12, 17)),Cell1\n\u001b[0m\u001b[0;32m  47115\u001b[0m \t\t\t, Cell2)\n\u001b[0;32m  47116\u001b[0m                 \u001b[1;32mif\u001b[0m \u001b[0mret\u001b[0m \u001b[1;32mis\u001b[0m \u001b[1;32mnot\u001b[0m \u001b[1;32mNone\u001b[0m\u001b[1;33m:\u001b[0m\u001b[1;33m\u001b[0m\u001b[1;33m\u001b[0m\u001b[0m\n",
      "\u001b[1;31mcom_error\u001b[0m: (-2147352567, 'Exception occurred.', (0, None, None, None, 0, -2146827284), None)"
     ]
    }
   ],
   "source": [
    "name = worksheet.range(\"name\").value   \n",
    "age = worksheet.range(\"age\").value\n",
    "hobby = worksheet.range(\"hobby\").value\n",
    "print(name)\n",
    "print(age)\n",
    "print(hobby)\n",
    "# creates error here because I didn't save the excel worksheet with name, age.."
   ]
  },
  {
   "cell_type": "code",
   "execution_count": 24,
   "id": "f7ed4014",
   "metadata": {},
   "outputs": [],
   "source": [
    "# now is the time we are going to do our report\n",
    "# library pandas\n",
    "import pandas as pd\n",
    "orders = pd.read_excel(\"Sample - Superstore.xls\", sheet_name = \"Orders\")"
   ]
  },
  {
   "cell_type": "code",
   "execution_count": 25,
   "id": "6c545eb3",
   "metadata": {},
   "outputs": [
    {
     "data": {
      "text/html": [
       "<div>\n",
       "<style scoped>\n",
       "    .dataframe tbody tr th:only-of-type {\n",
       "        vertical-align: middle;\n",
       "    }\n",
       "\n",
       "    .dataframe tbody tr th {\n",
       "        vertical-align: top;\n",
       "    }\n",
       "\n",
       "    .dataframe thead th {\n",
       "        text-align: right;\n",
       "    }\n",
       "</style>\n",
       "<table border=\"1\" class=\"dataframe\">\n",
       "  <thead>\n",
       "    <tr style=\"text-align: right;\">\n",
       "      <th></th>\n",
       "      <th>Row ID</th>\n",
       "      <th>Order ID</th>\n",
       "      <th>Order Date</th>\n",
       "      <th>Ship Date</th>\n",
       "      <th>Ship Mode</th>\n",
       "      <th>Customer ID</th>\n",
       "      <th>Customer Name</th>\n",
       "      <th>Segment</th>\n",
       "      <th>Country</th>\n",
       "      <th>City</th>\n",
       "      <th>...</th>\n",
       "      <th>Postal Code</th>\n",
       "      <th>Region</th>\n",
       "      <th>Product ID</th>\n",
       "      <th>Category</th>\n",
       "      <th>Sub-Category</th>\n",
       "      <th>Product Name</th>\n",
       "      <th>Sales</th>\n",
       "      <th>Quantity</th>\n",
       "      <th>Discount</th>\n",
       "      <th>Profit</th>\n",
       "    </tr>\n",
       "  </thead>\n",
       "  <tbody>\n",
       "    <tr>\n",
       "      <th>0</th>\n",
       "      <td>1</td>\n",
       "      <td>CA-2013-152156</td>\n",
       "      <td>2013-11-09</td>\n",
       "      <td>2013-11-12</td>\n",
       "      <td>Second Class</td>\n",
       "      <td>CG-12520</td>\n",
       "      <td>Claire Gute</td>\n",
       "      <td>Consumer</td>\n",
       "      <td>United States</td>\n",
       "      <td>Henderson</td>\n",
       "      <td>...</td>\n",
       "      <td>42420</td>\n",
       "      <td>South</td>\n",
       "      <td>FUR-BO-10001798</td>\n",
       "      <td>Furniture</td>\n",
       "      <td>Bookcases</td>\n",
       "      <td>Bush Somerset Collection Bookcase</td>\n",
       "      <td>261.9600</td>\n",
       "      <td>2</td>\n",
       "      <td>0.00</td>\n",
       "      <td>41.9136</td>\n",
       "    </tr>\n",
       "    <tr>\n",
       "      <th>1</th>\n",
       "      <td>2</td>\n",
       "      <td>CA-2013-152156</td>\n",
       "      <td>2013-11-09</td>\n",
       "      <td>2013-11-12</td>\n",
       "      <td>Second Class</td>\n",
       "      <td>CG-12520</td>\n",
       "      <td>Claire Gute</td>\n",
       "      <td>Consumer</td>\n",
       "      <td>United States</td>\n",
       "      <td>Henderson</td>\n",
       "      <td>...</td>\n",
       "      <td>42420</td>\n",
       "      <td>South</td>\n",
       "      <td>FUR-CH-10000454</td>\n",
       "      <td>Furniture</td>\n",
       "      <td>Chairs</td>\n",
       "      <td>Hon Deluxe Fabric Upholstered Stacking Chairs,...</td>\n",
       "      <td>731.9400</td>\n",
       "      <td>3</td>\n",
       "      <td>0.00</td>\n",
       "      <td>219.5820</td>\n",
       "    </tr>\n",
       "    <tr>\n",
       "      <th>2</th>\n",
       "      <td>3</td>\n",
       "      <td>CA-2013-138688</td>\n",
       "      <td>2013-06-13</td>\n",
       "      <td>2013-06-17</td>\n",
       "      <td>Second Class</td>\n",
       "      <td>DV-13045</td>\n",
       "      <td>Darrin Van Huff</td>\n",
       "      <td>Corporate</td>\n",
       "      <td>United States</td>\n",
       "      <td>Los Angeles</td>\n",
       "      <td>...</td>\n",
       "      <td>90036</td>\n",
       "      <td>West</td>\n",
       "      <td>OFF-LA-10000240</td>\n",
       "      <td>Office Supplies</td>\n",
       "      <td>Labels</td>\n",
       "      <td>Self-Adhesive Address Labels for Typewriters b...</td>\n",
       "      <td>14.6200</td>\n",
       "      <td>2</td>\n",
       "      <td>0.00</td>\n",
       "      <td>6.8714</td>\n",
       "    </tr>\n",
       "    <tr>\n",
       "      <th>3</th>\n",
       "      <td>4</td>\n",
       "      <td>US-2012-108966</td>\n",
       "      <td>2012-10-11</td>\n",
       "      <td>2012-10-18</td>\n",
       "      <td>Standard Class</td>\n",
       "      <td>SO-20335</td>\n",
       "      <td>Sean O'Donnell</td>\n",
       "      <td>Consumer</td>\n",
       "      <td>United States</td>\n",
       "      <td>Fort Lauderdale</td>\n",
       "      <td>...</td>\n",
       "      <td>33311</td>\n",
       "      <td>South</td>\n",
       "      <td>FUR-TA-10000577</td>\n",
       "      <td>Furniture</td>\n",
       "      <td>Tables</td>\n",
       "      <td>Bretford CR4500 Series Slim Rectangular Table</td>\n",
       "      <td>957.5775</td>\n",
       "      <td>5</td>\n",
       "      <td>0.45</td>\n",
       "      <td>-383.0310</td>\n",
       "    </tr>\n",
       "    <tr>\n",
       "      <th>4</th>\n",
       "      <td>5</td>\n",
       "      <td>US-2012-108966</td>\n",
       "      <td>2012-10-11</td>\n",
       "      <td>2012-10-18</td>\n",
       "      <td>Standard Class</td>\n",
       "      <td>SO-20335</td>\n",
       "      <td>Sean O'Donnell</td>\n",
       "      <td>Consumer</td>\n",
       "      <td>United States</td>\n",
       "      <td>Fort Lauderdale</td>\n",
       "      <td>...</td>\n",
       "      <td>33311</td>\n",
       "      <td>South</td>\n",
       "      <td>OFF-ST-10000760</td>\n",
       "      <td>Office Supplies</td>\n",
       "      <td>Storage</td>\n",
       "      <td>Eldon Fold 'N Roll Cart System</td>\n",
       "      <td>22.3680</td>\n",
       "      <td>2</td>\n",
       "      <td>0.20</td>\n",
       "      <td>2.5164</td>\n",
       "    </tr>\n",
       "  </tbody>\n",
       "</table>\n",
       "<p>5 rows × 21 columns</p>\n",
       "</div>"
      ],
      "text/plain": [
       "   Row ID        Order ID Order Date  Ship Date       Ship Mode Customer ID  \\\n",
       "0       1  CA-2013-152156 2013-11-09 2013-11-12    Second Class    CG-12520   \n",
       "1       2  CA-2013-152156 2013-11-09 2013-11-12    Second Class    CG-12520   \n",
       "2       3  CA-2013-138688 2013-06-13 2013-06-17    Second Class    DV-13045   \n",
       "3       4  US-2012-108966 2012-10-11 2012-10-18  Standard Class    SO-20335   \n",
       "4       5  US-2012-108966 2012-10-11 2012-10-18  Standard Class    SO-20335   \n",
       "\n",
       "     Customer Name    Segment        Country             City  ...  \\\n",
       "0      Claire Gute   Consumer  United States        Henderson  ...   \n",
       "1      Claire Gute   Consumer  United States        Henderson  ...   \n",
       "2  Darrin Van Huff  Corporate  United States      Los Angeles  ...   \n",
       "3   Sean O'Donnell   Consumer  United States  Fort Lauderdale  ...   \n",
       "4   Sean O'Donnell   Consumer  United States  Fort Lauderdale  ...   \n",
       "\n",
       "  Postal Code  Region       Product ID         Category Sub-Category  \\\n",
       "0       42420   South  FUR-BO-10001798        Furniture    Bookcases   \n",
       "1       42420   South  FUR-CH-10000454        Furniture       Chairs   \n",
       "2       90036    West  OFF-LA-10000240  Office Supplies       Labels   \n",
       "3       33311   South  FUR-TA-10000577        Furniture       Tables   \n",
       "4       33311   South  OFF-ST-10000760  Office Supplies      Storage   \n",
       "\n",
       "                                        Product Name     Sales  Quantity  \\\n",
       "0                  Bush Somerset Collection Bookcase  261.9600         2   \n",
       "1  Hon Deluxe Fabric Upholstered Stacking Chairs,...  731.9400         3   \n",
       "2  Self-Adhesive Address Labels for Typewriters b...   14.6200         2   \n",
       "3      Bretford CR4500 Series Slim Rectangular Table  957.5775         5   \n",
       "4                     Eldon Fold 'N Roll Cart System   22.3680         2   \n",
       "\n",
       "   Discount    Profit  \n",
       "0      0.00   41.9136  \n",
       "1      0.00  219.5820  \n",
       "2      0.00    6.8714  \n",
       "3      0.45 -383.0310  \n",
       "4      0.20    2.5164  \n",
       "\n",
       "[5 rows x 21 columns]"
      ]
     },
     "execution_count": 25,
     "metadata": {},
     "output_type": "execute_result"
    }
   ],
   "source": [
    "# the .head method simply returns the top 5 rows\n",
    "orders.head()"
   ]
  },
  {
   "cell_type": "code",
   "execution_count": 26,
   "id": "dfbddbf2",
   "metadata": {},
   "outputs": [
    {
     "data": {
      "text/html": [
       "<div>\n",
       "<style scoped>\n",
       "    .dataframe tbody tr th:only-of-type {\n",
       "        vertical-align: middle;\n",
       "    }\n",
       "\n",
       "    .dataframe tbody tr th {\n",
       "        vertical-align: top;\n",
       "    }\n",
       "\n",
       "    .dataframe thead th {\n",
       "        text-align: right;\n",
       "    }\n",
       "</style>\n",
       "<table border=\"1\" class=\"dataframe\">\n",
       "  <thead>\n",
       "    <tr style=\"text-align: right;\">\n",
       "      <th></th>\n",
       "      <th>Returned</th>\n",
       "      <th>Order ID</th>\n",
       "    </tr>\n",
       "  </thead>\n",
       "  <tbody>\n",
       "    <tr>\n",
       "      <th>0</th>\n",
       "      <td>Yes</td>\n",
       "      <td>CA-2014-153822</td>\n",
       "    </tr>\n",
       "    <tr>\n",
       "      <th>1</th>\n",
       "      <td>Yes</td>\n",
       "      <td>CA-2014-129707</td>\n",
       "    </tr>\n",
       "    <tr>\n",
       "      <th>2</th>\n",
       "      <td>Yes</td>\n",
       "      <td>CA-2011-152345</td>\n",
       "    </tr>\n",
       "    <tr>\n",
       "      <th>3</th>\n",
       "      <td>Yes</td>\n",
       "      <td>CA-2012-156440</td>\n",
       "    </tr>\n",
       "    <tr>\n",
       "      <th>4</th>\n",
       "      <td>Yes</td>\n",
       "      <td>US-2014-155999</td>\n",
       "    </tr>\n",
       "  </tbody>\n",
       "</table>\n",
       "</div>"
      ],
      "text/plain": [
       "  Returned        Order ID\n",
       "0      Yes  CA-2014-153822\n",
       "1      Yes  CA-2014-129707\n",
       "2      Yes  CA-2011-152345\n",
       "3      Yes  CA-2012-156440\n",
       "4      Yes  US-2014-155999"
      ]
     },
     "execution_count": 26,
     "metadata": {},
     "output_type": "execute_result"
    }
   ],
   "source": [
    "returns = pd.read_excel(\"Sample - Superstore.xls\", sheet_name = \"Returns\")\n",
    "returns.head()"
   ]
  },
  {
   "cell_type": "code",
   "execution_count": 27,
   "id": "d160baa7",
   "metadata": {},
   "outputs": [],
   "source": [
    "# the logic to apply is that we only want the orders whose ID appears in the returns table\n",
    "# let's perform this join or \"VLookup\" in excel\n",
    "# the merge method is what will connect both tables\n",
    "returned_orders = orders.merge(returns, on = \"Order ID\")"
   ]
  },
  {
   "cell_type": "code",
   "execution_count": 28,
   "id": "48dadd4b",
   "metadata": {},
   "outputs": [
    {
     "name": "stderr",
     "output_type": "stream",
     "text": [
      "C:\\Users\\h_wei\\AppData\\Local\\Temp\\ipykernel_17204\\2912641748.py:2: FutureWarning: Indexing with multiple keys (implicitly converted to a tuple of keys) will be deprecated, use a list instead.\n",
      "  returned_categories = returned_orders.groupby(\"Category\")[\"Sales\",\"Profit\"].sum()\n"
     ]
    }
   ],
   "source": [
    "# let's see how much value of sales we had to return py product category\n",
    "returned_categories = returned_orders.groupby(\"Category\")[\"Sales\",\"Profit\"].sum()"
   ]
  },
  {
   "cell_type": "code",
   "execution_count": 29,
   "id": "36759789",
   "metadata": {},
   "outputs": [
    {
     "data": {
      "image/png": "[encoded data removed]",
      "text/plain": [
       "<Figure size 640x480 with 1 Axes>"
      ]
     },
     "metadata": {},
     "output_type": "display_data"
    }
   ],
   "source": [
    "# now let's perform a graph of this\n",
    "import matplotlib.pyplot as plt\n",
    "# plot the value of sales returned\n",
    "fig = plt.figure()\n",
    "plt.bar(x = returned_categories.index, height = returned_categories[\"Sales\"])\n",
    "\n",
    "# lets save the figure\n",
    "plt.savefig(\"analysis.png\")"
   ]
  },
  {
   "cell_type": "code",
   "execution_count": 30,
   "id": "4f9a524c",
   "metadata": {},
   "outputs": [],
   "source": [
    "#  how do I now put this chart back to excel?\n",
    "book = xw.Book(\"Sample - Superstore.xls\")"
   ]
  },
  {
   "cell_type": "code",
   "execution_count": 31,
   "id": "47b101d7",
   "metadata": {},
   "outputs": [
    {
     "data": {
      "text/plain": [
       "<Sheet [Sample - Superstore.xls]graph>"
      ]
     },
     "execution_count": 31,
     "metadata": {},
     "output_type": "execute_result"
    }
   ],
   "source": [
    "book.sheets.add(\"graph\")"
   ]
  },
  {
   "cell_type": "code",
   "execution_count": 32,
   "id": "059bc623",
   "metadata": {},
   "outputs": [
    {
     "data": {
      "text/plain": [
       "Sheets([<Sheet [Sample - Superstore.xls]Orders>, <Sheet [Sample - Superstore.xls]Returns>, <Sheet [Sample - Superstore.xls]graph>, ...])"
      ]
     },
     "execution_count": 32,
     "metadata": {},
     "output_type": "execute_result"
    }
   ],
   "source": [
    "book.sheets"
   ]
  },
  {
   "cell_type": "code",
   "execution_count": 33,
   "id": "d3dc21f3",
   "metadata": {},
   "outputs": [],
   "source": [
    "target_sheet = book.sheets[2]"
   ]
  },
  {
   "cell_type": "code",
   "execution_count": 34,
   "id": "e550a215",
   "metadata": {},
   "outputs": [
    {
     "data": {
      "text/plain": [
       "<Picture 'myplot' in <Sheet [Sample - Superstore.xls]graph>>"
      ]
     },
     "execution_count": 34,
     "metadata": {},
     "output_type": "execute_result"
    }
   ],
   "source": [
    "target_sheet.pictures.add(fig, name = \"myplot\" )"
   ]
  },
  {
   "cell_type": "code",
   "execution_count": null,
   "id": "df78f6c7",
   "metadata": {},
   "outputs": [],
   "source": []
  },
  {
   "cell_type": "code",
   "execution_count": 35,
   "id": "3257b2a7",
   "metadata": {},
   "outputs": [],
   "source": [
    "# imagine this was all my analysis!! now lets generate a word document out of it\n",
    "# first of all we call once again the relevant package\n",
    "from docx import Document\n",
    "# creating a new word document object in python\n",
    "document = Document()\n",
    "\n",
    "document.add_heading(\"Top secret report, highly classified\", level = 0)\n",
    "\n",
    "document.add_heading(\"Executive Summary\", level = 1)\n",
    "\n",
    "document.add_paragraph(\"The figue belows shows the values of returned sales by product category\")\n",
    "\n",
    "document.add_picture(\"analysis.png\")\n",
    "\n",
    "document.save(\"amazing_report.docx\")"
   ]
  },
  {
   "cell_type": "code",
   "execution_count": 36,
   "id": "4d22930d",
   "metadata": {},
   "outputs": [
    {
     "ename": "com_error",
     "evalue": "(-2147467260, 'Operation aborted', None, None)",
     "output_type": "error",
     "traceback": [
      "\u001b[1;31m---------------------------------------------------------------------------\u001b[0m",
      "\u001b[1;31mcom_error\u001b[0m                                 Traceback (most recent call last)",
      "\u001b[1;32m~\\AppData\\Local\\Temp\\ipykernel_17204\\2146642411.py\u001b[0m in \u001b[0;36m<module>\u001b[1;34m\u001b[0m\n\u001b[0;32m      6\u001b[0m \u001b[0moutlook\u001b[0m \u001b[1;33m=\u001b[0m \u001b[0mwin32\u001b[0m\u001b[1;33m.\u001b[0m\u001b[0mDispatch\u001b[0m\u001b[1;33m(\u001b[0m\u001b[1;34m\"outlook.application\"\u001b[0m\u001b[1;33m)\u001b[0m\u001b[1;33m\u001b[0m\u001b[1;33m\u001b[0m\u001b[0m\n\u001b[0;32m      7\u001b[0m \u001b[1;33m\u001b[0m\u001b[0m\n\u001b[1;32m----> 8\u001b[1;33m \u001b[0memail\u001b[0m \u001b[1;33m=\u001b[0m \u001b[0moutlook\u001b[0m\u001b[1;33m.\u001b[0m\u001b[0mCreateItem\u001b[0m\u001b[1;33m(\u001b[0m\u001b[1;36m0\u001b[0m\u001b[1;33m)\u001b[0m\u001b[1;33m\u001b[0m\u001b[1;33m\u001b[0m\u001b[0m\n\u001b[0m\u001b[0;32m      9\u001b[0m \u001b[1;31m# creating a new email object\u001b[0m\u001b[1;33m\u001b[0m\u001b[1;33m\u001b[0m\u001b[0m\n\u001b[0;32m     10\u001b[0m \u001b[1;33m\u001b[0m\u001b[0m\n",
      "\u001b[1;32m~\\anaconda3\\lib\\site-packages\\win32com\\client\\dynamic.py\u001b[0m in \u001b[0;36mCreateItem\u001b[1;34m(self, ItemType)\u001b[0m\n",
      "\u001b[1;31mcom_error\u001b[0m: (-2147467260, 'Operation aborted', None, None)"
     ]
    }
   ],
   "source": [
    "# now is the time to send it by email!!\n",
    "# outlook needs to be installed and set up for this\n",
    "# special package that only works on windows\n",
    "import win32com.client as win32\n",
    "\n",
    "outlook = win32.Dispatch(\"outlook.application\")\n",
    "\n",
    "email = outlook.CreateItem(0)\n",
    "# creating a new email object\n",
    "\n",
    "email.To = \"pedro.carneiro@ironhack.com\"\n",
    "email.Subject = \"This is a serious weekly report\"\n",
    "email.Body = \"\"\"Dear all,\n",
    "                Please find attached my amazing report\n",
    "                I want a raise \n",
    "                Thank you\n",
    "                Pedro\"\"\"\n",
    "# last step send with attachments \n",
    "email.Attachments.Add(Source=r\"C:\\Users\\h_wei\\OneDrive\\Dokumente\\GitHub\\Ironhack_Labs\\amazing_report.docx\")\n",
    "email.Send()\n",
    "# What is R in file path Python?\n",
    "# It just means raw string in Python. Meaning that whatever is inside the string, is the string"
   ]
  },
  {
   "cell_type": "code",
   "execution_count": null,
   "id": "04e0d452",
   "metadata": {},
   "outputs": [],
   "source": [
    "#for those who prefer gmail!! I got you covered\n",
    "#don't forget this\n",
    "# go to the email account from where you want to send (on gmail)\n",
    "# https://myaccount.google.com/lesssecureapps\n",
    "\n",
    "import smtplib\n",
    "\n",
    "server = smtplib.SMTP(\"smtp.gmail.com:587\")\n",
    "server.ehlo()\n",
    "server.starttls()\n",
    "server.login(\"peterramironhack@gmail.com\", \"unicorns123#\") #unicorns is password for gmail\n",
    "\n",
    "# send the mail\n",
    "msg = \"Hello!\" #the /n separates the message from the headers\n",
    "server.sendmail(\"peterramironhack@gmail.com\", \"pedroernie19@gmail.com\", msg)\n",
    "\n",
    "server.quit()"
   ]
  },
  {
   "cell_type": "code",
   "execution_count": null,
   "id": "9a416308",
   "metadata": {},
   "outputs": [],
   "source": []
  },
  {
   "cell_type": "code",
   "execution_count": null,
   "id": "8c5a99ba",
   "metadata": {},
   "outputs": [],
   "source": []
  },
  {
   "cell_type": "code",
   "execution_count": null,
   "id": "613be616",
   "metadata": {},
   "outputs": [],
   "source": []
  }
 ],
 "metadata": {
  "kernelspec": {
   "display_name": "Python 3 (ipykernel)",
   "language": "python",
   "name": "python3"
  },
  "language_info": {
   "codemirror_mode": {
    "name": "ipython",
    "version": 3
   },
   "file_extension": ".py",
   "mimetype": "text/x-python",
   "name": "python",
   "nbconvert_exporter": "python",
   "pygments_lexer": "ipython3",
   "version": "3.9.13"
  }
 },
 "nbformat": 4,
 "nbformat_minor": 5
}
