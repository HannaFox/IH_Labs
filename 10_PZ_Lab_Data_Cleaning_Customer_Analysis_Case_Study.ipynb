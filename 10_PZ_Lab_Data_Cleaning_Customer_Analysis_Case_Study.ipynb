{
 "cells": [
  {
   "cell_type": "markdown",
   "id": "f1ce8b81",
   "metadata": {},
   "source": [
    "# Activity 1"
   ]
  },
  {
   "cell_type": "markdown",
   "id": "e4198d09",
   "metadata": {},
   "source": [
    "### Aggregate the data into one Data Frame using Pandas"
   ]
  },
  {
   "cell_type": "markdown",
   "id": "ee02602c",
   "metadata": {},
   "source": [
    "Pay attention that files may have different names for the same column. therefore, make sure that you unify the columns names before concating them."
   ]
  },
  {
   "cell_type": "code",
   "execution_count": 1,
   "id": "be99500e",
   "metadata": {
    "ExecuteTime": {
     "end_time": "2023-01-24T15:25:43.796433Z",
     "start_time": "2023-01-24T15:25:43.540085Z"
    }
   },
   "outputs": [
    {
     "data": {
      "text/plain": [
       "Index(['Customer', 'ST', 'GENDER', 'Education', 'Customer Lifetime Value',\n",
       "       'Income', 'Monthly Premium Auto', 'Number of Open Complaints',\n",
       "       'Policy Type', 'Vehicle Class', 'Total Claim Amount'],\n",
       "      dtype='object')"
      ]
     },
     "execution_count": 1,
     "metadata": {},
     "output_type": "execute_result"
    }
   ],
   "source": [
    "import pandas as pd\n",
    "import numpy as np\n",
    "df1 = pd.read_csv(\"file1.csv\")\n",
    "df1.columns"
   ]
  },
  {
   "cell_type": "code",
   "execution_count": 2,
   "id": "0484d147",
   "metadata": {
    "ExecuteTime": {
     "end_time": "2023-01-24T15:25:43.802084Z",
     "start_time": "2023-01-24T15:25:43.797490Z"
    }
   },
   "outputs": [
    {
     "data": {
      "text/plain": [
       "Index(['Customer', 'ST', 'GENDER', 'Education', 'Customer Lifetime Value',\n",
       "       'Income', 'Monthly Premium Auto', 'Number of Open Complaints',\n",
       "       'Total Claim Amount', 'Policy Type', 'Vehicle Class'],\n",
       "      dtype='object')"
      ]
     },
     "execution_count": 2,
     "metadata": {},
     "output_type": "execute_result"
    }
   ],
   "source": [
    "df2 = pd.read_csv(\"file2.csv\")\n",
    "df2.columns"
   ]
  },
  {
   "cell_type": "code",
   "execution_count": 3,
   "id": "39a3fe91",
   "metadata": {
    "ExecuteTime": {
     "end_time": "2023-01-24T15:25:43.812415Z",
     "start_time": "2023-01-24T15:25:43.803540Z"
    }
   },
   "outputs": [
    {
     "data": {
      "text/plain": [
       "Index(['Customer', 'State', 'Customer Lifetime Value', 'Education', 'Gender',\n",
       "       'Income', 'Monthly Premium Auto', 'Number of Open Complaints',\n",
       "       'Policy Type', 'Total Claim Amount', 'Vehicle Class'],\n",
       "      dtype='object')"
      ]
     },
     "execution_count": 3,
     "metadata": {},
     "output_type": "execute_result"
    }
   ],
   "source": [
    "df3 = pd.read_csv(\"file3.csv\")\n",
    "df3.columns"
   ]
  },
  {
   "cell_type": "markdown",
   "id": "93f86c05",
   "metadata": {},
   "source": [
    "### Rename ST, GENDER in File 3 in order to concatenate everything to File 4"
   ]
  },
  {
   "cell_type": "code",
   "execution_count": 4,
   "id": "cc865c88",
   "metadata": {
    "ExecuteTime": {
     "end_time": "2023-01-24T15:25:43.816113Z",
     "start_time": "2023-01-24T15:25:43.813361Z"
    }
   },
   "outputs": [],
   "source": [
    "df3 = df3.rename(columns={\"State\":\"ST\",\"Gender\":\"GENDER\"})"
   ]
  },
  {
   "cell_type": "code",
   "execution_count": 5,
   "id": "5b21a330",
   "metadata": {
    "ExecuteTime": {
     "end_time": "2023-01-24T15:25:43.820546Z",
     "start_time": "2023-01-24T15:25:43.817125Z"
    }
   },
   "outputs": [],
   "source": [
    "file4 = pd.concat([df1,df2,df3], axis=0)"
   ]
  },
  {
   "cell_type": "code",
   "execution_count": 6,
   "id": "4dd0a87e",
   "metadata": {
    "ExecuteTime": {
     "end_time": "2023-01-24T15:25:43.822853Z",
     "start_time": "2023-01-24T15:25:43.821424Z"
    }
   },
   "outputs": [],
   "source": [
    "# (PZ) here i would use a different name from file4. maybe df would be more appropriate because it's the\n",
    "# main dataframe and not a file"
   ]
  },
  {
   "cell_type": "code",
   "execution_count": 7,
   "id": "2a6344cd",
   "metadata": {
    "ExecuteTime": {
     "end_time": "2023-01-24T15:25:43.832317Z",
     "start_time": "2023-01-24T15:25:43.823741Z"
    }
   },
   "outputs": [
    {
     "data": {
      "text/html": [
       "<div>\n",
       "<style scoped>\n",
       "    .dataframe tbody tr th:only-of-type {\n",
       "        vertical-align: middle;\n",
       "    }\n",
       "\n",
       "    .dataframe tbody tr th {\n",
       "        vertical-align: top;\n",
       "    }\n",
       "\n",
       "    .dataframe thead th {\n",
       "        text-align: right;\n",
       "    }\n",
       "</style>\n",
       "<table border=\"1\" class=\"dataframe\">\n",
       "  <thead>\n",
       "    <tr style=\"text-align: right;\">\n",
       "      <th></th>\n",
       "      <th>Customer</th>\n",
       "      <th>ST</th>\n",
       "      <th>GENDER</th>\n",
       "      <th>Education</th>\n",
       "      <th>Customer Lifetime Value</th>\n",
       "      <th>Income</th>\n",
       "      <th>Monthly Premium Auto</th>\n",
       "      <th>Number of Open Complaints</th>\n",
       "      <th>Policy Type</th>\n",
       "      <th>Vehicle Class</th>\n",
       "      <th>Total Claim Amount</th>\n",
       "    </tr>\n",
       "  </thead>\n",
       "  <tbody>\n",
       "    <tr>\n",
       "      <th>0</th>\n",
       "      <td>RB50392</td>\n",
       "      <td>Washington</td>\n",
       "      <td>NaN</td>\n",
       "      <td>Master</td>\n",
       "      <td>NaN</td>\n",
       "      <td>0.0</td>\n",
       "      <td>1000.0</td>\n",
       "      <td>1/0/00</td>\n",
       "      <td>Personal Auto</td>\n",
       "      <td>Four-Door Car</td>\n",
       "      <td>2.704934</td>\n",
       "    </tr>\n",
       "    <tr>\n",
       "      <th>1</th>\n",
       "      <td>QZ44356</td>\n",
       "      <td>Arizona</td>\n",
       "      <td>F</td>\n",
       "      <td>Bachelor</td>\n",
       "      <td>697953.59%</td>\n",
       "      <td>0.0</td>\n",
       "      <td>94.0</td>\n",
       "      <td>1/0/00</td>\n",
       "      <td>Personal Auto</td>\n",
       "      <td>Four-Door Car</td>\n",
       "      <td>1131.464935</td>\n",
       "    </tr>\n",
       "    <tr>\n",
       "      <th>2</th>\n",
       "      <td>AI49188</td>\n",
       "      <td>Nevada</td>\n",
       "      <td>F</td>\n",
       "      <td>Bachelor</td>\n",
       "      <td>1288743.17%</td>\n",
       "      <td>48767.0</td>\n",
       "      <td>108.0</td>\n",
       "      <td>1/0/00</td>\n",
       "      <td>Personal Auto</td>\n",
       "      <td>Two-Door Car</td>\n",
       "      <td>566.472247</td>\n",
       "    </tr>\n",
       "    <tr>\n",
       "      <th>3</th>\n",
       "      <td>WW63253</td>\n",
       "      <td>California</td>\n",
       "      <td>M</td>\n",
       "      <td>Bachelor</td>\n",
       "      <td>764586.18%</td>\n",
       "      <td>0.0</td>\n",
       "      <td>106.0</td>\n",
       "      <td>1/0/00</td>\n",
       "      <td>Corporate Auto</td>\n",
       "      <td>SUV</td>\n",
       "      <td>529.881344</td>\n",
       "    </tr>\n",
       "    <tr>\n",
       "      <th>4</th>\n",
       "      <td>GA49547</td>\n",
       "      <td>Washington</td>\n",
       "      <td>M</td>\n",
       "      <td>High School or Below</td>\n",
       "      <td>536307.65%</td>\n",
       "      <td>36357.0</td>\n",
       "      <td>68.0</td>\n",
       "      <td>1/0/00</td>\n",
       "      <td>Personal Auto</td>\n",
       "      <td>Four-Door Car</td>\n",
       "      <td>17.269323</td>\n",
       "    </tr>\n",
       "    <tr>\n",
       "      <th>...</th>\n",
       "      <td>...</td>\n",
       "      <td>...</td>\n",
       "      <td>...</td>\n",
       "      <td>...</td>\n",
       "      <td>...</td>\n",
       "      <td>...</td>\n",
       "      <td>...</td>\n",
       "      <td>...</td>\n",
       "      <td>...</td>\n",
       "      <td>...</td>\n",
       "      <td>...</td>\n",
       "    </tr>\n",
       "    <tr>\n",
       "      <th>7065</th>\n",
       "      <td>LA72316</td>\n",
       "      <td>California</td>\n",
       "      <td>M</td>\n",
       "      <td>Bachelor</td>\n",
       "      <td>23405.98798</td>\n",
       "      <td>71941.0</td>\n",
       "      <td>73.0</td>\n",
       "      <td>0</td>\n",
       "      <td>Personal Auto</td>\n",
       "      <td>Four-Door Car</td>\n",
       "      <td>198.234764</td>\n",
       "    </tr>\n",
       "    <tr>\n",
       "      <th>7066</th>\n",
       "      <td>PK87824</td>\n",
       "      <td>California</td>\n",
       "      <td>F</td>\n",
       "      <td>College</td>\n",
       "      <td>3096.511217</td>\n",
       "      <td>21604.0</td>\n",
       "      <td>79.0</td>\n",
       "      <td>0</td>\n",
       "      <td>Corporate Auto</td>\n",
       "      <td>Four-Door Car</td>\n",
       "      <td>379.200000</td>\n",
       "    </tr>\n",
       "    <tr>\n",
       "      <th>7067</th>\n",
       "      <td>TD14365</td>\n",
       "      <td>California</td>\n",
       "      <td>M</td>\n",
       "      <td>Bachelor</td>\n",
       "      <td>8163.890428</td>\n",
       "      <td>0.0</td>\n",
       "      <td>85.0</td>\n",
       "      <td>3</td>\n",
       "      <td>Corporate Auto</td>\n",
       "      <td>Four-Door Car</td>\n",
       "      <td>790.784983</td>\n",
       "    </tr>\n",
       "    <tr>\n",
       "      <th>7068</th>\n",
       "      <td>UP19263</td>\n",
       "      <td>California</td>\n",
       "      <td>M</td>\n",
       "      <td>College</td>\n",
       "      <td>7524.442436</td>\n",
       "      <td>21941.0</td>\n",
       "      <td>96.0</td>\n",
       "      <td>0</td>\n",
       "      <td>Personal Auto</td>\n",
       "      <td>Four-Door Car</td>\n",
       "      <td>691.200000</td>\n",
       "    </tr>\n",
       "    <tr>\n",
       "      <th>7069</th>\n",
       "      <td>Y167826</td>\n",
       "      <td>California</td>\n",
       "      <td>M</td>\n",
       "      <td>College</td>\n",
       "      <td>2611.836866</td>\n",
       "      <td>0.0</td>\n",
       "      <td>77.0</td>\n",
       "      <td>0</td>\n",
       "      <td>Corporate Auto</td>\n",
       "      <td>Two-Door Car</td>\n",
       "      <td>369.600000</td>\n",
       "    </tr>\n",
       "  </tbody>\n",
       "</table>\n",
       "<p>12074 rows × 11 columns</p>\n",
       "</div>"
      ],
      "text/plain": [
       "     Customer          ST GENDER             Education  \\\n",
       "0     RB50392  Washington    NaN                Master   \n",
       "1     QZ44356     Arizona      F              Bachelor   \n",
       "2     AI49188      Nevada      F              Bachelor   \n",
       "3     WW63253  California      M              Bachelor   \n",
       "4     GA49547  Washington      M  High School or Below   \n",
       "...       ...         ...    ...                   ...   \n",
       "7065  LA72316  California      M              Bachelor   \n",
       "7066  PK87824  California      F               College   \n",
       "7067  TD14365  California      M              Bachelor   \n",
       "7068  UP19263  California      M               College   \n",
       "7069  Y167826  California      M               College   \n",
       "\n",
       "     Customer Lifetime Value   Income  Monthly Premium Auto  \\\n",
       "0                        NaN      0.0                1000.0   \n",
       "1                 697953.59%      0.0                  94.0   \n",
       "2                1288743.17%  48767.0                 108.0   \n",
       "3                 764586.18%      0.0                 106.0   \n",
       "4                 536307.65%  36357.0                  68.0   \n",
       "...                      ...      ...                   ...   \n",
       "7065             23405.98798  71941.0                  73.0   \n",
       "7066             3096.511217  21604.0                  79.0   \n",
       "7067             8163.890428      0.0                  85.0   \n",
       "7068             7524.442436  21941.0                  96.0   \n",
       "7069             2611.836866      0.0                  77.0   \n",
       "\n",
       "     Number of Open Complaints     Policy Type  Vehicle Class  \\\n",
       "0                       1/0/00   Personal Auto  Four-Door Car   \n",
       "1                       1/0/00   Personal Auto  Four-Door Car   \n",
       "2                       1/0/00   Personal Auto   Two-Door Car   \n",
       "3                       1/0/00  Corporate Auto            SUV   \n",
       "4                       1/0/00   Personal Auto  Four-Door Car   \n",
       "...                        ...             ...            ...   \n",
       "7065                         0   Personal Auto  Four-Door Car   \n",
       "7066                         0  Corporate Auto  Four-Door Car   \n",
       "7067                         3  Corporate Auto  Four-Door Car   \n",
       "7068                         0   Personal Auto  Four-Door Car   \n",
       "7069                         0  Corporate Auto   Two-Door Car   \n",
       "\n",
       "      Total Claim Amount  \n",
       "0               2.704934  \n",
       "1            1131.464935  \n",
       "2             566.472247  \n",
       "3             529.881344  \n",
       "4              17.269323  \n",
       "...                  ...  \n",
       "7065          198.234764  \n",
       "7066          379.200000  \n",
       "7067          790.784983  \n",
       "7068          691.200000  \n",
       "7069          369.600000  \n",
       "\n",
       "[12074 rows x 11 columns]"
      ]
     },
     "execution_count": 7,
     "metadata": {},
     "output_type": "execute_result"
    }
   ],
   "source": [
    "file4"
   ]
  },
  {
   "cell_type": "code",
   "execution_count": 8,
   "id": "c70d3c78",
   "metadata": {
    "ExecuteTime": {
     "end_time": "2023-01-24T15:25:43.846483Z",
     "start_time": "2023-01-24T15:25:43.834902Z"
    }
   },
   "outputs": [
    {
     "name": "stdout",
     "output_type": "stream",
     "text": [
      "<class 'pandas.core.frame.DataFrame'>\n",
      "Int64Index: 12074 entries, 0 to 7069\n",
      "Data columns (total 11 columns):\n",
      " #   Column                     Non-Null Count  Dtype  \n",
      "---  ------                     --------------  -----  \n",
      " 0   Customer                   9137 non-null   object \n",
      " 1   ST                         9137 non-null   object \n",
      " 2   GENDER                     9015 non-null   object \n",
      " 3   Education                  9137 non-null   object \n",
      " 4   Customer Lifetime Value    9130 non-null   object \n",
      " 5   Income                     9137 non-null   float64\n",
      " 6   Monthly Premium Auto       9137 non-null   float64\n",
      " 7   Number of Open Complaints  9137 non-null   object \n",
      " 8   Policy Type                9137 non-null   object \n",
      " 9   Vehicle Class              9137 non-null   object \n",
      " 10  Total Claim Amount         9137 non-null   float64\n",
      "dtypes: float64(3), object(8)\n",
      "memory usage: 1.1+ MB\n"
     ]
    }
   ],
   "source": [
    "file4.info()"
   ]
  },
  {
   "cell_type": "code",
   "execution_count": 9,
   "id": "066463dd",
   "metadata": {
    "ExecuteTime": {
     "end_time": "2023-01-24T15:25:43.850583Z",
     "start_time": "2023-01-24T15:25:43.847876Z"
    }
   },
   "outputs": [],
   "source": [
    "file4.rename(columns={\"ST\":\"State\",\"GENDER\":\"Gender\"},inplace=True)"
   ]
  },
  {
   "cell_type": "code",
   "execution_count": 10,
   "id": "a20941d7",
   "metadata": {
    "ExecuteTime": {
     "end_time": "2023-01-24T15:25:43.862618Z",
     "start_time": "2023-01-24T15:25:43.851628Z"
    }
   },
   "outputs": [
    {
     "name": "stdout",
     "output_type": "stream",
     "text": [
      "<class 'pandas.core.frame.DataFrame'>\n",
      "Int64Index: 12074 entries, 0 to 7069\n",
      "Data columns (total 11 columns):\n",
      " #   Column                     Non-Null Count  Dtype  \n",
      "---  ------                     --------------  -----  \n",
      " 0   Customer                   9137 non-null   object \n",
      " 1   State                      9137 non-null   object \n",
      " 2   Gender                     9015 non-null   object \n",
      " 3   Education                  9137 non-null   object \n",
      " 4   Customer Lifetime Value    9130 non-null   object \n",
      " 5   Income                     9137 non-null   float64\n",
      " 6   Monthly Premium Auto       9137 non-null   float64\n",
      " 7   Number of Open Complaints  9137 non-null   object \n",
      " 8   Policy Type                9137 non-null   object \n",
      " 9   Vehicle Class              9137 non-null   object \n",
      " 10  Total Claim Amount         9137 non-null   float64\n",
      "dtypes: float64(3), object(8)\n",
      "memory usage: 1.1+ MB\n"
     ]
    }
   ],
   "source": [
    "file4.info()"
   ]
  },
  {
   "cell_type": "markdown",
   "id": "95ea9bf5",
   "metadata": {},
   "source": [
    "### Standardizing header names"
   ]
  },
  {
   "cell_type": "code",
   "execution_count": 11,
   "id": "c6ae5c13",
   "metadata": {
    "ExecuteTime": {
     "end_time": "2023-01-24T15:25:43.867414Z",
     "start_time": "2023-01-24T15:25:43.863745Z"
    }
   },
   "outputs": [],
   "source": [
    "def standardizing_header_names(file4):\n",
    "    \"\"\"makes everything lower case\"\"\"\n",
    "    file4.columns=[i.lower() for i in file4.columns]\n",
    "    return file4"
   ]
  },
  {
   "cell_type": "code",
   "execution_count": 12,
   "id": "f3debab5",
   "metadata": {
    "ExecuteTime": {
     "end_time": "2023-01-24T15:25:43.875396Z",
     "start_time": "2023-01-24T15:25:43.868366Z"
    }
   },
   "outputs": [
    {
     "data": {
      "text/html": [
       "<div>\n",
       "<style scoped>\n",
       "    .dataframe tbody tr th:only-of-type {\n",
       "        vertical-align: middle;\n",
       "    }\n",
       "\n",
       "    .dataframe tbody tr th {\n",
       "        vertical-align: top;\n",
       "    }\n",
       "\n",
       "    .dataframe thead th {\n",
       "        text-align: right;\n",
       "    }\n",
       "</style>\n",
       "<table border=\"1\" class=\"dataframe\">\n",
       "  <thead>\n",
       "    <tr style=\"text-align: right;\">\n",
       "      <th></th>\n",
       "      <th>customer</th>\n",
       "      <th>state</th>\n",
       "      <th>gender</th>\n",
       "      <th>education</th>\n",
       "      <th>customer lifetime value</th>\n",
       "      <th>income</th>\n",
       "      <th>monthly premium auto</th>\n",
       "      <th>number of open complaints</th>\n",
       "      <th>policy type</th>\n",
       "      <th>vehicle class</th>\n",
       "      <th>total claim amount</th>\n",
       "    </tr>\n",
       "  </thead>\n",
       "  <tbody>\n",
       "    <tr>\n",
       "      <th>0</th>\n",
       "      <td>RB50392</td>\n",
       "      <td>Washington</td>\n",
       "      <td>NaN</td>\n",
       "      <td>Master</td>\n",
       "      <td>NaN</td>\n",
       "      <td>0.0</td>\n",
       "      <td>1000.0</td>\n",
       "      <td>1/0/00</td>\n",
       "      <td>Personal Auto</td>\n",
       "      <td>Four-Door Car</td>\n",
       "      <td>2.704934</td>\n",
       "    </tr>\n",
       "    <tr>\n",
       "      <th>1</th>\n",
       "      <td>QZ44356</td>\n",
       "      <td>Arizona</td>\n",
       "      <td>F</td>\n",
       "      <td>Bachelor</td>\n",
       "      <td>697953.59%</td>\n",
       "      <td>0.0</td>\n",
       "      <td>94.0</td>\n",
       "      <td>1/0/00</td>\n",
       "      <td>Personal Auto</td>\n",
       "      <td>Four-Door Car</td>\n",
       "      <td>1131.464935</td>\n",
       "    </tr>\n",
       "    <tr>\n",
       "      <th>2</th>\n",
       "      <td>AI49188</td>\n",
       "      <td>Nevada</td>\n",
       "      <td>F</td>\n",
       "      <td>Bachelor</td>\n",
       "      <td>1288743.17%</td>\n",
       "      <td>48767.0</td>\n",
       "      <td>108.0</td>\n",
       "      <td>1/0/00</td>\n",
       "      <td>Personal Auto</td>\n",
       "      <td>Two-Door Car</td>\n",
       "      <td>566.472247</td>\n",
       "    </tr>\n",
       "    <tr>\n",
       "      <th>3</th>\n",
       "      <td>WW63253</td>\n",
       "      <td>California</td>\n",
       "      <td>M</td>\n",
       "      <td>Bachelor</td>\n",
       "      <td>764586.18%</td>\n",
       "      <td>0.0</td>\n",
       "      <td>106.0</td>\n",
       "      <td>1/0/00</td>\n",
       "      <td>Corporate Auto</td>\n",
       "      <td>SUV</td>\n",
       "      <td>529.881344</td>\n",
       "    </tr>\n",
       "    <tr>\n",
       "      <th>4</th>\n",
       "      <td>GA49547</td>\n",
       "      <td>Washington</td>\n",
       "      <td>M</td>\n",
       "      <td>High School or Below</td>\n",
       "      <td>536307.65%</td>\n",
       "      <td>36357.0</td>\n",
       "      <td>68.0</td>\n",
       "      <td>1/0/00</td>\n",
       "      <td>Personal Auto</td>\n",
       "      <td>Four-Door Car</td>\n",
       "      <td>17.269323</td>\n",
       "    </tr>\n",
       "    <tr>\n",
       "      <th>...</th>\n",
       "      <td>...</td>\n",
       "      <td>...</td>\n",
       "      <td>...</td>\n",
       "      <td>...</td>\n",
       "      <td>...</td>\n",
       "      <td>...</td>\n",
       "      <td>...</td>\n",
       "      <td>...</td>\n",
       "      <td>...</td>\n",
       "      <td>...</td>\n",
       "      <td>...</td>\n",
       "    </tr>\n",
       "    <tr>\n",
       "      <th>7065</th>\n",
       "      <td>LA72316</td>\n",
       "      <td>California</td>\n",
       "      <td>M</td>\n",
       "      <td>Bachelor</td>\n",
       "      <td>23405.98798</td>\n",
       "      <td>71941.0</td>\n",
       "      <td>73.0</td>\n",
       "      <td>0</td>\n",
       "      <td>Personal Auto</td>\n",
       "      <td>Four-Door Car</td>\n",
       "      <td>198.234764</td>\n",
       "    </tr>\n",
       "    <tr>\n",
       "      <th>7066</th>\n",
       "      <td>PK87824</td>\n",
       "      <td>California</td>\n",
       "      <td>F</td>\n",
       "      <td>College</td>\n",
       "      <td>3096.511217</td>\n",
       "      <td>21604.0</td>\n",
       "      <td>79.0</td>\n",
       "      <td>0</td>\n",
       "      <td>Corporate Auto</td>\n",
       "      <td>Four-Door Car</td>\n",
       "      <td>379.200000</td>\n",
       "    </tr>\n",
       "    <tr>\n",
       "      <th>7067</th>\n",
       "      <td>TD14365</td>\n",
       "      <td>California</td>\n",
       "      <td>M</td>\n",
       "      <td>Bachelor</td>\n",
       "      <td>8163.890428</td>\n",
       "      <td>0.0</td>\n",
       "      <td>85.0</td>\n",
       "      <td>3</td>\n",
       "      <td>Corporate Auto</td>\n",
       "      <td>Four-Door Car</td>\n",
       "      <td>790.784983</td>\n",
       "    </tr>\n",
       "    <tr>\n",
       "      <th>7068</th>\n",
       "      <td>UP19263</td>\n",
       "      <td>California</td>\n",
       "      <td>M</td>\n",
       "      <td>College</td>\n",
       "      <td>7524.442436</td>\n",
       "      <td>21941.0</td>\n",
       "      <td>96.0</td>\n",
       "      <td>0</td>\n",
       "      <td>Personal Auto</td>\n",
       "      <td>Four-Door Car</td>\n",
       "      <td>691.200000</td>\n",
       "    </tr>\n",
       "    <tr>\n",
       "      <th>7069</th>\n",
       "      <td>Y167826</td>\n",
       "      <td>California</td>\n",
       "      <td>M</td>\n",
       "      <td>College</td>\n",
       "      <td>2611.836866</td>\n",
       "      <td>0.0</td>\n",
       "      <td>77.0</td>\n",
       "      <td>0</td>\n",
       "      <td>Corporate Auto</td>\n",
       "      <td>Two-Door Car</td>\n",
       "      <td>369.600000</td>\n",
       "    </tr>\n",
       "  </tbody>\n",
       "</table>\n",
       "<p>12074 rows × 11 columns</p>\n",
       "</div>"
      ],
      "text/plain": [
       "     customer       state gender             education  \\\n",
       "0     RB50392  Washington    NaN                Master   \n",
       "1     QZ44356     Arizona      F              Bachelor   \n",
       "2     AI49188      Nevada      F              Bachelor   \n",
       "3     WW63253  California      M              Bachelor   \n",
       "4     GA49547  Washington      M  High School or Below   \n",
       "...       ...         ...    ...                   ...   \n",
       "7065  LA72316  California      M              Bachelor   \n",
       "7066  PK87824  California      F               College   \n",
       "7067  TD14365  California      M              Bachelor   \n",
       "7068  UP19263  California      M               College   \n",
       "7069  Y167826  California      M               College   \n",
       "\n",
       "     customer lifetime value   income  monthly premium auto  \\\n",
       "0                        NaN      0.0                1000.0   \n",
       "1                 697953.59%      0.0                  94.0   \n",
       "2                1288743.17%  48767.0                 108.0   \n",
       "3                 764586.18%      0.0                 106.0   \n",
       "4                 536307.65%  36357.0                  68.0   \n",
       "...                      ...      ...                   ...   \n",
       "7065             23405.98798  71941.0                  73.0   \n",
       "7066             3096.511217  21604.0                  79.0   \n",
       "7067             8163.890428      0.0                  85.0   \n",
       "7068             7524.442436  21941.0                  96.0   \n",
       "7069             2611.836866      0.0                  77.0   \n",
       "\n",
       "     number of open complaints     policy type  vehicle class  \\\n",
       "0                       1/0/00   Personal Auto  Four-Door Car   \n",
       "1                       1/0/00   Personal Auto  Four-Door Car   \n",
       "2                       1/0/00   Personal Auto   Two-Door Car   \n",
       "3                       1/0/00  Corporate Auto            SUV   \n",
       "4                       1/0/00   Personal Auto  Four-Door Car   \n",
       "...                        ...             ...            ...   \n",
       "7065                         0   Personal Auto  Four-Door Car   \n",
       "7066                         0  Corporate Auto  Four-Door Car   \n",
       "7067                         3  Corporate Auto  Four-Door Car   \n",
       "7068                         0   Personal Auto  Four-Door Car   \n",
       "7069                         0  Corporate Auto   Two-Door Car   \n",
       "\n",
       "      total claim amount  \n",
       "0               2.704934  \n",
       "1            1131.464935  \n",
       "2             566.472247  \n",
       "3             529.881344  \n",
       "4              17.269323  \n",
       "...                  ...  \n",
       "7065          198.234764  \n",
       "7066          379.200000  \n",
       "7067          790.784983  \n",
       "7068          691.200000  \n",
       "7069          369.600000  \n",
       "\n",
       "[12074 rows x 11 columns]"
      ]
     },
     "execution_count": 12,
     "metadata": {},
     "output_type": "execute_result"
    }
   ],
   "source": [
    "standardizing_header_names(file4)"
   ]
  },
  {
   "cell_type": "markdown",
   "id": "2b02efe4",
   "metadata": {},
   "source": [
    "### Removing duplicates"
   ]
  },
  {
   "cell_type": "code",
   "execution_count": 13,
   "id": "62146d11",
   "metadata": {
    "ExecuteTime": {
     "end_time": "2023-01-24T15:25:43.886536Z",
     "start_time": "2023-01-24T15:25:43.876348Z"
    }
   },
   "outputs": [],
   "source": [
    "file4 = file4.drop_duplicates()"
   ]
  },
  {
   "cell_type": "code",
   "execution_count": 14,
   "id": "3cbaa8b9",
   "metadata": {
    "ExecuteTime": {
     "end_time": "2023-01-24T15:25:43.893940Z",
     "start_time": "2023-01-24T15:25:43.887403Z"
    }
   },
   "outputs": [
    {
     "data": {
      "text/html": [
       "<div>\n",
       "<style scoped>\n",
       "    .dataframe tbody tr th:only-of-type {\n",
       "        vertical-align: middle;\n",
       "    }\n",
       "\n",
       "    .dataframe tbody tr th {\n",
       "        vertical-align: top;\n",
       "    }\n",
       "\n",
       "    .dataframe thead th {\n",
       "        text-align: right;\n",
       "    }\n",
       "</style>\n",
       "<table border=\"1\" class=\"dataframe\">\n",
       "  <thead>\n",
       "    <tr style=\"text-align: right;\">\n",
       "      <th></th>\n",
       "      <th>customer</th>\n",
       "      <th>state</th>\n",
       "      <th>gender</th>\n",
       "      <th>education</th>\n",
       "      <th>customer lifetime value</th>\n",
       "      <th>income</th>\n",
       "      <th>monthly premium auto</th>\n",
       "      <th>number of open complaints</th>\n",
       "      <th>policy type</th>\n",
       "      <th>vehicle class</th>\n",
       "      <th>total claim amount</th>\n",
       "    </tr>\n",
       "  </thead>\n",
       "  <tbody>\n",
       "    <tr>\n",
       "      <th>0</th>\n",
       "      <td>RB50392</td>\n",
       "      <td>Washington</td>\n",
       "      <td>NaN</td>\n",
       "      <td>Master</td>\n",
       "      <td>NaN</td>\n",
       "      <td>0.0</td>\n",
       "      <td>1000.0</td>\n",
       "      <td>1/0/00</td>\n",
       "      <td>Personal Auto</td>\n",
       "      <td>Four-Door Car</td>\n",
       "      <td>2.704934</td>\n",
       "    </tr>\n",
       "    <tr>\n",
       "      <th>1</th>\n",
       "      <td>QZ44356</td>\n",
       "      <td>Arizona</td>\n",
       "      <td>F</td>\n",
       "      <td>Bachelor</td>\n",
       "      <td>697953.59%</td>\n",
       "      <td>0.0</td>\n",
       "      <td>94.0</td>\n",
       "      <td>1/0/00</td>\n",
       "      <td>Personal Auto</td>\n",
       "      <td>Four-Door Car</td>\n",
       "      <td>1131.464935</td>\n",
       "    </tr>\n",
       "    <tr>\n",
       "      <th>2</th>\n",
       "      <td>AI49188</td>\n",
       "      <td>Nevada</td>\n",
       "      <td>F</td>\n",
       "      <td>Bachelor</td>\n",
       "      <td>1288743.17%</td>\n",
       "      <td>48767.0</td>\n",
       "      <td>108.0</td>\n",
       "      <td>1/0/00</td>\n",
       "      <td>Personal Auto</td>\n",
       "      <td>Two-Door Car</td>\n",
       "      <td>566.472247</td>\n",
       "    </tr>\n",
       "    <tr>\n",
       "      <th>3</th>\n",
       "      <td>WW63253</td>\n",
       "      <td>California</td>\n",
       "      <td>M</td>\n",
       "      <td>Bachelor</td>\n",
       "      <td>764586.18%</td>\n",
       "      <td>0.0</td>\n",
       "      <td>106.0</td>\n",
       "      <td>1/0/00</td>\n",
       "      <td>Corporate Auto</td>\n",
       "      <td>SUV</td>\n",
       "      <td>529.881344</td>\n",
       "    </tr>\n",
       "    <tr>\n",
       "      <th>4</th>\n",
       "      <td>GA49547</td>\n",
       "      <td>Washington</td>\n",
       "      <td>M</td>\n",
       "      <td>High School or Below</td>\n",
       "      <td>536307.65%</td>\n",
       "      <td>36357.0</td>\n",
       "      <td>68.0</td>\n",
       "      <td>1/0/00</td>\n",
       "      <td>Personal Auto</td>\n",
       "      <td>Four-Door Car</td>\n",
       "      <td>17.269323</td>\n",
       "    </tr>\n",
       "    <tr>\n",
       "      <th>...</th>\n",
       "      <td>...</td>\n",
       "      <td>...</td>\n",
       "      <td>...</td>\n",
       "      <td>...</td>\n",
       "      <td>...</td>\n",
       "      <td>...</td>\n",
       "      <td>...</td>\n",
       "      <td>...</td>\n",
       "      <td>...</td>\n",
       "      <td>...</td>\n",
       "      <td>...</td>\n",
       "    </tr>\n",
       "    <tr>\n",
       "      <th>7065</th>\n",
       "      <td>LA72316</td>\n",
       "      <td>California</td>\n",
       "      <td>M</td>\n",
       "      <td>Bachelor</td>\n",
       "      <td>23405.98798</td>\n",
       "      <td>71941.0</td>\n",
       "      <td>73.0</td>\n",
       "      <td>0</td>\n",
       "      <td>Personal Auto</td>\n",
       "      <td>Four-Door Car</td>\n",
       "      <td>198.234764</td>\n",
       "    </tr>\n",
       "    <tr>\n",
       "      <th>7066</th>\n",
       "      <td>PK87824</td>\n",
       "      <td>California</td>\n",
       "      <td>F</td>\n",
       "      <td>College</td>\n",
       "      <td>3096.511217</td>\n",
       "      <td>21604.0</td>\n",
       "      <td>79.0</td>\n",
       "      <td>0</td>\n",
       "      <td>Corporate Auto</td>\n",
       "      <td>Four-Door Car</td>\n",
       "      <td>379.200000</td>\n",
       "    </tr>\n",
       "    <tr>\n",
       "      <th>7067</th>\n",
       "      <td>TD14365</td>\n",
       "      <td>California</td>\n",
       "      <td>M</td>\n",
       "      <td>Bachelor</td>\n",
       "      <td>8163.890428</td>\n",
       "      <td>0.0</td>\n",
       "      <td>85.0</td>\n",
       "      <td>3</td>\n",
       "      <td>Corporate Auto</td>\n",
       "      <td>Four-Door Car</td>\n",
       "      <td>790.784983</td>\n",
       "    </tr>\n",
       "    <tr>\n",
       "      <th>7068</th>\n",
       "      <td>UP19263</td>\n",
       "      <td>California</td>\n",
       "      <td>M</td>\n",
       "      <td>College</td>\n",
       "      <td>7524.442436</td>\n",
       "      <td>21941.0</td>\n",
       "      <td>96.0</td>\n",
       "      <td>0</td>\n",
       "      <td>Personal Auto</td>\n",
       "      <td>Four-Door Car</td>\n",
       "      <td>691.200000</td>\n",
       "    </tr>\n",
       "    <tr>\n",
       "      <th>7069</th>\n",
       "      <td>Y167826</td>\n",
       "      <td>California</td>\n",
       "      <td>M</td>\n",
       "      <td>College</td>\n",
       "      <td>2611.836866</td>\n",
       "      <td>0.0</td>\n",
       "      <td>77.0</td>\n",
       "      <td>0</td>\n",
       "      <td>Corporate Auto</td>\n",
       "      <td>Two-Door Car</td>\n",
       "      <td>369.600000</td>\n",
       "    </tr>\n",
       "  </tbody>\n",
       "</table>\n",
       "<p>9135 rows × 11 columns</p>\n",
       "</div>"
      ],
      "text/plain": [
       "     customer       state gender             education  \\\n",
       "0     RB50392  Washington    NaN                Master   \n",
       "1     QZ44356     Arizona      F              Bachelor   \n",
       "2     AI49188      Nevada      F              Bachelor   \n",
       "3     WW63253  California      M              Bachelor   \n",
       "4     GA49547  Washington      M  High School or Below   \n",
       "...       ...         ...    ...                   ...   \n",
       "7065  LA72316  California      M              Bachelor   \n",
       "7066  PK87824  California      F               College   \n",
       "7067  TD14365  California      M              Bachelor   \n",
       "7068  UP19263  California      M               College   \n",
       "7069  Y167826  California      M               College   \n",
       "\n",
       "     customer lifetime value   income  monthly premium auto  \\\n",
       "0                        NaN      0.0                1000.0   \n",
       "1                 697953.59%      0.0                  94.0   \n",
       "2                1288743.17%  48767.0                 108.0   \n",
       "3                 764586.18%      0.0                 106.0   \n",
       "4                 536307.65%  36357.0                  68.0   \n",
       "...                      ...      ...                   ...   \n",
       "7065             23405.98798  71941.0                  73.0   \n",
       "7066             3096.511217  21604.0                  79.0   \n",
       "7067             8163.890428      0.0                  85.0   \n",
       "7068             7524.442436  21941.0                  96.0   \n",
       "7069             2611.836866      0.0                  77.0   \n",
       "\n",
       "     number of open complaints     policy type  vehicle class  \\\n",
       "0                       1/0/00   Personal Auto  Four-Door Car   \n",
       "1                       1/0/00   Personal Auto  Four-Door Car   \n",
       "2                       1/0/00   Personal Auto   Two-Door Car   \n",
       "3                       1/0/00  Corporate Auto            SUV   \n",
       "4                       1/0/00   Personal Auto  Four-Door Car   \n",
       "...                        ...             ...            ...   \n",
       "7065                         0   Personal Auto  Four-Door Car   \n",
       "7066                         0  Corporate Auto  Four-Door Car   \n",
       "7067                         3  Corporate Auto  Four-Door Car   \n",
       "7068                         0   Personal Auto  Four-Door Car   \n",
       "7069                         0  Corporate Auto   Two-Door Car   \n",
       "\n",
       "      total claim amount  \n",
       "0               2.704934  \n",
       "1            1131.464935  \n",
       "2             566.472247  \n",
       "3             529.881344  \n",
       "4              17.269323  \n",
       "...                  ...  \n",
       "7065          198.234764  \n",
       "7066          379.200000  \n",
       "7067          790.784983  \n",
       "7068          691.200000  \n",
       "7069          369.600000  \n",
       "\n",
       "[9135 rows x 11 columns]"
      ]
     },
     "execution_count": 14,
     "metadata": {},
     "output_type": "execute_result"
    }
   ],
   "source": [
    "file4"
   ]
  },
  {
   "cell_type": "markdown",
   "id": "b2572c8a",
   "metadata": {},
   "source": [
    "### Dropping column customer as it is only a unique identifier for each row of data"
   ]
  },
  {
   "cell_type": "code",
   "execution_count": 15,
   "id": "d4123cef",
   "metadata": {
    "ExecuteTime": {
     "end_time": "2023-01-24T15:25:43.896565Z",
     "start_time": "2023-01-24T15:25:43.894923Z"
    }
   },
   "outputs": [],
   "source": [
    "def drop_column(file4) :\n",
    "    file4.drop(columns=[\"customer\"], inplace=True)\n",
    "    return file4"
   ]
  },
  {
   "cell_type": "code",
   "execution_count": 16,
   "id": "9bb710db",
   "metadata": {
    "ExecuteTime": {
     "end_time": "2023-01-24T15:25:43.986691Z",
     "start_time": "2023-01-24T15:25:43.897479Z"
    }
   },
   "outputs": [
    {
     "name": "stderr",
     "output_type": "stream",
     "text": [
      "/var/folders/lj/my6r3k650wl54v5nz5r6x5cm0000gn/T/ipykernel_41054/3625064585.py:1: SettingWithCopyWarning: \n",
      "A value is trying to be set on a copy of a slice from a DataFrame\n",
      "\n",
      "See the caveats in the documentation: https://pandas.pydata.org/pandas-docs/stable/user_guide/indexing.html#returning-a-view-versus-a-copy\n",
      "  file4.drop(columns='customer', inplace=True)\n"
     ]
    }
   ],
   "source": [
    "file4.drop(columns='customer', inplace=True)"
   ]
  },
  {
   "cell_type": "markdown",
   "id": "8ba55303",
   "metadata": {},
   "source": [
    "### Rearranging columns"
   ]
  },
  {
   "cell_type": "code",
   "execution_count": 17,
   "id": "f96543b6",
   "metadata": {
    "ExecuteTime": {
     "end_time": "2023-01-24T15:25:43.989060Z",
     "start_time": "2023-01-24T15:25:43.987687Z"
    }
   },
   "outputs": [],
   "source": [
    "# (PZ)  is it necessary to rearrange columns in order to merge?"
   ]
  },
  {
   "cell_type": "code",
   "execution_count": 18,
   "id": "feb577ab",
   "metadata": {
    "ExecuteTime": {
     "end_time": "2023-01-24T15:25:43.991954Z",
     "start_time": "2023-01-24T15:25:43.989797Z"
    }
   },
   "outputs": [
    {
     "data": {
      "text/plain": [
       "['state',\n",
       " 'gender',\n",
       " 'education',\n",
       " 'customer lifetime value',\n",
       " 'income',\n",
       " 'monthly premium auto',\n",
       " 'number of open complaints',\n",
       " 'policy type',\n",
       " 'vehicle class',\n",
       " 'total claim amount']"
      ]
     },
     "execution_count": 18,
     "metadata": {},
     "output_type": "execute_result"
    }
   ],
   "source": [
    "list(file4.columns)"
   ]
  },
  {
   "cell_type": "code",
   "execution_count": 19,
   "id": "1ca95dc7",
   "metadata": {
    "ExecuteTime": {
     "end_time": "2023-01-24T15:25:43.995095Z",
     "start_time": "2023-01-24T15:25:43.992760Z"
    }
   },
   "outputs": [],
   "source": [
    "file4 = file4[['gender','state','education','income','customer lifetime value','policy type','vehicle class','monthly premium auto','total claim amount','number of open complaints']]"
   ]
  },
  {
   "cell_type": "code",
   "execution_count": 20,
   "id": "953d3695",
   "metadata": {
    "ExecuteTime": {
     "end_time": "2023-01-24T15:25:44.002564Z",
     "start_time": "2023-01-24T15:25:43.995993Z"
    }
   },
   "outputs": [
    {
     "data": {
      "text/html": [
       "<div>\n",
       "<style scoped>\n",
       "    .dataframe tbody tr th:only-of-type {\n",
       "        vertical-align: middle;\n",
       "    }\n",
       "\n",
       "    .dataframe tbody tr th {\n",
       "        vertical-align: top;\n",
       "    }\n",
       "\n",
       "    .dataframe thead th {\n",
       "        text-align: right;\n",
       "    }\n",
       "</style>\n",
       "<table border=\"1\" class=\"dataframe\">\n",
       "  <thead>\n",
       "    <tr style=\"text-align: right;\">\n",
       "      <th></th>\n",
       "      <th>gender</th>\n",
       "      <th>state</th>\n",
       "      <th>education</th>\n",
       "      <th>income</th>\n",
       "      <th>customer lifetime value</th>\n",
       "      <th>policy type</th>\n",
       "      <th>vehicle class</th>\n",
       "      <th>monthly premium auto</th>\n",
       "      <th>total claim amount</th>\n",
       "      <th>number of open complaints</th>\n",
       "    </tr>\n",
       "  </thead>\n",
       "  <tbody>\n",
       "    <tr>\n",
       "      <th>0</th>\n",
       "      <td>NaN</td>\n",
       "      <td>Washington</td>\n",
       "      <td>Master</td>\n",
       "      <td>0.0</td>\n",
       "      <td>NaN</td>\n",
       "      <td>Personal Auto</td>\n",
       "      <td>Four-Door Car</td>\n",
       "      <td>1000.0</td>\n",
       "      <td>2.704934</td>\n",
       "      <td>1/0/00</td>\n",
       "    </tr>\n",
       "    <tr>\n",
       "      <th>1</th>\n",
       "      <td>F</td>\n",
       "      <td>Arizona</td>\n",
       "      <td>Bachelor</td>\n",
       "      <td>0.0</td>\n",
       "      <td>697953.59%</td>\n",
       "      <td>Personal Auto</td>\n",
       "      <td>Four-Door Car</td>\n",
       "      <td>94.0</td>\n",
       "      <td>1131.464935</td>\n",
       "      <td>1/0/00</td>\n",
       "    </tr>\n",
       "    <tr>\n",
       "      <th>2</th>\n",
       "      <td>F</td>\n",
       "      <td>Nevada</td>\n",
       "      <td>Bachelor</td>\n",
       "      <td>48767.0</td>\n",
       "      <td>1288743.17%</td>\n",
       "      <td>Personal Auto</td>\n",
       "      <td>Two-Door Car</td>\n",
       "      <td>108.0</td>\n",
       "      <td>566.472247</td>\n",
       "      <td>1/0/00</td>\n",
       "    </tr>\n",
       "    <tr>\n",
       "      <th>3</th>\n",
       "      <td>M</td>\n",
       "      <td>California</td>\n",
       "      <td>Bachelor</td>\n",
       "      <td>0.0</td>\n",
       "      <td>764586.18%</td>\n",
       "      <td>Corporate Auto</td>\n",
       "      <td>SUV</td>\n",
       "      <td>106.0</td>\n",
       "      <td>529.881344</td>\n",
       "      <td>1/0/00</td>\n",
       "    </tr>\n",
       "    <tr>\n",
       "      <th>4</th>\n",
       "      <td>M</td>\n",
       "      <td>Washington</td>\n",
       "      <td>High School or Below</td>\n",
       "      <td>36357.0</td>\n",
       "      <td>536307.65%</td>\n",
       "      <td>Personal Auto</td>\n",
       "      <td>Four-Door Car</td>\n",
       "      <td>68.0</td>\n",
       "      <td>17.269323</td>\n",
       "      <td>1/0/00</td>\n",
       "    </tr>\n",
       "    <tr>\n",
       "      <th>...</th>\n",
       "      <td>...</td>\n",
       "      <td>...</td>\n",
       "      <td>...</td>\n",
       "      <td>...</td>\n",
       "      <td>...</td>\n",
       "      <td>...</td>\n",
       "      <td>...</td>\n",
       "      <td>...</td>\n",
       "      <td>...</td>\n",
       "      <td>...</td>\n",
       "    </tr>\n",
       "    <tr>\n",
       "      <th>7065</th>\n",
       "      <td>M</td>\n",
       "      <td>California</td>\n",
       "      <td>Bachelor</td>\n",
       "      <td>71941.0</td>\n",
       "      <td>23405.98798</td>\n",
       "      <td>Personal Auto</td>\n",
       "      <td>Four-Door Car</td>\n",
       "      <td>73.0</td>\n",
       "      <td>198.234764</td>\n",
       "      <td>0</td>\n",
       "    </tr>\n",
       "    <tr>\n",
       "      <th>7066</th>\n",
       "      <td>F</td>\n",
       "      <td>California</td>\n",
       "      <td>College</td>\n",
       "      <td>21604.0</td>\n",
       "      <td>3096.511217</td>\n",
       "      <td>Corporate Auto</td>\n",
       "      <td>Four-Door Car</td>\n",
       "      <td>79.0</td>\n",
       "      <td>379.200000</td>\n",
       "      <td>0</td>\n",
       "    </tr>\n",
       "    <tr>\n",
       "      <th>7067</th>\n",
       "      <td>M</td>\n",
       "      <td>California</td>\n",
       "      <td>Bachelor</td>\n",
       "      <td>0.0</td>\n",
       "      <td>8163.890428</td>\n",
       "      <td>Corporate Auto</td>\n",
       "      <td>Four-Door Car</td>\n",
       "      <td>85.0</td>\n",
       "      <td>790.784983</td>\n",
       "      <td>3</td>\n",
       "    </tr>\n",
       "    <tr>\n",
       "      <th>7068</th>\n",
       "      <td>M</td>\n",
       "      <td>California</td>\n",
       "      <td>College</td>\n",
       "      <td>21941.0</td>\n",
       "      <td>7524.442436</td>\n",
       "      <td>Personal Auto</td>\n",
       "      <td>Four-Door Car</td>\n",
       "      <td>96.0</td>\n",
       "      <td>691.200000</td>\n",
       "      <td>0</td>\n",
       "    </tr>\n",
       "    <tr>\n",
       "      <th>7069</th>\n",
       "      <td>M</td>\n",
       "      <td>California</td>\n",
       "      <td>College</td>\n",
       "      <td>0.0</td>\n",
       "      <td>2611.836866</td>\n",
       "      <td>Corporate Auto</td>\n",
       "      <td>Two-Door Car</td>\n",
       "      <td>77.0</td>\n",
       "      <td>369.600000</td>\n",
       "      <td>0</td>\n",
       "    </tr>\n",
       "  </tbody>\n",
       "</table>\n",
       "<p>9135 rows × 10 columns</p>\n",
       "</div>"
      ],
      "text/plain": [
       "     gender       state             education   income  \\\n",
       "0       NaN  Washington                Master      0.0   \n",
       "1         F     Arizona              Bachelor      0.0   \n",
       "2         F      Nevada              Bachelor  48767.0   \n",
       "3         M  California              Bachelor      0.0   \n",
       "4         M  Washington  High School or Below  36357.0   \n",
       "...     ...         ...                   ...      ...   \n",
       "7065      M  California              Bachelor  71941.0   \n",
       "7066      F  California               College  21604.0   \n",
       "7067      M  California              Bachelor      0.0   \n",
       "7068      M  California               College  21941.0   \n",
       "7069      M  California               College      0.0   \n",
       "\n",
       "     customer lifetime value     policy type  vehicle class  \\\n",
       "0                        NaN   Personal Auto  Four-Door Car   \n",
       "1                 697953.59%   Personal Auto  Four-Door Car   \n",
       "2                1288743.17%   Personal Auto   Two-Door Car   \n",
       "3                 764586.18%  Corporate Auto            SUV   \n",
       "4                 536307.65%   Personal Auto  Four-Door Car   \n",
       "...                      ...             ...            ...   \n",
       "7065             23405.98798   Personal Auto  Four-Door Car   \n",
       "7066             3096.511217  Corporate Auto  Four-Door Car   \n",
       "7067             8163.890428  Corporate Auto  Four-Door Car   \n",
       "7068             7524.442436   Personal Auto  Four-Door Car   \n",
       "7069             2611.836866  Corporate Auto   Two-Door Car   \n",
       "\n",
       "      monthly premium auto  total claim amount number of open complaints  \n",
       "0                   1000.0            2.704934                    1/0/00  \n",
       "1                     94.0         1131.464935                    1/0/00  \n",
       "2                    108.0          566.472247                    1/0/00  \n",
       "3                    106.0          529.881344                    1/0/00  \n",
       "4                     68.0           17.269323                    1/0/00  \n",
       "...                    ...                 ...                       ...  \n",
       "7065                  73.0          198.234764                         0  \n",
       "7066                  79.0          379.200000                         0  \n",
       "7067                  85.0          790.784983                         3  \n",
       "7068                  96.0          691.200000                         0  \n",
       "7069                  77.0          369.600000                         0  \n",
       "\n",
       "[9135 rows x 10 columns]"
      ]
     },
     "execution_count": 20,
     "metadata": {},
     "output_type": "execute_result"
    }
   ],
   "source": [
    "file4"
   ]
  },
  {
   "cell_type": "markdown",
   "id": "e55818be",
   "metadata": {},
   "source": [
    "### Working with data types – Check the data types of all the columns and fix the incorrect ones "
   ]
  },
  {
   "cell_type": "code",
   "execution_count": 21,
   "id": "95b67421",
   "metadata": {
    "ExecuteTime": {
     "end_time": "2023-01-24T15:25:44.011739Z",
     "start_time": "2023-01-24T15:25:44.003516Z"
    }
   },
   "outputs": [
    {
     "name": "stdout",
     "output_type": "stream",
     "text": [
      "<class 'pandas.core.frame.DataFrame'>\n",
      "Int64Index: 9135 entries, 0 to 7069\n",
      "Data columns (total 10 columns):\n",
      " #   Column                     Non-Null Count  Dtype  \n",
      "---  ------                     --------------  -----  \n",
      " 0   gender                     9012 non-null   object \n",
      " 1   state                      9134 non-null   object \n",
      " 2   education                  9134 non-null   object \n",
      " 3   income                     9134 non-null   float64\n",
      " 4   customer lifetime value    9127 non-null   object \n",
      " 5   policy type                9134 non-null   object \n",
      " 6   vehicle class              9134 non-null   object \n",
      " 7   monthly premium auto       9134 non-null   float64\n",
      " 8   total claim amount         9134 non-null   float64\n",
      " 9   number of open complaints  9134 non-null   object \n",
      "dtypes: float64(3), object(7)\n",
      "memory usage: 785.0+ KB\n"
     ]
    }
   ],
   "source": [
    "file4.info()"
   ]
  },
  {
   "cell_type": "code",
   "execution_count": 22,
   "id": "c8b1d83d",
   "metadata": {
    "ExecuteTime": {
     "end_time": "2023-01-24T15:25:44.017431Z",
     "start_time": "2023-01-24T15:25:44.012555Z"
    }
   },
   "outputs": [
    {
     "data": {
      "text/html": [
       "<div>\n",
       "<style scoped>\n",
       "    .dataframe tbody tr th:only-of-type {\n",
       "        vertical-align: middle;\n",
       "    }\n",
       "\n",
       "    .dataframe tbody tr th {\n",
       "        vertical-align: top;\n",
       "    }\n",
       "\n",
       "    .dataframe thead th {\n",
       "        text-align: right;\n",
       "    }\n",
       "</style>\n",
       "<table border=\"1\" class=\"dataframe\">\n",
       "  <thead>\n",
       "    <tr style=\"text-align: right;\">\n",
       "      <th></th>\n",
       "      <th>gender</th>\n",
       "      <th>state</th>\n",
       "      <th>education</th>\n",
       "      <th>customer lifetime value</th>\n",
       "      <th>policy type</th>\n",
       "      <th>vehicle class</th>\n",
       "      <th>number of open complaints</th>\n",
       "    </tr>\n",
       "  </thead>\n",
       "  <tbody>\n",
       "    <tr>\n",
       "      <th>0</th>\n",
       "      <td>NaN</td>\n",
       "      <td>Washington</td>\n",
       "      <td>Master</td>\n",
       "      <td>NaN</td>\n",
       "      <td>Personal Auto</td>\n",
       "      <td>Four-Door Car</td>\n",
       "      <td>1/0/00</td>\n",
       "    </tr>\n",
       "    <tr>\n",
       "      <th>1</th>\n",
       "      <td>F</td>\n",
       "      <td>Arizona</td>\n",
       "      <td>Bachelor</td>\n",
       "      <td>697953.59%</td>\n",
       "      <td>Personal Auto</td>\n",
       "      <td>Four-Door Car</td>\n",
       "      <td>1/0/00</td>\n",
       "    </tr>\n",
       "    <tr>\n",
       "      <th>2</th>\n",
       "      <td>F</td>\n",
       "      <td>Nevada</td>\n",
       "      <td>Bachelor</td>\n",
       "      <td>1288743.17%</td>\n",
       "      <td>Personal Auto</td>\n",
       "      <td>Two-Door Car</td>\n",
       "      <td>1/0/00</td>\n",
       "    </tr>\n",
       "    <tr>\n",
       "      <th>3</th>\n",
       "      <td>M</td>\n",
       "      <td>California</td>\n",
       "      <td>Bachelor</td>\n",
       "      <td>764586.18%</td>\n",
       "      <td>Corporate Auto</td>\n",
       "      <td>SUV</td>\n",
       "      <td>1/0/00</td>\n",
       "    </tr>\n",
       "    <tr>\n",
       "      <th>4</th>\n",
       "      <td>M</td>\n",
       "      <td>Washington</td>\n",
       "      <td>High School or Below</td>\n",
       "      <td>536307.65%</td>\n",
       "      <td>Personal Auto</td>\n",
       "      <td>Four-Door Car</td>\n",
       "      <td>1/0/00</td>\n",
       "    </tr>\n",
       "    <tr>\n",
       "      <th>...</th>\n",
       "      <td>...</td>\n",
       "      <td>...</td>\n",
       "      <td>...</td>\n",
       "      <td>...</td>\n",
       "      <td>...</td>\n",
       "      <td>...</td>\n",
       "      <td>...</td>\n",
       "    </tr>\n",
       "    <tr>\n",
       "      <th>7065</th>\n",
       "      <td>M</td>\n",
       "      <td>California</td>\n",
       "      <td>Bachelor</td>\n",
       "      <td>23405.98798</td>\n",
       "      <td>Personal Auto</td>\n",
       "      <td>Four-Door Car</td>\n",
       "      <td>0</td>\n",
       "    </tr>\n",
       "    <tr>\n",
       "      <th>7066</th>\n",
       "      <td>F</td>\n",
       "      <td>California</td>\n",
       "      <td>College</td>\n",
       "      <td>3096.511217</td>\n",
       "      <td>Corporate Auto</td>\n",
       "      <td>Four-Door Car</td>\n",
       "      <td>0</td>\n",
       "    </tr>\n",
       "    <tr>\n",
       "      <th>7067</th>\n",
       "      <td>M</td>\n",
       "      <td>California</td>\n",
       "      <td>Bachelor</td>\n",
       "      <td>8163.890428</td>\n",
       "      <td>Corporate Auto</td>\n",
       "      <td>Four-Door Car</td>\n",
       "      <td>3</td>\n",
       "    </tr>\n",
       "    <tr>\n",
       "      <th>7068</th>\n",
       "      <td>M</td>\n",
       "      <td>California</td>\n",
       "      <td>College</td>\n",
       "      <td>7524.442436</td>\n",
       "      <td>Personal Auto</td>\n",
       "      <td>Four-Door Car</td>\n",
       "      <td>0</td>\n",
       "    </tr>\n",
       "    <tr>\n",
       "      <th>7069</th>\n",
       "      <td>M</td>\n",
       "      <td>California</td>\n",
       "      <td>College</td>\n",
       "      <td>2611.836866</td>\n",
       "      <td>Corporate Auto</td>\n",
       "      <td>Two-Door Car</td>\n",
       "      <td>0</td>\n",
       "    </tr>\n",
       "  </tbody>\n",
       "</table>\n",
       "<p>9135 rows × 7 columns</p>\n",
       "</div>"
      ],
      "text/plain": [
       "     gender       state             education customer lifetime value  \\\n",
       "0       NaN  Washington                Master                     NaN   \n",
       "1         F     Arizona              Bachelor              697953.59%   \n",
       "2         F      Nevada              Bachelor             1288743.17%   \n",
       "3         M  California              Bachelor              764586.18%   \n",
       "4         M  Washington  High School or Below              536307.65%   \n",
       "...     ...         ...                   ...                     ...   \n",
       "7065      M  California              Bachelor             23405.98798   \n",
       "7066      F  California               College             3096.511217   \n",
       "7067      M  California              Bachelor             8163.890428   \n",
       "7068      M  California               College             7524.442436   \n",
       "7069      M  California               College             2611.836866   \n",
       "\n",
       "         policy type  vehicle class number of open complaints  \n",
       "0      Personal Auto  Four-Door Car                    1/0/00  \n",
       "1      Personal Auto  Four-Door Car                    1/0/00  \n",
       "2      Personal Auto   Two-Door Car                    1/0/00  \n",
       "3     Corporate Auto            SUV                    1/0/00  \n",
       "4      Personal Auto  Four-Door Car                    1/0/00  \n",
       "...              ...            ...                       ...  \n",
       "7065   Personal Auto  Four-Door Car                         0  \n",
       "7066  Corporate Auto  Four-Door Car                         0  \n",
       "7067  Corporate Auto  Four-Door Car                         3  \n",
       "7068   Personal Auto  Four-Door Car                         0  \n",
       "7069  Corporate Auto   Two-Door Car                         0  \n",
       "\n",
       "[9135 rows x 7 columns]"
      ]
     },
     "execution_count": 22,
     "metadata": {},
     "output_type": "execute_result"
    }
   ],
   "source": [
    "file4.select_dtypes('object')"
   ]
  },
  {
   "cell_type": "code",
   "execution_count": 23,
   "id": "1cc0f7e8",
   "metadata": {
    "ExecuteTime": {
     "end_time": "2023-01-24T15:25:44.027814Z",
     "start_time": "2023-01-24T15:25:44.021997Z"
    }
   },
   "outputs": [
    {
     "data": {
      "text/plain": [
       "gender                          5\n",
       "state                           8\n",
       "education                       6\n",
       "income                       5655\n",
       "customer lifetime value      8211\n",
       "policy type                     3\n",
       "vehicle class                   6\n",
       "monthly premium auto          209\n",
       "total claim amount           5070\n",
       "number of open complaints      12\n",
       "dtype: int64"
      ]
     },
     "execution_count": 23,
     "metadata": {},
     "output_type": "execute_result"
    }
   ],
   "source": [
    "file4.nunique()"
   ]
  },
  {
   "cell_type": "markdown",
   "id": "938033cc",
   "metadata": {},
   "source": [
    "### Removing the percentage from the customer lifetime value "
   ]
  },
  {
   "cell_type": "code",
   "execution_count": 24,
   "id": "d372d579",
   "metadata": {
    "ExecuteTime": {
     "end_time": "2023-01-24T15:25:44.031472Z",
     "start_time": "2023-01-24T15:25:44.028641Z"
    }
   },
   "outputs": [
    {
     "data": {
      "text/plain": [
       "array([nan, '697953.59%', '1288743.17%', ..., 8163.890428, 7524.442436,\n",
       "       2611.836866], dtype=object)"
      ]
     },
     "execution_count": 24,
     "metadata": {},
     "output_type": "execute_result"
    }
   ],
   "source": [
    "file4[\"customer lifetime value\"].unique()"
   ]
  },
  {
   "cell_type": "code",
   "execution_count": 25,
   "id": "311fe48f",
   "metadata": {
    "ExecuteTime": {
     "end_time": "2023-01-24T15:25:44.034820Z",
     "start_time": "2023-01-24T15:25:44.032387Z"
    }
   },
   "outputs": [],
   "source": [
    "def delete_unit(file4):\n",
    "    \"\"\"deletes % from value\"\"\"\n",
    "    file4[\"customer lifetime value\"] = [i.replace(\"%\",\"\") if isinstance(i, str) else i for i in file4[\"customer lifetime value\"]]\n",
    "    return file4\n"
   ]
  },
  {
   "cell_type": "code",
   "execution_count": 26,
   "id": "bfce7d46",
   "metadata": {
    "ExecuteTime": {
     "end_time": "2023-01-24T15:25:44.044317Z",
     "start_time": "2023-01-24T15:25:44.035740Z"
    }
   },
   "outputs": [
    {
     "data": {
      "text/html": [
       "<div>\n",
       "<style scoped>\n",
       "    .dataframe tbody tr th:only-of-type {\n",
       "        vertical-align: middle;\n",
       "    }\n",
       "\n",
       "    .dataframe tbody tr th {\n",
       "        vertical-align: top;\n",
       "    }\n",
       "\n",
       "    .dataframe thead th {\n",
       "        text-align: right;\n",
       "    }\n",
       "</style>\n",
       "<table border=\"1\" class=\"dataframe\">\n",
       "  <thead>\n",
       "    <tr style=\"text-align: right;\">\n",
       "      <th></th>\n",
       "      <th>gender</th>\n",
       "      <th>state</th>\n",
       "      <th>education</th>\n",
       "      <th>income</th>\n",
       "      <th>customer lifetime value</th>\n",
       "      <th>policy type</th>\n",
       "      <th>vehicle class</th>\n",
       "      <th>monthly premium auto</th>\n",
       "      <th>total claim amount</th>\n",
       "      <th>number of open complaints</th>\n",
       "    </tr>\n",
       "  </thead>\n",
       "  <tbody>\n",
       "    <tr>\n",
       "      <th>0</th>\n",
       "      <td>NaN</td>\n",
       "      <td>Washington</td>\n",
       "      <td>Master</td>\n",
       "      <td>0.0</td>\n",
       "      <td>NaN</td>\n",
       "      <td>Personal Auto</td>\n",
       "      <td>Four-Door Car</td>\n",
       "      <td>1000.0</td>\n",
       "      <td>2.704934</td>\n",
       "      <td>1/0/00</td>\n",
       "    </tr>\n",
       "    <tr>\n",
       "      <th>1</th>\n",
       "      <td>F</td>\n",
       "      <td>Arizona</td>\n",
       "      <td>Bachelor</td>\n",
       "      <td>0.0</td>\n",
       "      <td>697953.59</td>\n",
       "      <td>Personal Auto</td>\n",
       "      <td>Four-Door Car</td>\n",
       "      <td>94.0</td>\n",
       "      <td>1131.464935</td>\n",
       "      <td>1/0/00</td>\n",
       "    </tr>\n",
       "    <tr>\n",
       "      <th>2</th>\n",
       "      <td>F</td>\n",
       "      <td>Nevada</td>\n",
       "      <td>Bachelor</td>\n",
       "      <td>48767.0</td>\n",
       "      <td>1288743.17</td>\n",
       "      <td>Personal Auto</td>\n",
       "      <td>Two-Door Car</td>\n",
       "      <td>108.0</td>\n",
       "      <td>566.472247</td>\n",
       "      <td>1/0/00</td>\n",
       "    </tr>\n",
       "    <tr>\n",
       "      <th>3</th>\n",
       "      <td>M</td>\n",
       "      <td>California</td>\n",
       "      <td>Bachelor</td>\n",
       "      <td>0.0</td>\n",
       "      <td>764586.18</td>\n",
       "      <td>Corporate Auto</td>\n",
       "      <td>SUV</td>\n",
       "      <td>106.0</td>\n",
       "      <td>529.881344</td>\n",
       "      <td>1/0/00</td>\n",
       "    </tr>\n",
       "    <tr>\n",
       "      <th>4</th>\n",
       "      <td>M</td>\n",
       "      <td>Washington</td>\n",
       "      <td>High School or Below</td>\n",
       "      <td>36357.0</td>\n",
       "      <td>536307.65</td>\n",
       "      <td>Personal Auto</td>\n",
       "      <td>Four-Door Car</td>\n",
       "      <td>68.0</td>\n",
       "      <td>17.269323</td>\n",
       "      <td>1/0/00</td>\n",
       "    </tr>\n",
       "    <tr>\n",
       "      <th>...</th>\n",
       "      <td>...</td>\n",
       "      <td>...</td>\n",
       "      <td>...</td>\n",
       "      <td>...</td>\n",
       "      <td>...</td>\n",
       "      <td>...</td>\n",
       "      <td>...</td>\n",
       "      <td>...</td>\n",
       "      <td>...</td>\n",
       "      <td>...</td>\n",
       "    </tr>\n",
       "    <tr>\n",
       "      <th>7065</th>\n",
       "      <td>M</td>\n",
       "      <td>California</td>\n",
       "      <td>Bachelor</td>\n",
       "      <td>71941.0</td>\n",
       "      <td>23405.98798</td>\n",
       "      <td>Personal Auto</td>\n",
       "      <td>Four-Door Car</td>\n",
       "      <td>73.0</td>\n",
       "      <td>198.234764</td>\n",
       "      <td>0</td>\n",
       "    </tr>\n",
       "    <tr>\n",
       "      <th>7066</th>\n",
       "      <td>F</td>\n",
       "      <td>California</td>\n",
       "      <td>College</td>\n",
       "      <td>21604.0</td>\n",
       "      <td>3096.511217</td>\n",
       "      <td>Corporate Auto</td>\n",
       "      <td>Four-Door Car</td>\n",
       "      <td>79.0</td>\n",
       "      <td>379.200000</td>\n",
       "      <td>0</td>\n",
       "    </tr>\n",
       "    <tr>\n",
       "      <th>7067</th>\n",
       "      <td>M</td>\n",
       "      <td>California</td>\n",
       "      <td>Bachelor</td>\n",
       "      <td>0.0</td>\n",
       "      <td>8163.890428</td>\n",
       "      <td>Corporate Auto</td>\n",
       "      <td>Four-Door Car</td>\n",
       "      <td>85.0</td>\n",
       "      <td>790.784983</td>\n",
       "      <td>3</td>\n",
       "    </tr>\n",
       "    <tr>\n",
       "      <th>7068</th>\n",
       "      <td>M</td>\n",
       "      <td>California</td>\n",
       "      <td>College</td>\n",
       "      <td>21941.0</td>\n",
       "      <td>7524.442436</td>\n",
       "      <td>Personal Auto</td>\n",
       "      <td>Four-Door Car</td>\n",
       "      <td>96.0</td>\n",
       "      <td>691.200000</td>\n",
       "      <td>0</td>\n",
       "    </tr>\n",
       "    <tr>\n",
       "      <th>7069</th>\n",
       "      <td>M</td>\n",
       "      <td>California</td>\n",
       "      <td>College</td>\n",
       "      <td>0.0</td>\n",
       "      <td>2611.836866</td>\n",
       "      <td>Corporate Auto</td>\n",
       "      <td>Two-Door Car</td>\n",
       "      <td>77.0</td>\n",
       "      <td>369.600000</td>\n",
       "      <td>0</td>\n",
       "    </tr>\n",
       "  </tbody>\n",
       "</table>\n",
       "<p>9135 rows × 10 columns</p>\n",
       "</div>"
      ],
      "text/plain": [
       "     gender       state             education   income  \\\n",
       "0       NaN  Washington                Master      0.0   \n",
       "1         F     Arizona              Bachelor      0.0   \n",
       "2         F      Nevada              Bachelor  48767.0   \n",
       "3         M  California              Bachelor      0.0   \n",
       "4         M  Washington  High School or Below  36357.0   \n",
       "...     ...         ...                   ...      ...   \n",
       "7065      M  California              Bachelor  71941.0   \n",
       "7066      F  California               College  21604.0   \n",
       "7067      M  California              Bachelor      0.0   \n",
       "7068      M  California               College  21941.0   \n",
       "7069      M  California               College      0.0   \n",
       "\n",
       "     customer lifetime value     policy type  vehicle class  \\\n",
       "0                        NaN   Personal Auto  Four-Door Car   \n",
       "1                  697953.59   Personal Auto  Four-Door Car   \n",
       "2                 1288743.17   Personal Auto   Two-Door Car   \n",
       "3                  764586.18  Corporate Auto            SUV   \n",
       "4                  536307.65   Personal Auto  Four-Door Car   \n",
       "...                      ...             ...            ...   \n",
       "7065             23405.98798   Personal Auto  Four-Door Car   \n",
       "7066             3096.511217  Corporate Auto  Four-Door Car   \n",
       "7067             8163.890428  Corporate Auto  Four-Door Car   \n",
       "7068             7524.442436   Personal Auto  Four-Door Car   \n",
       "7069             2611.836866  Corporate Auto   Two-Door Car   \n",
       "\n",
       "      monthly premium auto  total claim amount number of open complaints  \n",
       "0                   1000.0            2.704934                    1/0/00  \n",
       "1                     94.0         1131.464935                    1/0/00  \n",
       "2                    108.0          566.472247                    1/0/00  \n",
       "3                    106.0          529.881344                    1/0/00  \n",
       "4                     68.0           17.269323                    1/0/00  \n",
       "...                    ...                 ...                       ...  \n",
       "7065                  73.0          198.234764                         0  \n",
       "7066                  79.0          379.200000                         0  \n",
       "7067                  85.0          790.784983                         3  \n",
       "7068                  96.0          691.200000                         0  \n",
       "7069                  77.0          369.600000                         0  \n",
       "\n",
       "[9135 rows x 10 columns]"
      ]
     },
     "execution_count": 26,
     "metadata": {},
     "output_type": "execute_result"
    }
   ],
   "source": [
    "delete_unit(file4)"
   ]
  },
  {
   "cell_type": "code",
   "execution_count": 27,
   "id": "a531e26c",
   "metadata": {
    "ExecuteTime": {
     "end_time": "2023-01-24T15:25:44.047245Z",
     "start_time": "2023-01-24T15:25:44.045316Z"
    }
   },
   "outputs": [],
   "source": [
    "import numpy as np\n",
    "import math"
   ]
  },
  {
   "cell_type": "code",
   "execution_count": 28,
   "id": "79532df6",
   "metadata": {
    "ExecuteTime": {
     "end_time": "2023-01-24T15:25:44.049793Z",
     "start_time": "2023-01-24T15:25:44.048111Z"
    }
   },
   "outputs": [],
   "source": [
    "# (PZ) normally we put all imports at the very top"
   ]
  },
  {
   "cell_type": "markdown",
   "id": "1b1a5186",
   "metadata": {},
   "source": [
    "### truncating customer lifetime value into an integer value"
   ]
  },
  {
   "cell_type": "code",
   "execution_count": 29,
   "id": "1120d473",
   "metadata": {
    "ExecuteTime": {
     "end_time": "2023-01-24T15:25:44.055481Z",
     "start_time": "2023-01-24T15:25:44.050514Z"
    }
   },
   "outputs": [
    {
     "data": {
      "text/plain": [
       "count     9127.00000\n",
       "unique    8211.00000\n",
       "top       6057.07208\n",
       "freq         6.00000\n",
       "Name: customer lifetime value, dtype: float64"
      ]
     },
     "execution_count": 29,
     "metadata": {},
     "output_type": "execute_result"
    }
   ],
   "source": [
    "file4[\"customer lifetime value\"].describe()  "
   ]
  },
  {
   "cell_type": "code",
   "execution_count": 30,
   "id": "feda81c0",
   "metadata": {
    "ExecuteTime": {
     "end_time": "2023-01-24T15:25:44.058322Z",
     "start_time": "2023-01-24T15:25:44.056309Z"
    }
   },
   "outputs": [],
   "source": [
    "file4[\"customer lifetime value\"] = file4[\"customer lifetime value\"].astype(float)"
   ]
  },
  {
   "cell_type": "code",
   "execution_count": 31,
   "id": "281ccafc",
   "metadata": {
    "ExecuteTime": {
     "end_time": "2023-01-24T15:25:44.063741Z",
     "start_time": "2023-01-24T15:25:44.059126Z"
    }
   },
   "outputs": [],
   "source": [
    "file4[\"customer lifetime value\"] = file4[\"customer lifetime value\"].apply(lambda x: round(x/1000,0)) # (PZ) changed to 1000"
   ]
  },
  {
   "cell_type": "code",
   "execution_count": 32,
   "id": "b30800ba",
   "metadata": {
    "ExecuteTime": {
     "end_time": "2023-01-24T15:25:44.068818Z",
     "start_time": "2023-01-24T15:25:44.064675Z"
    }
   },
   "outputs": [
    {
     "data": {
      "text/plain": [
       "count    9127.000000\n",
       "mean      182.078010\n",
       "std       441.047664\n",
       "min         2.000000\n",
       "25%         5.000000\n",
       "50%         8.000000\n",
       "75%        26.000000\n",
       "max      5817.000000\n",
       "Name: customer lifetime value, dtype: float64"
      ]
     },
     "execution_count": 32,
     "metadata": {},
     "output_type": "execute_result"
    }
   ],
   "source": [
    "file4[\"customer lifetime value\"].describe()"
   ]
  },
  {
   "cell_type": "markdown",
   "id": "6e238251",
   "metadata": {},
   "source": [
    "### Cleaning the data for number of open complaints and extracting the middle number"
   ]
  },
  {
   "cell_type": "code",
   "execution_count": 33,
   "id": "2b2cda31",
   "metadata": {
    "ExecuteTime": {
     "end_time": "2023-01-24T15:25:44.071397Z",
     "start_time": "2023-01-24T15:25:44.069976Z"
    }
   },
   "outputs": [],
   "source": [
    "# (PZ) I would try something like \n",
    "# list(map(lambda x: int(x[2]) if type(x) == str else x, df[\"number of open complaints\"]))\n",
    "# to extract the middle element"
   ]
  },
  {
   "cell_type": "code",
   "execution_count": 34,
   "id": "47d33056",
   "metadata": {
    "ExecuteTime": {
     "end_time": "2023-01-24T15:25:44.073441Z",
     "start_time": "2023-01-24T15:25:44.072161Z"
    }
   },
   "outputs": [],
   "source": [
    "# or something like"
   ]
  },
  {
   "cell_type": "code",
   "execution_count": 35,
   "id": "960c1fd1",
   "metadata": {
    "ExecuteTime": {
     "end_time": "2023-01-24T15:25:44.075808Z",
     "start_time": "2023-01-24T15:25:44.074284Z"
    }
   },
   "outputs": [],
   "source": [
    "foo = '1/a/00'"
   ]
  },
  {
   "cell_type": "code",
   "execution_count": 36,
   "id": "ec73d136",
   "metadata": {
    "ExecuteTime": {
     "end_time": "2023-01-24T15:25:44.078754Z",
     "start_time": "2023-01-24T15:25:44.076586Z"
    }
   },
   "outputs": [
    {
     "data": {
      "text/plain": [
       "'a'"
      ]
     },
     "execution_count": 36,
     "metadata": {},
     "output_type": "execute_result"
    }
   ],
   "source": [
    "foo.strip('1/')[0]"
   ]
  },
  {
   "cell_type": "code",
   "execution_count": 37,
   "id": "264a5c9c",
   "metadata": {
    "ExecuteTime": {
     "end_time": "2023-01-24T15:25:44.082418Z",
     "start_time": "2023-01-24T15:25:44.079603Z"
    },
    "run_control": {
     "marked": true
    }
   },
   "outputs": [
    {
     "data": {
      "text/plain": [
       "[0, '1/0/00', 1, 2, '1/1/00', 3, 4, '1/2/00', '1/3/00', 5, '1/4/00', '1/5/00']"
      ]
     },
     "execution_count": 37,
     "metadata": {},
     "output_type": "execute_result"
    }
   ],
   "source": [
    "## (PZ)\n",
    "temp = list(file4['number of open complaints'].value_counts().index)\n",
    "temp"
   ]
  },
  {
   "cell_type": "code",
   "execution_count": 38,
   "id": "a174c6a5",
   "metadata": {
    "ExecuteTime": {
     "end_time": "2023-01-24T15:25:44.085501Z",
     "start_time": "2023-01-24T15:25:44.083362Z"
    }
   },
   "outputs": [
    {
     "data": {
      "text/plain": [
       "[0, '1/0/00', 1, 2, '1/1/00', 3, 4, '1/2/00', '1/3/00', 5, '1/4/00', '1/5/00']"
      ]
     },
     "execution_count": 38,
     "metadata": {},
     "output_type": "execute_result"
    }
   ],
   "source": [
    "temp"
   ]
  },
  {
   "cell_type": "code",
   "execution_count": 39,
   "id": "900e0bc1",
   "metadata": {
    "ExecuteTime": {
     "end_time": "2023-01-24T15:25:44.088085Z",
     "start_time": "2023-01-24T15:25:44.086463Z"
    },
    "run_control": {
     "marked": true
    }
   },
   "outputs": [],
   "source": [
    "f = lambda y : list(map(lambda x: int(x.strip('1/')[0]) if type(x) == str else x, y))"
   ]
  },
  {
   "cell_type": "code",
   "execution_count": 40,
   "id": "c0398ca9",
   "metadata": {
    "ExecuteTime": {
     "end_time": "2023-01-24T15:25:44.090767Z",
     "start_time": "2023-01-24T15:25:44.088828Z"
    }
   },
   "outputs": [
    {
     "data": {
      "text/plain": [
       "[0, 0, 1, 2, 0, 3, 4, 2, 3, 5, 4, 5]"
      ]
     },
     "execution_count": 40,
     "metadata": {},
     "output_type": "execute_result"
    }
   ],
   "source": [
    "f(temp)"
   ]
  },
  {
   "cell_type": "code",
   "execution_count": 41,
   "id": "206b7f52",
   "metadata": {
    "ExecuteTime": {
     "end_time": "2023-01-24T15:25:44.092975Z",
     "start_time": "2023-01-24T15:25:44.091635Z"
    }
   },
   "outputs": [],
   "source": [
    "g = lambda p : np.cos(p)"
   ]
  },
  {
   "cell_type": "code",
   "execution_count": 42,
   "id": "58d4df31",
   "metadata": {
    "ExecuteTime": {
     "end_time": "2023-01-24T15:25:44.095116Z",
     "start_time": "2023-01-24T15:25:44.093731Z"
    }
   },
   "outputs": [],
   "source": [
    "def g(p):\n",
    "    return np.cos(p)"
   ]
  },
  {
   "cell_type": "code",
   "execution_count": null,
   "id": "6a297fad",
   "metadata": {},
   "outputs": [],
   "source": [
    "f(file4['number of open complaints']) "
   ]
  },
  {
   "cell_type": "code",
   "execution_count": 43,
   "id": "665e1eaa",
   "metadata": {
    "ExecuteTime": {
     "end_time": "2023-01-24T15:25:44.098302Z",
     "start_time": "2023-01-24T15:25:44.095881Z"
    }
   },
   "outputs": [],
   "source": [
    "file4[\"number of open complaints\"] = file4[\"number of open complaints\"].astype(str)"
   ]
  },
  {
   "cell_type": "code",
   "execution_count": 44,
   "id": "01f9b1f5",
   "metadata": {
    "ExecuteTime": {
     "end_time": "2023-01-24T15:25:44.102835Z",
     "start_time": "2023-01-24T15:25:44.099134Z"
    }
   },
   "outputs": [
    {
     "data": {
      "text/plain": [
       "array(['1/0/00', '1/2/00', '1/1/00', '1/3/00', '1/5/00', '1/4/00', 'nan',\n",
       "       '0', '2', '3', '1', '5', '4'], dtype=object)"
      ]
     },
     "execution_count": 44,
     "metadata": {},
     "output_type": "execute_result"
    }
   ],
   "source": [
    "file4[\"number of open complaints\"].unique()"
   ]
  },
  {
   "cell_type": "code",
   "execution_count": 45,
   "id": "b15b0c6e",
   "metadata": {
    "ExecuteTime": {
     "end_time": "2023-01-24T15:25:44.112805Z",
     "start_time": "2023-01-24T15:25:44.103770Z"
    },
    "run_control": {
     "marked": true
    }
   },
   "outputs": [
    {
     "name": "stderr",
     "output_type": "stream",
     "text": [
      "/var/folders/lj/my6r3k650wl54v5nz5r6x5cm0000gn/T/ipykernel_41054/1678827028.py:2: SettingWithCopyWarning: \n",
      "A value is trying to be set on a copy of a slice from a DataFrame\n",
      "\n",
      "See the caveats in the documentation: https://pandas.pydata.org/pandas-docs/stable/user_guide/indexing.html#returning-a-view-versus-a-copy\n",
      "  file4.iloc[:,9][file4[\"number of open complaints\"].str.contains(pat = \"1/\")] = \"0\"\n"
     ]
    }
   ],
   "source": [
    "# it's not good to call a column this way because u might change the name later and get confused\n",
    "file4.iloc[:,9][file4[\"number of open complaints\"].str.contains(pat = \"1/\")] = \"0\""
   ]
  },
  {
   "cell_type": "code",
   "execution_count": 46,
   "id": "03abf494",
   "metadata": {
    "ExecuteTime": {
     "end_time": "2023-01-24T15:25:44.120856Z",
     "start_time": "2023-01-24T15:25:44.113969Z"
    }
   },
   "outputs": [
    {
     "data": {
      "text/html": [
       "<div>\n",
       "<style scoped>\n",
       "    .dataframe tbody tr th:only-of-type {\n",
       "        vertical-align: middle;\n",
       "    }\n",
       "\n",
       "    .dataframe tbody tr th {\n",
       "        vertical-align: top;\n",
       "    }\n",
       "\n",
       "    .dataframe thead th {\n",
       "        text-align: right;\n",
       "    }\n",
       "</style>\n",
       "<table border=\"1\" class=\"dataframe\">\n",
       "  <thead>\n",
       "    <tr style=\"text-align: right;\">\n",
       "      <th></th>\n",
       "      <th>gender</th>\n",
       "      <th>state</th>\n",
       "      <th>education</th>\n",
       "      <th>income</th>\n",
       "      <th>customer lifetime value</th>\n",
       "      <th>policy type</th>\n",
       "      <th>vehicle class</th>\n",
       "      <th>monthly premium auto</th>\n",
       "      <th>total claim amount</th>\n",
       "      <th>number of open complaints</th>\n",
       "    </tr>\n",
       "  </thead>\n",
       "  <tbody>\n",
       "    <tr>\n",
       "      <th>0</th>\n",
       "      <td>NaN</td>\n",
       "      <td>Washington</td>\n",
       "      <td>Master</td>\n",
       "      <td>0.0</td>\n",
       "      <td>NaN</td>\n",
       "      <td>Personal Auto</td>\n",
       "      <td>Four-Door Car</td>\n",
       "      <td>1000.0</td>\n",
       "      <td>2.704934</td>\n",
       "      <td>0</td>\n",
       "    </tr>\n",
       "    <tr>\n",
       "      <th>1</th>\n",
       "      <td>F</td>\n",
       "      <td>Arizona</td>\n",
       "      <td>Bachelor</td>\n",
       "      <td>0.0</td>\n",
       "      <td>698.0</td>\n",
       "      <td>Personal Auto</td>\n",
       "      <td>Four-Door Car</td>\n",
       "      <td>94.0</td>\n",
       "      <td>1131.464935</td>\n",
       "      <td>0</td>\n",
       "    </tr>\n",
       "    <tr>\n",
       "      <th>2</th>\n",
       "      <td>F</td>\n",
       "      <td>Nevada</td>\n",
       "      <td>Bachelor</td>\n",
       "      <td>48767.0</td>\n",
       "      <td>1289.0</td>\n",
       "      <td>Personal Auto</td>\n",
       "      <td>Two-Door Car</td>\n",
       "      <td>108.0</td>\n",
       "      <td>566.472247</td>\n",
       "      <td>0</td>\n",
       "    </tr>\n",
       "    <tr>\n",
       "      <th>3</th>\n",
       "      <td>M</td>\n",
       "      <td>California</td>\n",
       "      <td>Bachelor</td>\n",
       "      <td>0.0</td>\n",
       "      <td>765.0</td>\n",
       "      <td>Corporate Auto</td>\n",
       "      <td>SUV</td>\n",
       "      <td>106.0</td>\n",
       "      <td>529.881344</td>\n",
       "      <td>0</td>\n",
       "    </tr>\n",
       "    <tr>\n",
       "      <th>4</th>\n",
       "      <td>M</td>\n",
       "      <td>Washington</td>\n",
       "      <td>High School or Below</td>\n",
       "      <td>36357.0</td>\n",
       "      <td>536.0</td>\n",
       "      <td>Personal Auto</td>\n",
       "      <td>Four-Door Car</td>\n",
       "      <td>68.0</td>\n",
       "      <td>17.269323</td>\n",
       "      <td>0</td>\n",
       "    </tr>\n",
       "    <tr>\n",
       "      <th>...</th>\n",
       "      <td>...</td>\n",
       "      <td>...</td>\n",
       "      <td>...</td>\n",
       "      <td>...</td>\n",
       "      <td>...</td>\n",
       "      <td>...</td>\n",
       "      <td>...</td>\n",
       "      <td>...</td>\n",
       "      <td>...</td>\n",
       "      <td>...</td>\n",
       "    </tr>\n",
       "    <tr>\n",
       "      <th>7065</th>\n",
       "      <td>M</td>\n",
       "      <td>California</td>\n",
       "      <td>Bachelor</td>\n",
       "      <td>71941.0</td>\n",
       "      <td>23.0</td>\n",
       "      <td>Personal Auto</td>\n",
       "      <td>Four-Door Car</td>\n",
       "      <td>73.0</td>\n",
       "      <td>198.234764</td>\n",
       "      <td>0</td>\n",
       "    </tr>\n",
       "    <tr>\n",
       "      <th>7066</th>\n",
       "      <td>F</td>\n",
       "      <td>California</td>\n",
       "      <td>College</td>\n",
       "      <td>21604.0</td>\n",
       "      <td>3.0</td>\n",
       "      <td>Corporate Auto</td>\n",
       "      <td>Four-Door Car</td>\n",
       "      <td>79.0</td>\n",
       "      <td>379.200000</td>\n",
       "      <td>0</td>\n",
       "    </tr>\n",
       "    <tr>\n",
       "      <th>7067</th>\n",
       "      <td>M</td>\n",
       "      <td>California</td>\n",
       "      <td>Bachelor</td>\n",
       "      <td>0.0</td>\n",
       "      <td>8.0</td>\n",
       "      <td>Corporate Auto</td>\n",
       "      <td>Four-Door Car</td>\n",
       "      <td>85.0</td>\n",
       "      <td>790.784983</td>\n",
       "      <td>3</td>\n",
       "    </tr>\n",
       "    <tr>\n",
       "      <th>7068</th>\n",
       "      <td>M</td>\n",
       "      <td>California</td>\n",
       "      <td>College</td>\n",
       "      <td>21941.0</td>\n",
       "      <td>8.0</td>\n",
       "      <td>Personal Auto</td>\n",
       "      <td>Four-Door Car</td>\n",
       "      <td>96.0</td>\n",
       "      <td>691.200000</td>\n",
       "      <td>0</td>\n",
       "    </tr>\n",
       "    <tr>\n",
       "      <th>7069</th>\n",
       "      <td>M</td>\n",
       "      <td>California</td>\n",
       "      <td>College</td>\n",
       "      <td>0.0</td>\n",
       "      <td>3.0</td>\n",
       "      <td>Corporate Auto</td>\n",
       "      <td>Two-Door Car</td>\n",
       "      <td>77.0</td>\n",
       "      <td>369.600000</td>\n",
       "      <td>0</td>\n",
       "    </tr>\n",
       "  </tbody>\n",
       "</table>\n",
       "<p>9135 rows × 10 columns</p>\n",
       "</div>"
      ],
      "text/plain": [
       "     gender       state             education   income  \\\n",
       "0       NaN  Washington                Master      0.0   \n",
       "1         F     Arizona              Bachelor      0.0   \n",
       "2         F      Nevada              Bachelor  48767.0   \n",
       "3         M  California              Bachelor      0.0   \n",
       "4         M  Washington  High School or Below  36357.0   \n",
       "...     ...         ...                   ...      ...   \n",
       "7065      M  California              Bachelor  71941.0   \n",
       "7066      F  California               College  21604.0   \n",
       "7067      M  California              Bachelor      0.0   \n",
       "7068      M  California               College  21941.0   \n",
       "7069      M  California               College      0.0   \n",
       "\n",
       "      customer lifetime value     policy type  vehicle class  \\\n",
       "0                         NaN   Personal Auto  Four-Door Car   \n",
       "1                       698.0   Personal Auto  Four-Door Car   \n",
       "2                      1289.0   Personal Auto   Two-Door Car   \n",
       "3                       765.0  Corporate Auto            SUV   \n",
       "4                       536.0   Personal Auto  Four-Door Car   \n",
       "...                       ...             ...            ...   \n",
       "7065                     23.0   Personal Auto  Four-Door Car   \n",
       "7066                      3.0  Corporate Auto  Four-Door Car   \n",
       "7067                      8.0  Corporate Auto  Four-Door Car   \n",
       "7068                      8.0   Personal Auto  Four-Door Car   \n",
       "7069                      3.0  Corporate Auto   Two-Door Car   \n",
       "\n",
       "      monthly premium auto  total claim amount number of open complaints  \n",
       "0                   1000.0            2.704934                         0  \n",
       "1                     94.0         1131.464935                         0  \n",
       "2                    108.0          566.472247                         0  \n",
       "3                    106.0          529.881344                         0  \n",
       "4                     68.0           17.269323                         0  \n",
       "...                    ...                 ...                       ...  \n",
       "7065                  73.0          198.234764                         0  \n",
       "7066                  79.0          379.200000                         0  \n",
       "7067                  85.0          790.784983                         3  \n",
       "7068                  96.0          691.200000                         0  \n",
       "7069                  77.0          369.600000                         0  \n",
       "\n",
       "[9135 rows x 10 columns]"
      ]
     },
     "execution_count": 46,
     "metadata": {},
     "output_type": "execute_result"
    }
   ],
   "source": [
    "file4"
   ]
  },
  {
   "cell_type": "code",
   "execution_count": 47,
   "id": "df80f4b8",
   "metadata": {
    "ExecuteTime": {
     "end_time": "2023-01-24T15:25:44.123788Z",
     "start_time": "2023-01-24T15:25:44.121839Z"
    }
   },
   "outputs": [],
   "source": [
    "file4[\"number of open complaints\"] = file4[\"number of open complaints\"].replace(\"/00\",\"\")"
   ]
  },
  {
   "cell_type": "code",
   "execution_count": 48,
   "id": "78d1c344",
   "metadata": {
    "ExecuteTime": {
     "end_time": "2023-01-24T15:25:44.127107Z",
     "start_time": "2023-01-24T15:25:44.124754Z"
    },
    "run_control": {
     "marked": true
    }
   },
   "outputs": [
    {
     "data": {
      "text/plain": [
       "array(['0', 'nan', '2', '3', '1', '5', '4'], dtype=object)"
      ]
     },
     "execution_count": 48,
     "metadata": {},
     "output_type": "execute_result"
    }
   ],
   "source": [
    "file4[\"number of open complaints\"].unique()"
   ]
  },
  {
   "cell_type": "markdown",
   "id": "0d2c74d5",
   "metadata": {},
   "source": [
    "### Standardizing the texts in gender"
   ]
  },
  {
   "cell_type": "code",
   "execution_count": 49,
   "id": "b83024ab",
   "metadata": {
    "ExecuteTime": {
     "end_time": "2023-01-24T15:25:44.130418Z",
     "start_time": "2023-01-24T15:25:44.128156Z"
    }
   },
   "outputs": [
    {
     "data": {
      "text/plain": [
       "array([nan, 'F', 'M', 'Femal', 'Male', 'female'], dtype=object)"
      ]
     },
     "execution_count": 49,
     "metadata": {},
     "output_type": "execute_result"
    }
   ],
   "source": [
    "file4[\"gender\"].unique()"
   ]
  },
  {
   "cell_type": "code",
   "execution_count": 50,
   "id": "b2af0e6f",
   "metadata": {
    "ExecuteTime": {
     "end_time": "2023-01-24T15:25:44.133113Z",
     "start_time": "2023-01-24T15:25:44.131398Z"
    }
   },
   "outputs": [],
   "source": [
    "def clean_gender(i):\n",
    "    if i in [\"M\", \"Male\"]:\n",
    "        return \"M\"\n",
    "    elif i in [\"F\", \"female\", \"Femal\"]:\n",
    "        return \"F\"\n",
    "    else:\n",
    "        return i"
   ]
  },
  {
   "cell_type": "code",
   "execution_count": 51,
   "id": "3da3ec35",
   "metadata": {
    "ExecuteTime": {
     "end_time": "2023-01-24T15:25:44.136942Z",
     "start_time": "2023-01-24T15:25:44.133850Z"
    }
   },
   "outputs": [],
   "source": [
    "file4[\"gender\"] = list(map(clean_gender, file4[\"gender\"])) "
   ]
  },
  {
   "cell_type": "code",
   "execution_count": 52,
   "id": "48d6f639",
   "metadata": {
    "ExecuteTime": {
     "end_time": "2023-01-24T15:25:44.140233Z",
     "start_time": "2023-01-24T15:25:44.137835Z"
    }
   },
   "outputs": [
    {
     "data": {
      "text/plain": [
       "array([nan, 'F', 'M'], dtype=object)"
      ]
     },
     "execution_count": 52,
     "metadata": {},
     "output_type": "execute_result"
    }
   ],
   "source": [
    "file4[\"gender\"].unique()"
   ]
  },
  {
   "cell_type": "code",
   "execution_count": 53,
   "id": "9f2a39ec",
   "metadata": {
    "ExecuteTime": {
     "end_time": "2023-01-24T15:25:44.148097Z",
     "start_time": "2023-01-24T15:25:44.141170Z"
    }
   },
   "outputs": [
    {
     "data": {
      "text/html": [
       "<div>\n",
       "<style scoped>\n",
       "    .dataframe tbody tr th:only-of-type {\n",
       "        vertical-align: middle;\n",
       "    }\n",
       "\n",
       "    .dataframe tbody tr th {\n",
       "        vertical-align: top;\n",
       "    }\n",
       "\n",
       "    .dataframe thead th {\n",
       "        text-align: right;\n",
       "    }\n",
       "</style>\n",
       "<table border=\"1\" class=\"dataframe\">\n",
       "  <thead>\n",
       "    <tr style=\"text-align: right;\">\n",
       "      <th></th>\n",
       "      <th>gender</th>\n",
       "      <th>state</th>\n",
       "      <th>education</th>\n",
       "      <th>income</th>\n",
       "      <th>customer lifetime value</th>\n",
       "      <th>policy type</th>\n",
       "      <th>vehicle class</th>\n",
       "      <th>monthly premium auto</th>\n",
       "      <th>total claim amount</th>\n",
       "      <th>number of open complaints</th>\n",
       "    </tr>\n",
       "  </thead>\n",
       "  <tbody>\n",
       "    <tr>\n",
       "      <th>0</th>\n",
       "      <td>NaN</td>\n",
       "      <td>Washington</td>\n",
       "      <td>Master</td>\n",
       "      <td>0.0</td>\n",
       "      <td>NaN</td>\n",
       "      <td>Personal Auto</td>\n",
       "      <td>Four-Door Car</td>\n",
       "      <td>1000.0</td>\n",
       "      <td>2.704934</td>\n",
       "      <td>0</td>\n",
       "    </tr>\n",
       "    <tr>\n",
       "      <th>1</th>\n",
       "      <td>F</td>\n",
       "      <td>Arizona</td>\n",
       "      <td>Bachelor</td>\n",
       "      <td>0.0</td>\n",
       "      <td>698.0</td>\n",
       "      <td>Personal Auto</td>\n",
       "      <td>Four-Door Car</td>\n",
       "      <td>94.0</td>\n",
       "      <td>1131.464935</td>\n",
       "      <td>0</td>\n",
       "    </tr>\n",
       "    <tr>\n",
       "      <th>2</th>\n",
       "      <td>F</td>\n",
       "      <td>Nevada</td>\n",
       "      <td>Bachelor</td>\n",
       "      <td>48767.0</td>\n",
       "      <td>1289.0</td>\n",
       "      <td>Personal Auto</td>\n",
       "      <td>Two-Door Car</td>\n",
       "      <td>108.0</td>\n",
       "      <td>566.472247</td>\n",
       "      <td>0</td>\n",
       "    </tr>\n",
       "    <tr>\n",
       "      <th>3</th>\n",
       "      <td>M</td>\n",
       "      <td>California</td>\n",
       "      <td>Bachelor</td>\n",
       "      <td>0.0</td>\n",
       "      <td>765.0</td>\n",
       "      <td>Corporate Auto</td>\n",
       "      <td>SUV</td>\n",
       "      <td>106.0</td>\n",
       "      <td>529.881344</td>\n",
       "      <td>0</td>\n",
       "    </tr>\n",
       "    <tr>\n",
       "      <th>4</th>\n",
       "      <td>M</td>\n",
       "      <td>Washington</td>\n",
       "      <td>High School or Below</td>\n",
       "      <td>36357.0</td>\n",
       "      <td>536.0</td>\n",
       "      <td>Personal Auto</td>\n",
       "      <td>Four-Door Car</td>\n",
       "      <td>68.0</td>\n",
       "      <td>17.269323</td>\n",
       "      <td>0</td>\n",
       "    </tr>\n",
       "    <tr>\n",
       "      <th>...</th>\n",
       "      <td>...</td>\n",
       "      <td>...</td>\n",
       "      <td>...</td>\n",
       "      <td>...</td>\n",
       "      <td>...</td>\n",
       "      <td>...</td>\n",
       "      <td>...</td>\n",
       "      <td>...</td>\n",
       "      <td>...</td>\n",
       "      <td>...</td>\n",
       "    </tr>\n",
       "    <tr>\n",
       "      <th>7065</th>\n",
       "      <td>M</td>\n",
       "      <td>California</td>\n",
       "      <td>Bachelor</td>\n",
       "      <td>71941.0</td>\n",
       "      <td>23.0</td>\n",
       "      <td>Personal Auto</td>\n",
       "      <td>Four-Door Car</td>\n",
       "      <td>73.0</td>\n",
       "      <td>198.234764</td>\n",
       "      <td>0</td>\n",
       "    </tr>\n",
       "    <tr>\n",
       "      <th>7066</th>\n",
       "      <td>F</td>\n",
       "      <td>California</td>\n",
       "      <td>College</td>\n",
       "      <td>21604.0</td>\n",
       "      <td>3.0</td>\n",
       "      <td>Corporate Auto</td>\n",
       "      <td>Four-Door Car</td>\n",
       "      <td>79.0</td>\n",
       "      <td>379.200000</td>\n",
       "      <td>0</td>\n",
       "    </tr>\n",
       "    <tr>\n",
       "      <th>7067</th>\n",
       "      <td>M</td>\n",
       "      <td>California</td>\n",
       "      <td>Bachelor</td>\n",
       "      <td>0.0</td>\n",
       "      <td>8.0</td>\n",
       "      <td>Corporate Auto</td>\n",
       "      <td>Four-Door Car</td>\n",
       "      <td>85.0</td>\n",
       "      <td>790.784983</td>\n",
       "      <td>3</td>\n",
       "    </tr>\n",
       "    <tr>\n",
       "      <th>7068</th>\n",
       "      <td>M</td>\n",
       "      <td>California</td>\n",
       "      <td>College</td>\n",
       "      <td>21941.0</td>\n",
       "      <td>8.0</td>\n",
       "      <td>Personal Auto</td>\n",
       "      <td>Four-Door Car</td>\n",
       "      <td>96.0</td>\n",
       "      <td>691.200000</td>\n",
       "      <td>0</td>\n",
       "    </tr>\n",
       "    <tr>\n",
       "      <th>7069</th>\n",
       "      <td>M</td>\n",
       "      <td>California</td>\n",
       "      <td>College</td>\n",
       "      <td>0.0</td>\n",
       "      <td>3.0</td>\n",
       "      <td>Corporate Auto</td>\n",
       "      <td>Two-Door Car</td>\n",
       "      <td>77.0</td>\n",
       "      <td>369.600000</td>\n",
       "      <td>0</td>\n",
       "    </tr>\n",
       "  </tbody>\n",
       "</table>\n",
       "<p>9135 rows × 10 columns</p>\n",
       "</div>"
      ],
      "text/plain": [
       "     gender       state             education   income  \\\n",
       "0       NaN  Washington                Master      0.0   \n",
       "1         F     Arizona              Bachelor      0.0   \n",
       "2         F      Nevada              Bachelor  48767.0   \n",
       "3         M  California              Bachelor      0.0   \n",
       "4         M  Washington  High School or Below  36357.0   \n",
       "...     ...         ...                   ...      ...   \n",
       "7065      M  California              Bachelor  71941.0   \n",
       "7066      F  California               College  21604.0   \n",
       "7067      M  California              Bachelor      0.0   \n",
       "7068      M  California               College  21941.0   \n",
       "7069      M  California               College      0.0   \n",
       "\n",
       "      customer lifetime value     policy type  vehicle class  \\\n",
       "0                         NaN   Personal Auto  Four-Door Car   \n",
       "1                       698.0   Personal Auto  Four-Door Car   \n",
       "2                      1289.0   Personal Auto   Two-Door Car   \n",
       "3                       765.0  Corporate Auto            SUV   \n",
       "4                       536.0   Personal Auto  Four-Door Car   \n",
       "...                       ...             ...            ...   \n",
       "7065                     23.0   Personal Auto  Four-Door Car   \n",
       "7066                      3.0  Corporate Auto  Four-Door Car   \n",
       "7067                      8.0  Corporate Auto  Four-Door Car   \n",
       "7068                      8.0   Personal Auto  Four-Door Car   \n",
       "7069                      3.0  Corporate Auto   Two-Door Car   \n",
       "\n",
       "      monthly premium auto  total claim amount number of open complaints  \n",
       "0                   1000.0            2.704934                         0  \n",
       "1                     94.0         1131.464935                         0  \n",
       "2                    108.0          566.472247                         0  \n",
       "3                    106.0          529.881344                         0  \n",
       "4                     68.0           17.269323                         0  \n",
       "...                    ...                 ...                       ...  \n",
       "7065                  73.0          198.234764                         0  \n",
       "7066                  79.0          379.200000                         0  \n",
       "7067                  85.0          790.784983                         3  \n",
       "7068                  96.0          691.200000                         0  \n",
       "7069                  77.0          369.600000                         0  \n",
       "\n",
       "[9135 rows x 10 columns]"
      ]
     },
     "execution_count": 53,
     "metadata": {},
     "output_type": "execute_result"
    }
   ],
   "source": [
    "file4"
   ]
  },
  {
   "cell_type": "markdown",
   "id": "d26a8ad6",
   "metadata": {},
   "source": [
    "### Standardizing the texts in state"
   ]
  },
  {
   "cell_type": "code",
   "execution_count": 54,
   "id": "fe26b731",
   "metadata": {
    "ExecuteTime": {
     "end_time": "2023-01-24T15:25:44.150379Z",
     "start_time": "2023-01-24T15:25:44.149070Z"
    }
   },
   "outputs": [],
   "source": [
    "# PZ using the pandas method replace is also an option here. You can use a dictionary of replacement rules like {\"from\": \"to\"}\n",
    "# "
   ]
  },
  {
   "cell_type": "code",
   "execution_count": 55,
   "id": "c5efcb9c",
   "metadata": {
    "ExecuteTime": {
     "end_time": "2023-01-24T15:25:44.153957Z",
     "start_time": "2023-01-24T15:25:44.151192Z"
    }
   },
   "outputs": [
    {
     "data": {
      "text/plain": [
       "array(['Washington', 'Arizona', 'Nevada', 'California', 'Oregon', 'Cali',\n",
       "       'AZ', 'WA', nan], dtype=object)"
      ]
     },
     "execution_count": 55,
     "metadata": {},
     "output_type": "execute_result"
    }
   ],
   "source": [
    "file4[\"state\"].unique()"
   ]
  },
  {
   "cell_type": "code",
   "execution_count": 56,
   "id": "70577f71",
   "metadata": {
    "ExecuteTime": {
     "end_time": "2023-01-24T15:25:44.156505Z",
     "start_time": "2023-01-24T15:25:44.154806Z"
    }
   },
   "outputs": [],
   "source": [
    "def clean_state(i):\n",
    "    if i in [\"Washington\", \"WA\"]:\n",
    "        return \"Washington\"\n",
    "    elif i in [\"Arizona\", \"AZ\"]:\n",
    "        return \"Arizona\"\n",
    "    else:\n",
    "        return i"
   ]
  },
  {
   "cell_type": "code",
   "execution_count": 57,
   "id": "7b7d978a",
   "metadata": {
    "ExecuteTime": {
     "end_time": "2023-01-24T15:25:44.160301Z",
     "start_time": "2023-01-24T15:25:44.157402Z"
    }
   },
   "outputs": [],
   "source": [
    "file4[\"state\"] = list(map(clean_state, file4[\"state\"])) "
   ]
  },
  {
   "cell_type": "code",
   "execution_count": 58,
   "id": "872890cd",
   "metadata": {
    "ExecuteTime": {
     "end_time": "2023-01-24T15:25:44.163504Z",
     "start_time": "2023-01-24T15:25:44.161147Z"
    }
   },
   "outputs": [
    {
     "data": {
      "text/plain": [
       "array(['Washington', 'Arizona', 'Nevada', 'California', 'Oregon', 'Cali',\n",
       "       nan], dtype=object)"
      ]
     },
     "execution_count": 58,
     "metadata": {},
     "output_type": "execute_result"
    }
   ],
   "source": [
    "file4[\"state\"].unique()"
   ]
  },
  {
   "cell_type": "markdown",
   "id": "e1f3f239",
   "metadata": {},
   "source": [
    "# Activity 2"
   ]
  },
  {
   "cell_type": "markdown",
   "id": "8c25417a",
   "metadata": {},
   "source": [
    "Replacing null values – Replace missing values with means of the column (for numerical columns). Pay attention that the Income feature for instance has 0s which is equivalent to null values. (We assume here that there is no such income with 0 as it refers to missing values) Hint: numpy.nan is considered of float64 data type."
   ]
  },
  {
   "cell_type": "code",
   "execution_count": 59,
   "id": "97241a08",
   "metadata": {
    "ExecuteTime": {
     "end_time": "2023-01-24T15:25:44.170697Z",
     "start_time": "2023-01-24T15:25:44.164387Z"
    }
   },
   "outputs": [
    {
     "data": {
      "text/html": [
       "<div>\n",
       "<style scoped>\n",
       "    .dataframe tbody tr th:only-of-type {\n",
       "        vertical-align: middle;\n",
       "    }\n",
       "\n",
       "    .dataframe tbody tr th {\n",
       "        vertical-align: top;\n",
       "    }\n",
       "\n",
       "    .dataframe thead th {\n",
       "        text-align: right;\n",
       "    }\n",
       "</style>\n",
       "<table border=\"1\" class=\"dataframe\">\n",
       "  <thead>\n",
       "    <tr style=\"text-align: right;\">\n",
       "      <th></th>\n",
       "      <th>gender</th>\n",
       "      <th>state</th>\n",
       "      <th>education</th>\n",
       "      <th>income</th>\n",
       "      <th>customer lifetime value</th>\n",
       "      <th>policy type</th>\n",
       "      <th>vehicle class</th>\n",
       "      <th>monthly premium auto</th>\n",
       "      <th>total claim amount</th>\n",
       "      <th>number of open complaints</th>\n",
       "    </tr>\n",
       "  </thead>\n",
       "  <tbody>\n",
       "    <tr>\n",
       "      <th>0</th>\n",
       "      <td>NaN</td>\n",
       "      <td>Washington</td>\n",
       "      <td>Master</td>\n",
       "      <td>0.0</td>\n",
       "      <td>NaN</td>\n",
       "      <td>Personal Auto</td>\n",
       "      <td>Four-Door Car</td>\n",
       "      <td>1000.0</td>\n",
       "      <td>2.704934</td>\n",
       "      <td>0</td>\n",
       "    </tr>\n",
       "    <tr>\n",
       "      <th>1</th>\n",
       "      <td>F</td>\n",
       "      <td>Arizona</td>\n",
       "      <td>Bachelor</td>\n",
       "      <td>0.0</td>\n",
       "      <td>698.0</td>\n",
       "      <td>Personal Auto</td>\n",
       "      <td>Four-Door Car</td>\n",
       "      <td>94.0</td>\n",
       "      <td>1131.464935</td>\n",
       "      <td>0</td>\n",
       "    </tr>\n",
       "    <tr>\n",
       "      <th>2</th>\n",
       "      <td>F</td>\n",
       "      <td>Nevada</td>\n",
       "      <td>Bachelor</td>\n",
       "      <td>48767.0</td>\n",
       "      <td>1289.0</td>\n",
       "      <td>Personal Auto</td>\n",
       "      <td>Two-Door Car</td>\n",
       "      <td>108.0</td>\n",
       "      <td>566.472247</td>\n",
       "      <td>0</td>\n",
       "    </tr>\n",
       "    <tr>\n",
       "      <th>3</th>\n",
       "      <td>M</td>\n",
       "      <td>California</td>\n",
       "      <td>Bachelor</td>\n",
       "      <td>0.0</td>\n",
       "      <td>765.0</td>\n",
       "      <td>Corporate Auto</td>\n",
       "      <td>SUV</td>\n",
       "      <td>106.0</td>\n",
       "      <td>529.881344</td>\n",
       "      <td>0</td>\n",
       "    </tr>\n",
       "    <tr>\n",
       "      <th>4</th>\n",
       "      <td>M</td>\n",
       "      <td>Washington</td>\n",
       "      <td>High School or Below</td>\n",
       "      <td>36357.0</td>\n",
       "      <td>536.0</td>\n",
       "      <td>Personal Auto</td>\n",
       "      <td>Four-Door Car</td>\n",
       "      <td>68.0</td>\n",
       "      <td>17.269323</td>\n",
       "      <td>0</td>\n",
       "    </tr>\n",
       "    <tr>\n",
       "      <th>...</th>\n",
       "      <td>...</td>\n",
       "      <td>...</td>\n",
       "      <td>...</td>\n",
       "      <td>...</td>\n",
       "      <td>...</td>\n",
       "      <td>...</td>\n",
       "      <td>...</td>\n",
       "      <td>...</td>\n",
       "      <td>...</td>\n",
       "      <td>...</td>\n",
       "    </tr>\n",
       "    <tr>\n",
       "      <th>7065</th>\n",
       "      <td>M</td>\n",
       "      <td>California</td>\n",
       "      <td>Bachelor</td>\n",
       "      <td>71941.0</td>\n",
       "      <td>23.0</td>\n",
       "      <td>Personal Auto</td>\n",
       "      <td>Four-Door Car</td>\n",
       "      <td>73.0</td>\n",
       "      <td>198.234764</td>\n",
       "      <td>0</td>\n",
       "    </tr>\n",
       "    <tr>\n",
       "      <th>7066</th>\n",
       "      <td>F</td>\n",
       "      <td>California</td>\n",
       "      <td>College</td>\n",
       "      <td>21604.0</td>\n",
       "      <td>3.0</td>\n",
       "      <td>Corporate Auto</td>\n",
       "      <td>Four-Door Car</td>\n",
       "      <td>79.0</td>\n",
       "      <td>379.200000</td>\n",
       "      <td>0</td>\n",
       "    </tr>\n",
       "    <tr>\n",
       "      <th>7067</th>\n",
       "      <td>M</td>\n",
       "      <td>California</td>\n",
       "      <td>Bachelor</td>\n",
       "      <td>0.0</td>\n",
       "      <td>8.0</td>\n",
       "      <td>Corporate Auto</td>\n",
       "      <td>Four-Door Car</td>\n",
       "      <td>85.0</td>\n",
       "      <td>790.784983</td>\n",
       "      <td>3</td>\n",
       "    </tr>\n",
       "    <tr>\n",
       "      <th>7068</th>\n",
       "      <td>M</td>\n",
       "      <td>California</td>\n",
       "      <td>College</td>\n",
       "      <td>21941.0</td>\n",
       "      <td>8.0</td>\n",
       "      <td>Personal Auto</td>\n",
       "      <td>Four-Door Car</td>\n",
       "      <td>96.0</td>\n",
       "      <td>691.200000</td>\n",
       "      <td>0</td>\n",
       "    </tr>\n",
       "    <tr>\n",
       "      <th>7069</th>\n",
       "      <td>M</td>\n",
       "      <td>California</td>\n",
       "      <td>College</td>\n",
       "      <td>0.0</td>\n",
       "      <td>3.0</td>\n",
       "      <td>Corporate Auto</td>\n",
       "      <td>Two-Door Car</td>\n",
       "      <td>77.0</td>\n",
       "      <td>369.600000</td>\n",
       "      <td>0</td>\n",
       "    </tr>\n",
       "  </tbody>\n",
       "</table>\n",
       "<p>9135 rows × 10 columns</p>\n",
       "</div>"
      ],
      "text/plain": [
       "     gender       state             education   income  \\\n",
       "0       NaN  Washington                Master      0.0   \n",
       "1         F     Arizona              Bachelor      0.0   \n",
       "2         F      Nevada              Bachelor  48767.0   \n",
       "3         M  California              Bachelor      0.0   \n",
       "4         M  Washington  High School or Below  36357.0   \n",
       "...     ...         ...                   ...      ...   \n",
       "7065      M  California              Bachelor  71941.0   \n",
       "7066      F  California               College  21604.0   \n",
       "7067      M  California              Bachelor      0.0   \n",
       "7068      M  California               College  21941.0   \n",
       "7069      M  California               College      0.0   \n",
       "\n",
       "      customer lifetime value     policy type  vehicle class  \\\n",
       "0                         NaN   Personal Auto  Four-Door Car   \n",
       "1                       698.0   Personal Auto  Four-Door Car   \n",
       "2                      1289.0   Personal Auto   Two-Door Car   \n",
       "3                       765.0  Corporate Auto            SUV   \n",
       "4                       536.0   Personal Auto  Four-Door Car   \n",
       "...                       ...             ...            ...   \n",
       "7065                     23.0   Personal Auto  Four-Door Car   \n",
       "7066                      3.0  Corporate Auto  Four-Door Car   \n",
       "7067                      8.0  Corporate Auto  Four-Door Car   \n",
       "7068                      8.0   Personal Auto  Four-Door Car   \n",
       "7069                      3.0  Corporate Auto   Two-Door Car   \n",
       "\n",
       "      monthly premium auto  total claim amount number of open complaints  \n",
       "0                   1000.0            2.704934                         0  \n",
       "1                     94.0         1131.464935                         0  \n",
       "2                    108.0          566.472247                         0  \n",
       "3                    106.0          529.881344                         0  \n",
       "4                     68.0           17.269323                         0  \n",
       "...                    ...                 ...                       ...  \n",
       "7065                  73.0          198.234764                         0  \n",
       "7066                  79.0          379.200000                         0  \n",
       "7067                  85.0          790.784983                         3  \n",
       "7068                  96.0          691.200000                         0  \n",
       "7069                  77.0          369.600000                         0  \n",
       "\n",
       "[9135 rows x 10 columns]"
      ]
     },
     "execution_count": 59,
     "metadata": {},
     "output_type": "execute_result"
    }
   ],
   "source": [
    "file4"
   ]
  },
  {
   "cell_type": "markdown",
   "id": "ba26fa04",
   "metadata": {},
   "source": [
    "### Replacing missing values for income"
   ]
  },
  {
   "cell_type": "code",
   "execution_count": 60,
   "id": "a1e8e193",
   "metadata": {
    "ExecuteTime": {
     "end_time": "2023-01-24T15:25:44.174189Z",
     "start_time": "2023-01-24T15:25:44.171613Z"
    }
   },
   "outputs": [
    {
     "data": {
      "text/plain": [
       "array([    0., 48767., 36357., ..., 66367., 71941., 21941.])"
      ]
     },
     "execution_count": 60,
     "metadata": {},
     "output_type": "execute_result"
    }
   ],
   "source": [
    "# 0 is considered missing value\n",
    "file4[\"income\"].unique()"
   ]
  },
  {
   "cell_type": "code",
   "execution_count": 61,
   "id": "414f7632",
   "metadata": {
    "ExecuteTime": {
     "end_time": "2023-01-24T15:25:44.177428Z",
     "start_time": "2023-01-24T15:25:44.175025Z"
    }
   },
   "outputs": [
    {
     "data": {
      "text/plain": [
       "37824.84705495949"
      ]
     },
     "execution_count": 61,
     "metadata": {},
     "output_type": "execute_result"
    }
   ],
   "source": [
    "mean_income = file4[\"income\"].mean()\n",
    "mean_income"
   ]
  },
  {
   "cell_type": "code",
   "execution_count": 62,
   "id": "9419b5b9",
   "metadata": {
    "ExecuteTime": {
     "end_time": "2023-01-24T15:25:44.180118Z",
     "start_time": "2023-01-24T15:25:44.178339Z"
    }
   },
   "outputs": [],
   "source": [
    "def zero_to_mean_income(i): \n",
    "    \"\"\"changes value of zero to the mean income of the dataset\"\"\"\n",
    "    mean_income = file4[\"income\"].mean()\n",
    "    if i == 0:\n",
    "        return mean_income\n",
    "    else:\n",
    "        return i    \n"
   ]
  },
  {
   "cell_type": "code",
   "execution_count": 63,
   "id": "25814dda",
   "metadata": {
    "ExecuteTime": {
     "end_time": "2023-01-24T15:25:44.184120Z",
     "start_time": "2023-01-24T15:25:44.181025Z"
    }
   },
   "outputs": [
    {
     "data": {
      "text/plain": [
       "True"
      ]
     },
     "execution_count": 63,
     "metadata": {},
     "output_type": "execute_result"
    }
   ],
   "source": [
    "# a more direct way is\n",
    "file4.income.replace(0, file4.income.mean(),inplace=True)\n",
    "file4.income.min()>0"
   ]
  },
  {
   "cell_type": "code",
   "execution_count": 64,
   "id": "7d990266",
   "metadata": {
    "ExecuteTime": {
     "end_time": "2023-01-24T15:25:44.186664Z",
     "start_time": "2023-01-24T15:25:44.185120Z"
    }
   },
   "outputs": [],
   "source": [
    "#file4[\"income\"] = list(map(zero_to_mean_income,file4[\"income\"]))"
   ]
  },
  {
   "cell_type": "code",
   "execution_count": 65,
   "id": "c88a1272",
   "metadata": {
    "ExecuteTime": {
     "end_time": "2023-01-24T15:25:44.191119Z",
     "start_time": "2023-01-24T15:25:44.187507Z"
    }
   },
   "outputs": [
    {
     "data": {
      "text/plain": [
       "10037.0"
      ]
     },
     "execution_count": 65,
     "metadata": {},
     "output_type": "execute_result"
    }
   ],
   "source": [
    "file4.income.min()"
   ]
  },
  {
   "cell_type": "code",
   "execution_count": 66,
   "id": "4fd24225",
   "metadata": {
    "ExecuteTime": {
     "end_time": "2023-01-24T15:25:44.194826Z",
     "start_time": "2023-01-24T15:25:44.192059Z"
    },
    "scrolled": true
   },
   "outputs": [
    {
     "data": {
      "text/plain": [
       "False    9134\n",
       "True        1\n",
       "Name: income, dtype: int64"
      ]
     },
     "execution_count": 66,
     "metadata": {},
     "output_type": "execute_result"
    }
   ],
   "source": [
    "# still 1 NaN value left\n",
    "file4[\"income\"].isna().value_counts()"
   ]
  },
  {
   "cell_type": "code",
   "execution_count": 67,
   "id": "3aecf75a",
   "metadata": {
    "ExecuteTime": {
     "end_time": "2023-01-24T15:25:44.199584Z",
     "start_time": "2023-01-24T15:25:44.195751Z"
    }
   },
   "outputs": [
    {
     "data": {
      "text/plain": [
       "gender                       NaN\n",
       "state                        NaN\n",
       "education                    NaN\n",
       "income                       NaN\n",
       "customer lifetime value      NaN\n",
       "policy type                  NaN\n",
       "vehicle class                NaN\n",
       "monthly premium auto         NaN\n",
       "total claim amount           NaN\n",
       "number of open complaints    nan\n",
       "Name: 1071, dtype: object"
      ]
     },
     "execution_count": 67,
     "metadata": {},
     "output_type": "execute_result"
    }
   ],
   "source": [
    "file4.iloc[1071]"
   ]
  },
  {
   "cell_type": "code",
   "execution_count": 68,
   "id": "bb9ffeb4",
   "metadata": {
    "ExecuteTime": {
     "end_time": "2023-01-24T15:25:44.217554Z",
     "start_time": "2023-01-24T15:25:44.211744Z"
    }
   },
   "outputs": [
    {
     "data": {
      "text/html": [
       "<div>\n",
       "<style scoped>\n",
       "    .dataframe tbody tr th:only-of-type {\n",
       "        vertical-align: middle;\n",
       "    }\n",
       "\n",
       "    .dataframe tbody tr th {\n",
       "        vertical-align: top;\n",
       "    }\n",
       "\n",
       "    .dataframe thead th {\n",
       "        text-align: right;\n",
       "    }\n",
       "</style>\n",
       "<table border=\"1\" class=\"dataframe\">\n",
       "  <thead>\n",
       "    <tr style=\"text-align: right;\">\n",
       "      <th></th>\n",
       "      <th>gender</th>\n",
       "      <th>state</th>\n",
       "      <th>education</th>\n",
       "      <th>income</th>\n",
       "      <th>customer lifetime value</th>\n",
       "      <th>policy type</th>\n",
       "      <th>vehicle class</th>\n",
       "      <th>monthly premium auto</th>\n",
       "      <th>total claim amount</th>\n",
       "      <th>number of open complaints</th>\n",
       "    </tr>\n",
       "  </thead>\n",
       "  <tbody>\n",
       "    <tr>\n",
       "      <th>1071</th>\n",
       "      <td>NaN</td>\n",
       "      <td>NaN</td>\n",
       "      <td>NaN</td>\n",
       "      <td>NaN</td>\n",
       "      <td>NaN</td>\n",
       "      <td>NaN</td>\n",
       "      <td>NaN</td>\n",
       "      <td>NaN</td>\n",
       "      <td>NaN</td>\n",
       "      <td>nan</td>\n",
       "    </tr>\n",
       "  </tbody>\n",
       "</table>\n",
       "</div>"
      ],
      "text/plain": [
       "     gender state education  income  customer lifetime value policy type  \\\n",
       "1071    NaN   NaN       NaN     NaN                      NaN         NaN   \n",
       "\n",
       "     vehicle class  monthly premium auto  total claim amount  \\\n",
       "1071           NaN                   NaN                 NaN   \n",
       "\n",
       "     number of open complaints  \n",
       "1071                       nan  "
      ]
     },
     "execution_count": 68,
     "metadata": {},
     "output_type": "execute_result"
    }
   ],
   "source": [
    "filt=file4.income.isna()==True\n",
    "file4[filt]"
   ]
  },
  {
   "cell_type": "code",
   "execution_count": 69,
   "id": "85eba878",
   "metadata": {
    "ExecuteTime": {
     "end_time": "2023-01-24T15:25:44.220817Z",
     "start_time": "2023-01-24T15:25:44.218593Z"
    }
   },
   "outputs": [],
   "source": [
    "file4[\"income\"] = file4[\"income\"].fillna(mean_income)"
   ]
  },
  {
   "cell_type": "code",
   "execution_count": 70,
   "id": "0ca7e277",
   "metadata": {
    "ExecuteTime": {
     "end_time": "2023-01-24T15:25:44.224342Z",
     "start_time": "2023-01-24T15:25:44.221755Z"
    }
   },
   "outputs": [
    {
     "data": {
      "text/plain": [
       "False    9135\n",
       "Name: income, dtype: int64"
      ]
     },
     "execution_count": 70,
     "metadata": {},
     "output_type": "execute_result"
    }
   ],
   "source": [
    "file4[\"income\"].isna().value_counts()"
   ]
  },
  {
   "cell_type": "code",
   "execution_count": 71,
   "id": "e6b46aa7",
   "metadata": {
    "ExecuteTime": {
     "end_time": "2023-01-24T15:25:44.231217Z",
     "start_time": "2023-01-24T15:25:44.225252Z"
    }
   },
   "outputs": [
    {
     "data": {
      "text/html": [
       "<div>\n",
       "<style scoped>\n",
       "    .dataframe tbody tr th:only-of-type {\n",
       "        vertical-align: middle;\n",
       "    }\n",
       "\n",
       "    .dataframe tbody tr th {\n",
       "        vertical-align: top;\n",
       "    }\n",
       "\n",
       "    .dataframe thead th {\n",
       "        text-align: right;\n",
       "    }\n",
       "</style>\n",
       "<table border=\"1\" class=\"dataframe\">\n",
       "  <thead>\n",
       "    <tr style=\"text-align: right;\">\n",
       "      <th></th>\n",
       "      <th>gender</th>\n",
       "      <th>state</th>\n",
       "      <th>education</th>\n",
       "      <th>income</th>\n",
       "      <th>customer lifetime value</th>\n",
       "      <th>policy type</th>\n",
       "      <th>vehicle class</th>\n",
       "      <th>monthly premium auto</th>\n",
       "      <th>total claim amount</th>\n",
       "      <th>number of open complaints</th>\n",
       "    </tr>\n",
       "  </thead>\n",
       "  <tbody>\n",
       "    <tr>\n",
       "      <th>1071</th>\n",
       "      <td>NaN</td>\n",
       "      <td>NaN</td>\n",
       "      <td>NaN</td>\n",
       "      <td>37824.847055</td>\n",
       "      <td>NaN</td>\n",
       "      <td>NaN</td>\n",
       "      <td>NaN</td>\n",
       "      <td>NaN</td>\n",
       "      <td>NaN</td>\n",
       "      <td>nan</td>\n",
       "    </tr>\n",
       "  </tbody>\n",
       "</table>\n",
       "</div>"
      ],
      "text/plain": [
       "     gender state education        income  customer lifetime value  \\\n",
       "1071    NaN   NaN       NaN  37824.847055                      NaN   \n",
       "\n",
       "     policy type vehicle class  monthly premium auto  total claim amount  \\\n",
       "1071         NaN           NaN                   NaN                 NaN   \n",
       "\n",
       "     number of open complaints  \n",
       "1071                       nan  "
      ]
     },
     "execution_count": 71,
     "metadata": {},
     "output_type": "execute_result"
    }
   ],
   "source": [
    "file4[filt]"
   ]
  },
  {
   "cell_type": "code",
   "execution_count": 72,
   "id": "48e11cd5",
   "metadata": {
    "ExecuteTime": {
     "end_time": "2023-01-24T15:25:44.235523Z",
     "start_time": "2023-01-24T15:25:44.232154Z"
    }
   },
   "outputs": [],
   "source": [
    "# (PZ) the rest of the row is still bad. better to just drop the row\n",
    "file4.drop(file4[filt].index,axis=0,inplace=True)"
   ]
  },
  {
   "cell_type": "markdown",
   "id": "2eddd3ef",
   "metadata": {},
   "source": [
    "### Now replacing missing values for customer lifetime value"
   ]
  },
  {
   "cell_type": "code",
   "execution_count": 73,
   "id": "3533e232",
   "metadata": {
    "ExecuteTime": {
     "end_time": "2023-01-24T15:25:44.238919Z",
     "start_time": "2023-01-24T15:25:44.236413Z"
    }
   },
   "outputs": [
    {
     "data": {
      "text/plain": [
       "array([  nan,  698., 1289., ...,   68.,   65.,   46.])"
      ]
     },
     "execution_count": 73,
     "metadata": {},
     "output_type": "execute_result"
    }
   ],
   "source": [
    "file4[\"customer lifetime value\"].unique() # it's not very informative to call unique for a continuous variable"
   ]
  },
  {
   "cell_type": "code",
   "execution_count": 99,
   "id": "58b04e48",
   "metadata": {
    "ExecuteTime": {
     "end_time": "2023-01-24T15:30:04.270389Z",
     "start_time": "2023-01-24T15:30:04.263801Z"
    }
   },
   "outputs": [
    {
     "data": {
      "text/plain": [
       "False"
      ]
     },
     "execution_count": 99,
     "metadata": {},
     "output_type": "execute_result"
    }
   ],
   "source": [
    "# to check for a nan it's better to \n",
    "file4['customer lifetime value'].isna().any()"
   ]
  },
  {
   "cell_type": "code",
   "execution_count": 75,
   "id": "d0d11cd3",
   "metadata": {
    "ExecuteTime": {
     "end_time": "2023-01-24T15:25:44.245408Z",
     "start_time": "2023-01-24T15:25:44.243064Z"
    }
   },
   "outputs": [
    {
     "data": {
      "text/plain": [
       "182.09730440499672"
      ]
     },
     "execution_count": 75,
     "metadata": {},
     "output_type": "execute_result"
    }
   ],
   "source": [
    "#compute mean\n",
    "mean_clv = file4[\"customer lifetime value\"].mean()\n",
    "mean_clv"
   ]
  },
  {
   "cell_type": "code",
   "execution_count": 76,
   "id": "c9456321",
   "metadata": {
    "ExecuteTime": {
     "end_time": "2023-01-24T15:25:44.248790Z",
     "start_time": "2023-01-24T15:25:44.246217Z"
    }
   },
   "outputs": [
    {
     "data": {
      "text/plain": [
       "8.0"
      ]
     },
     "execution_count": 76,
     "metadata": {},
     "output_type": "execute_result"
    }
   ],
   "source": [
    "#maybe fill up with median instead?\n",
    "median_clv = file4[\"customer lifetime value\"].median()\n",
    "median_clv"
   ]
  },
  {
   "cell_type": "code",
   "execution_count": 77,
   "id": "ad4a9630",
   "metadata": {
    "ExecuteTime": {
     "end_time": "2023-01-24T15:25:44.251472Z",
     "start_time": "2023-01-24T15:25:44.249612Z"
    }
   },
   "outputs": [],
   "source": [
    "file4[\"customer lifetime value\"] = file4[\"customer lifetime value\"].fillna(mean_clv)"
   ]
  },
  {
   "cell_type": "code",
   "execution_count": 78,
   "id": "872549c6",
   "metadata": {
    "ExecuteTime": {
     "end_time": "2023-01-24T15:25:44.254780Z",
     "start_time": "2023-01-24T15:25:44.252237Z"
    }
   },
   "outputs": [
    {
     "data": {
      "text/plain": [
       "array([ 182.0973044,  698.       , 1289.       , ...,   68.       ,\n",
       "         65.       ,   46.       ])"
      ]
     },
     "execution_count": 78,
     "metadata": {},
     "output_type": "execute_result"
    }
   ],
   "source": [
    "#check\n",
    "file4[\"customer lifetime value\"].unique()"
   ]
  },
  {
   "cell_type": "markdown",
   "id": "1cf19a8e",
   "metadata": {},
   "source": [
    "### No missing values for monthly premium auto"
   ]
  },
  {
   "cell_type": "code",
   "execution_count": 79,
   "id": "716f813d",
   "metadata": {
    "ExecuteTime": {
     "end_time": "2023-01-24T15:25:44.258463Z",
     "start_time": "2023-01-24T15:25:44.255641Z"
    }
   },
   "outputs": [
    {
     "data": {
      "text/plain": [
       "array([ 1000.,    94.,   108.,   106.,    68.,    69.,    67.,   101.,\n",
       "          71.,    93.,   110.,    70.,    64.,    72.,    74.,    79.,\n",
       "          73.,    61.,   111.,    80.,    63.,   237.,    65.,   130.,\n",
       "          62.,   117.,    91.,    90.,    66.,    99.,   103., 35354.,\n",
       "         172.,    92.,   104.,   113.,   124.,   105.,   100.,   112.,\n",
       "          97.,    95.,   102.,    96.,   186.,    77.,    76.,   119.,\n",
       "          87.,   109.,   107.,    88.,    85.,  6464.,   133.,    86.,\n",
       "          78.,    89.,   192.,   118.,   140.,   127.,   126.,    82.,\n",
       "         115.,   217.,   114.,   138.,    81.,   255.,   150.,   123.,\n",
       "         116.,   190.,    98.,   159.,    84.,    83.,   152.,   136.,\n",
       "         245.,   135.,  1005.,   225.,   132.,   153.,   121.,   139.,\n",
       "         154.,   161.,   156.,   171.,   244.,   183.,   176.,   230.,\n",
       "         129.,   177.,   181.,   196.,   131.,   276.,   253.,   137.,\n",
       "         180.,   203.,   147.,   165.,   198.,   125.,   193.,   128.,\n",
       "         271.,   142., 10202.,   206.,   182.,   189.,   160.,   295.,\n",
       "         210.,   134., 35353.,   239.,   188.,   256.,   173.,   285.,\n",
       "         148.,   141.,   197.,   199.,   214.,   175.,   167.,   194.,\n",
       "         164.,   222.,   215.,   283.,   169.,   248.,   223.,   151.,\n",
       "         213.,   145.,   185.,   287.,   297.,  5353.,   201.,   149.,\n",
       "         146.,  7575.,   235.,   268.,   211.,   187.,   168.,   122.,\n",
       "         143.,   155.,   166.,   212.,   249.,   240.,   191.,   195.,\n",
       "         216.,   144.,   179.,   232.,   158.,   207.,   184.,   238.,\n",
       "         229.,   220.,   178.,   204.,   281.,   170.,   234.,   218.,\n",
       "         275.,   209.,   261.,   157.,   205.,   228.,   242.,   284.,\n",
       "         231.,   208.,   296.,   202.,   162.,   274.,   219.,   247.,\n",
       "         290.,   226.,   163.,   298.,   266.,   254.,   252.,   174.,\n",
       "         286.])"
      ]
     },
     "execution_count": 79,
     "metadata": {},
     "output_type": "execute_result"
    }
   ],
   "source": [
    "file4[\"monthly premium auto\"].unique()"
   ]
  },
  {
   "cell_type": "markdown",
   "id": "827d2d6f",
   "metadata": {},
   "source": [
    "### No missing values for total claim amount"
   ]
  },
  {
   "cell_type": "code",
   "execution_count": 80,
   "id": "4ccc3b36",
   "metadata": {
    "ExecuteTime": {
     "end_time": "2023-01-24T15:25:44.264158Z",
     "start_time": "2023-01-24T15:25:44.259220Z"
    }
   },
   "outputs": [
    {
     "data": {
      "text/plain": [
       "array([ 1000.,    94.,   108.,   106.,    68.,    69.,    67.,   101.,\n",
       "          71.,    93.,   110.,    70.,    64.,    72.,    74.,    79.,\n",
       "          73.,    61.,   111.,    80.,    63.,   237.,    65.,   130.,\n",
       "          62.,   117.,    91.,    90.,    66.,    99.,   103., 35354.,\n",
       "         172.,    92.,   104.,   113.,   124.,   105.,   100.,   112.,\n",
       "          97.,    95.,   102.,    96.,   186.,    77.,    76.,   119.,\n",
       "          87.,   109.,   107.,    88.,    85.,  6464.,   133.,    86.,\n",
       "          78.,    89.,   192.,   118.,   140.,   127.,   126.,    82.,\n",
       "         115.,   217.,   114.,   138.,    81.,   255.,   150.,   123.,\n",
       "         116.,   190.,    98.,   159.,    84.,    83.,   152.,   136.,\n",
       "         245.,   135.,  1005.,   225.,   132.,   153.,   121.,   139.,\n",
       "         154.,   161.,   156.,   171.,   244.,   183.,   176.,   230.,\n",
       "         129.,   177.,   181.,   196.,   131.,   276.,   253.,   137.,\n",
       "         180.,   203.,   147.,   165.,   198.,   125.,   193.,   128.,\n",
       "         271.,   142., 10202.,   206.,   182.,   189.,   160.,   295.,\n",
       "         210.,   134., 35353.,   239.,   188.,   256.,   173.,   285.,\n",
       "         148.,   141.,   197.,   199.,   214.,   175.,   167.,   194.,\n",
       "         164.,   222.,   215.,   283.,   169.,   248.,   223.,   151.,\n",
       "         213.,   145.,   185.,   287.,   297.,  5353.,   201.,   149.,\n",
       "         146.,  7575.,   235.,   268.,   211.,   187.,   168.,   122.,\n",
       "         143.,   155.,   166.,   212.,   249.,   240.,   191.,   195.,\n",
       "         216.,   144.,   179.,   232.,   158.,   207.,   184.,   238.,\n",
       "         229.,   220.,   178.,   204.,   281.,   170.,   234.,   218.,\n",
       "         275.,   209.,   261.,   157.,   205.,   228.,   242.,   284.,\n",
       "         231.,   208.,   296.,   202.,   162.,   274.,   219.,   247.,\n",
       "         290.,   226.,   163.,   298.,   266.,   254.,   252.,   174.,\n",
       "         286.])"
      ]
     },
     "execution_count": 80,
     "metadata": {},
     "output_type": "execute_result"
    }
   ],
   "source": [
    "file4[\"monthly premium auto\"].unique()"
   ]
  },
  {
   "cell_type": "markdown",
   "id": "34b2a019",
   "metadata": {},
   "source": [
    "### Finally replacing missing values for number of open complaints"
   ]
  },
  {
   "cell_type": "code",
   "execution_count": 100,
   "id": "db2f99bd",
   "metadata": {
    "ExecuteTime": {
     "end_time": "2023-01-24T15:34:04.019873Z",
     "start_time": "2023-01-24T15:34:04.012310Z"
    }
   },
   "outputs": [
    {
     "data": {
      "text/plain": [
       "array([0, 2, 3, 1, 5, 4])"
      ]
     },
     "execution_count": 100,
     "metadata": {},
     "output_type": "execute_result"
    }
   ],
   "source": [
    "file4[\"number of open complaints\"].unique()"
   ]
  },
  {
   "cell_type": "code",
   "execution_count": 108,
   "id": "8e2b28d3",
   "metadata": {
    "ExecuteTime": {
     "end_time": "2023-01-24T15:38:53.719271Z",
     "start_time": "2023-01-24T15:38:53.707143Z"
    }
   },
   "outputs": [
    {
     "data": {
      "text/plain": [
       "0.0"
      ]
     },
     "execution_count": 108,
     "metadata": {},
     "output_type": "execute_result"
    }
   ],
   "source": [
    "np.median([0,0,0,0,0,0,0, 0, 2, 3, 1, 5, 4])"
   ]
  },
  {
   "cell_type": "code",
   "execution_count": 102,
   "id": "6042f863",
   "metadata": {
    "ExecuteTime": {
     "end_time": "2023-01-24T15:34:06.193707Z",
     "start_time": "2023-01-24T15:34:06.188170Z"
    }
   },
   "outputs": [],
   "source": [
    "file4[\"number of open complaints\"] = file4[\"number of open complaints\"].astype(int)"
   ]
  },
  {
   "cell_type": "code",
   "execution_count": 103,
   "id": "bd03916c",
   "metadata": {
    "ExecuteTime": {
     "end_time": "2023-01-24T15:34:07.935530Z",
     "start_time": "2023-01-24T15:34:07.927222Z"
    }
   },
   "outputs": [
    {
     "data": {
      "text/plain": [
       "False"
      ]
     },
     "execution_count": 103,
     "metadata": {},
     "output_type": "execute_result"
    }
   ],
   "source": [
    "    file4[\"number of open complaints\"].isna().any()"
   ]
  },
  {
   "cell_type": "code",
   "execution_count": 104,
   "id": "fa5dc3d1",
   "metadata": {
    "ExecuteTime": {
     "end_time": "2023-01-24T15:34:12.338272Z",
     "start_time": "2023-01-24T15:34:12.329319Z"
    }
   },
   "outputs": [
    {
     "data": {
      "text/plain": [
       "0    7693\n",
       "1     765\n",
       "2     282\n",
       "3     230\n",
       "4     119\n",
       "5      44\n",
       "Name: number of open complaints, dtype: int64"
      ]
     },
     "execution_count": 104,
     "metadata": {},
     "output_type": "execute_result"
    }
   ],
   "source": [
    "file4['number of open complaints'].value_counts()"
   ]
  },
  {
   "cell_type": "code",
   "execution_count": 105,
   "id": "ebb7a00c",
   "metadata": {
    "ExecuteTime": {
     "end_time": "2023-01-24T15:34:14.235332Z",
     "start_time": "2023-01-24T15:34:14.226441Z"
    }
   },
   "outputs": [
    {
     "data": {
      "text/plain": [
       "0.29727362312493155"
      ]
     },
     "execution_count": 105,
     "metadata": {},
     "output_type": "execute_result"
    }
   ],
   "source": [
    "mean_noc = file4[\"number of open complaints\"].mean()\n",
    "mean_noc"
   ]
  },
  {
   "cell_type": "code",
   "execution_count": 106,
   "id": "440e71d2",
   "metadata": {
    "ExecuteTime": {
     "end_time": "2023-01-24T15:34:15.140766Z",
     "start_time": "2023-01-24T15:34:15.133354Z"
    }
   },
   "outputs": [
    {
     "data": {
      "text/plain": [
       "0.0"
      ]
     },
     "execution_count": 106,
     "metadata": {},
     "output_type": "execute_result"
    }
   ],
   "source": [
    " file4[\"number of open complaints\"].median()"
   ]
  },
  {
   "cell_type": "code",
   "execution_count": 107,
   "id": "1f9e264f",
   "metadata": {
    "ExecuteTime": {
     "end_time": "2023-01-24T15:34:22.512857Z",
     "start_time": "2023-01-24T15:34:22.504654Z"
    },
    "run_control": {
     "marked": true
    }
   },
   "outputs": [
    {
     "data": {
      "text/plain": [
       "0.0"
      ]
     },
     "execution_count": 107,
     "metadata": {},
     "output_type": "execute_result"
    }
   ],
   "source": [
    "file4[\"number of open complaints\"] = file4[\"number of open complaints\"].astype(int)\n",
    "median_noc = file4[\"number of open complaints\"].median()\n",
    "median_noc"
   ]
  },
  {
   "cell_type": "code",
   "execution_count": 89,
   "id": "3a6f4158",
   "metadata": {
    "ExecuteTime": {
     "end_time": "2023-01-24T15:25:44.296778Z",
     "start_time": "2023-01-24T15:25:44.293794Z"
    }
   },
   "outputs": [
    {
     "data": {
      "text/plain": [
       "0       0\n",
       "1       0\n",
       "2       0\n",
       "3       0\n",
       "4       0\n",
       "       ..\n",
       "7065    0\n",
       "7066    0\n",
       "7067    3\n",
       "7068    0\n",
       "7069    0\n",
       "Name: number of open complaints, Length: 9133, dtype: int64"
      ]
     },
     "execution_count": 89,
     "metadata": {},
     "output_type": "execute_result"
    }
   ],
   "source": [
    "file4[\"number of open complaints\"].fillna()"
   ]
  },
  {
   "cell_type": "code",
   "execution_count": 90,
   "id": "19349e3f",
   "metadata": {
    "ExecuteTime": {
     "end_time": "2023-01-24T15:25:44.299015Z",
     "start_time": "2023-01-24T15:25:44.297666Z"
    }
   },
   "outputs": [],
   "source": []
  },
  {
   "cell_type": "code",
   "execution_count": 91,
   "id": "08c4aa03",
   "metadata": {
    "ExecuteTime": {
     "end_time": "2023-01-24T15:25:44.302335Z",
     "start_time": "2023-01-24T15:25:44.299747Z"
    }
   },
   "outputs": [
    {
     "data": {
      "text/plain": [
       "0       0\n",
       "1       0\n",
       "2       0\n",
       "3       0\n",
       "4       0\n",
       "       ..\n",
       "7065    0\n",
       "7066    0\n",
       "7067    3\n",
       "7068    0\n",
       "7069    0\n",
       "Name: number of open complaints, Length: 9133, dtype: int64"
      ]
     },
     "execution_count": 91,
     "metadata": {},
     "output_type": "execute_result"
    }
   ],
   "source": [
    "file4['number of open complaints']"
   ]
  },
  {
   "cell_type": "code",
   "execution_count": 92,
   "id": "40fa5df0",
   "metadata": {
    "ExecuteTime": {
     "end_time": "2023-01-24T15:25:44.305891Z",
     "start_time": "2023-01-24T15:25:44.303266Z"
    }
   },
   "outputs": [
    {
     "data": {
      "text/plain": [
       "array([0, 2, 3, 1, 5, 4])"
      ]
     },
     "execution_count": 92,
     "metadata": {},
     "output_type": "execute_result"
    }
   ],
   "source": [
    "file4[\"number of open complaints\"] = file4[\"number of open complaints\"].fillna(value=3)\n",
    "#check\n",
    "file4[\"number of open complaints\"].unique()"
   ]
  },
  {
   "cell_type": "markdown",
   "id": "cb61359c",
   "metadata": {},
   "source": [
    "## Write function to turn states into regions"
   ]
  },
  {
   "cell_type": "markdown",
   "id": "7a368809",
   "metadata": {},
   "source": [
    "Bucketing the data - Write a function to replace column \"State\" to different zones. California as West Region, Oregon as North West, and Washington as East, and Arizona and Nevada as Central"
   ]
  },
  {
   "cell_type": "code",
   "execution_count": 93,
   "id": "24e4f99e",
   "metadata": {
    "ExecuteTime": {
     "end_time": "2023-01-24T15:25:44.310387Z",
     "start_time": "2023-01-24T15:25:44.308311Z"
    }
   },
   "outputs": [],
   "source": [
    "def state_into_regions(i):\n",
    "    if i == \"California\":\n",
    "        return \"West Region\"\n",
    "    elif i == \"Oregon\":\n",
    "        return \"North West\"\n",
    "    elif i == \"Washington\":\n",
    "        return \"East\"\n",
    "    elif i == \"Arizona\" or i == \"Nevada\":\n",
    "        return \"Central\"\n",
    "    else:\n",
    "        return i"
   ]
  },
  {
   "cell_type": "code",
   "execution_count": 94,
   "id": "9eac9167",
   "metadata": {
    "ExecuteTime": {
     "end_time": "2023-01-24T15:25:44.314410Z",
     "start_time": "2023-01-24T15:25:44.311374Z"
    }
   },
   "outputs": [],
   "source": [
    "file4[\"state\"] = list(map(state_into_regions,file4[\"state\"]))"
   ]
  },
  {
   "cell_type": "code",
   "execution_count": 95,
   "id": "4432dc22",
   "metadata": {
    "ExecuteTime": {
     "end_time": "2023-01-24T15:25:44.317867Z",
     "start_time": "2023-01-24T15:25:44.315355Z"
    }
   },
   "outputs": [
    {
     "data": {
      "text/plain": [
       "array(['East', 'Central', 'West Region', 'North West', 'Cali'],\n",
       "      dtype=object)"
      ]
     },
     "execution_count": 95,
     "metadata": {},
     "output_type": "execute_result"
    }
   ],
   "source": [
    "file4[\"state\"].unique()"
   ]
  },
  {
   "cell_type": "code",
   "execution_count": 96,
   "id": "f1e5622f",
   "metadata": {
    "ExecuteTime": {
     "end_time": "2023-01-24T15:25:44.325228Z",
     "start_time": "2023-01-24T15:25:44.318708Z"
    }
   },
   "outputs": [
    {
     "data": {
      "text/html": [
       "<div>\n",
       "<style scoped>\n",
       "    .dataframe tbody tr th:only-of-type {\n",
       "        vertical-align: middle;\n",
       "    }\n",
       "\n",
       "    .dataframe tbody tr th {\n",
       "        vertical-align: top;\n",
       "    }\n",
       "\n",
       "    .dataframe thead th {\n",
       "        text-align: right;\n",
       "    }\n",
       "</style>\n",
       "<table border=\"1\" class=\"dataframe\">\n",
       "  <thead>\n",
       "    <tr style=\"text-align: right;\">\n",
       "      <th></th>\n",
       "      <th>gender</th>\n",
       "      <th>state</th>\n",
       "      <th>education</th>\n",
       "      <th>income</th>\n",
       "      <th>customer lifetime value</th>\n",
       "      <th>policy type</th>\n",
       "      <th>vehicle class</th>\n",
       "      <th>monthly premium auto</th>\n",
       "      <th>total claim amount</th>\n",
       "      <th>number of open complaints</th>\n",
       "    </tr>\n",
       "  </thead>\n",
       "  <tbody>\n",
       "    <tr>\n",
       "      <th>0</th>\n",
       "      <td>NaN</td>\n",
       "      <td>East</td>\n",
       "      <td>Master</td>\n",
       "      <td>37824.847055</td>\n",
       "      <td>182.097304</td>\n",
       "      <td>Personal Auto</td>\n",
       "      <td>Four-Door Car</td>\n",
       "      <td>1000.0</td>\n",
       "      <td>2.704934</td>\n",
       "      <td>0</td>\n",
       "    </tr>\n",
       "    <tr>\n",
       "      <th>1</th>\n",
       "      <td>F</td>\n",
       "      <td>Central</td>\n",
       "      <td>Bachelor</td>\n",
       "      <td>37824.847055</td>\n",
       "      <td>698.000000</td>\n",
       "      <td>Personal Auto</td>\n",
       "      <td>Four-Door Car</td>\n",
       "      <td>94.0</td>\n",
       "      <td>1131.464935</td>\n",
       "      <td>0</td>\n",
       "    </tr>\n",
       "    <tr>\n",
       "      <th>2</th>\n",
       "      <td>F</td>\n",
       "      <td>Central</td>\n",
       "      <td>Bachelor</td>\n",
       "      <td>48767.000000</td>\n",
       "      <td>1289.000000</td>\n",
       "      <td>Personal Auto</td>\n",
       "      <td>Two-Door Car</td>\n",
       "      <td>108.0</td>\n",
       "      <td>566.472247</td>\n",
       "      <td>0</td>\n",
       "    </tr>\n",
       "    <tr>\n",
       "      <th>3</th>\n",
       "      <td>M</td>\n",
       "      <td>West Region</td>\n",
       "      <td>Bachelor</td>\n",
       "      <td>37824.847055</td>\n",
       "      <td>765.000000</td>\n",
       "      <td>Corporate Auto</td>\n",
       "      <td>SUV</td>\n",
       "      <td>106.0</td>\n",
       "      <td>529.881344</td>\n",
       "      <td>0</td>\n",
       "    </tr>\n",
       "    <tr>\n",
       "      <th>4</th>\n",
       "      <td>M</td>\n",
       "      <td>East</td>\n",
       "      <td>High School or Below</td>\n",
       "      <td>36357.000000</td>\n",
       "      <td>536.000000</td>\n",
       "      <td>Personal Auto</td>\n",
       "      <td>Four-Door Car</td>\n",
       "      <td>68.0</td>\n",
       "      <td>17.269323</td>\n",
       "      <td>0</td>\n",
       "    </tr>\n",
       "    <tr>\n",
       "      <th>...</th>\n",
       "      <td>...</td>\n",
       "      <td>...</td>\n",
       "      <td>...</td>\n",
       "      <td>...</td>\n",
       "      <td>...</td>\n",
       "      <td>...</td>\n",
       "      <td>...</td>\n",
       "      <td>...</td>\n",
       "      <td>...</td>\n",
       "      <td>...</td>\n",
       "    </tr>\n",
       "    <tr>\n",
       "      <th>7065</th>\n",
       "      <td>M</td>\n",
       "      <td>West Region</td>\n",
       "      <td>Bachelor</td>\n",
       "      <td>71941.000000</td>\n",
       "      <td>23.000000</td>\n",
       "      <td>Personal Auto</td>\n",
       "      <td>Four-Door Car</td>\n",
       "      <td>73.0</td>\n",
       "      <td>198.234764</td>\n",
       "      <td>0</td>\n",
       "    </tr>\n",
       "    <tr>\n",
       "      <th>7066</th>\n",
       "      <td>F</td>\n",
       "      <td>West Region</td>\n",
       "      <td>College</td>\n",
       "      <td>21604.000000</td>\n",
       "      <td>3.000000</td>\n",
       "      <td>Corporate Auto</td>\n",
       "      <td>Four-Door Car</td>\n",
       "      <td>79.0</td>\n",
       "      <td>379.200000</td>\n",
       "      <td>0</td>\n",
       "    </tr>\n",
       "    <tr>\n",
       "      <th>7067</th>\n",
       "      <td>M</td>\n",
       "      <td>West Region</td>\n",
       "      <td>Bachelor</td>\n",
       "      <td>37824.847055</td>\n",
       "      <td>8.000000</td>\n",
       "      <td>Corporate Auto</td>\n",
       "      <td>Four-Door Car</td>\n",
       "      <td>85.0</td>\n",
       "      <td>790.784983</td>\n",
       "      <td>3</td>\n",
       "    </tr>\n",
       "    <tr>\n",
       "      <th>7068</th>\n",
       "      <td>M</td>\n",
       "      <td>West Region</td>\n",
       "      <td>College</td>\n",
       "      <td>21941.000000</td>\n",
       "      <td>8.000000</td>\n",
       "      <td>Personal Auto</td>\n",
       "      <td>Four-Door Car</td>\n",
       "      <td>96.0</td>\n",
       "      <td>691.200000</td>\n",
       "      <td>0</td>\n",
       "    </tr>\n",
       "    <tr>\n",
       "      <th>7069</th>\n",
       "      <td>M</td>\n",
       "      <td>West Region</td>\n",
       "      <td>College</td>\n",
       "      <td>37824.847055</td>\n",
       "      <td>3.000000</td>\n",
       "      <td>Corporate Auto</td>\n",
       "      <td>Two-Door Car</td>\n",
       "      <td>77.0</td>\n",
       "      <td>369.600000</td>\n",
       "      <td>0</td>\n",
       "    </tr>\n",
       "  </tbody>\n",
       "</table>\n",
       "<p>9133 rows × 10 columns</p>\n",
       "</div>"
      ],
      "text/plain": [
       "     gender        state             education        income  \\\n",
       "0       NaN         East                Master  37824.847055   \n",
       "1         F      Central              Bachelor  37824.847055   \n",
       "2         F      Central              Bachelor  48767.000000   \n",
       "3         M  West Region              Bachelor  37824.847055   \n",
       "4         M         East  High School or Below  36357.000000   \n",
       "...     ...          ...                   ...           ...   \n",
       "7065      M  West Region              Bachelor  71941.000000   \n",
       "7066      F  West Region               College  21604.000000   \n",
       "7067      M  West Region              Bachelor  37824.847055   \n",
       "7068      M  West Region               College  21941.000000   \n",
       "7069      M  West Region               College  37824.847055   \n",
       "\n",
       "      customer lifetime value     policy type  vehicle class  \\\n",
       "0                  182.097304   Personal Auto  Four-Door Car   \n",
       "1                  698.000000   Personal Auto  Four-Door Car   \n",
       "2                 1289.000000   Personal Auto   Two-Door Car   \n",
       "3                  765.000000  Corporate Auto            SUV   \n",
       "4                  536.000000   Personal Auto  Four-Door Car   \n",
       "...                       ...             ...            ...   \n",
       "7065                23.000000   Personal Auto  Four-Door Car   \n",
       "7066                 3.000000  Corporate Auto  Four-Door Car   \n",
       "7067                 8.000000  Corporate Auto  Four-Door Car   \n",
       "7068                 8.000000   Personal Auto  Four-Door Car   \n",
       "7069                 3.000000  Corporate Auto   Two-Door Car   \n",
       "\n",
       "      monthly premium auto  total claim amount  number of open complaints  \n",
       "0                   1000.0            2.704934                          0  \n",
       "1                     94.0         1131.464935                          0  \n",
       "2                    108.0          566.472247                          0  \n",
       "3                    106.0          529.881344                          0  \n",
       "4                     68.0           17.269323                          0  \n",
       "...                    ...                 ...                        ...  \n",
       "7065                  73.0          198.234764                          0  \n",
       "7066                  79.0          379.200000                          0  \n",
       "7067                  85.0          790.784983                          3  \n",
       "7068                  96.0          691.200000                          0  \n",
       "7069                  77.0          369.600000                          0  \n",
       "\n",
       "[9133 rows x 10 columns]"
      ]
     },
     "execution_count": 96,
     "metadata": {},
     "output_type": "execute_result"
    }
   ],
   "source": [
    "file4"
   ]
  },
  {
   "cell_type": "code",
   "execution_count": 97,
   "id": "bbc5f685",
   "metadata": {
    "ExecuteTime": {
     "end_time": "2023-01-24T15:25:44.328135Z",
     "start_time": "2023-01-24T15:25:44.326048Z"
    },
    "run_control": {
     "marked": true
    }
   },
   "outputs": [
    {
     "ename": "SyntaxError",
     "evalue": "EOL while scanning string literal (1386972559.py, line 1)",
     "output_type": "error",
     "traceback": [
      "\u001b[0;36m  Input \u001b[0;32mIn [97]\u001b[0;36m\u001b[0m\n\u001b[0;31m    fil4.to_csv('f)\u001b[0m\n\u001b[0m                   ^\u001b[0m\n\u001b[0;31mSyntaxError\u001b[0m\u001b[0;31m:\u001b[0m EOL while scanning string literal\n"
     ]
    }
   ],
   "source": [
    "fil4.to_csv(''"
   ]
  }
 ],
 "metadata": {
  "kernelspec": {
   "display_name": "Python 3 (ipykernel)",
   "language": "python",
   "name": "python3"
  },
  "language_info": {
   "codemirror_mode": {
    "name": "ipython",
    "version": 3
   },
   "file_extension": ".py",
   "mimetype": "text/x-python",
   "name": "python",
   "nbconvert_exporter": "python",
   "pygments_lexer": "ipython3",
   "version": "3.9.0"
  },
  "toc": {
   "base_numbering": 1,
   "nav_menu": {},
   "number_sections": true,
   "sideBar": true,
   "skip_h1_title": false,
   "title_cell": "Table of Contents",
   "title_sidebar": "Contents",
   "toc_cell": false,
   "toc_position": {},
   "toc_section_display": true,
   "toc_window_display": false
  },
  "varInspector": {
   "cols": {
    "lenName": 16,
    "lenType": 16,
    "lenVar": 40
   },
   "kernels_config": {
    "python": {
     "delete_cmd_postfix": "",
     "delete_cmd_prefix": "del ",
     "library": "var_list.py",
     "varRefreshCmd": "print(var_dic_list())"
    },
    "r": {
     "delete_cmd_postfix": ") ",
     "delete_cmd_prefix": "rm(",
     "library": "var_list.r",
     "varRefreshCmd": "cat(var_dic_list()) "
    }
   },
   "types_to_exclude": [
    "module",
    "function",
    "builtin_function_or_method",
    "instance",
    "_Feature"
   ],
   "window_display": false
  }
 },
 "nbformat": 4,
 "nbformat_minor": 5
}
