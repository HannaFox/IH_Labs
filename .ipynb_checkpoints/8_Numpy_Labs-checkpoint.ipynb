{
 "cells": [
  {
   "cell_type": "code",
   "execution_count": null,
   "id": "113dcfe6",
   "metadata": {},
   "outputs": [],
   "source": [
    "# numpy exercises\n",
    "\n",
    "This is a collection of exercises that have been collected in the numpy mailing list, on stack overflow\n",
    "and in the numpy documentation. The goal of this collection is to offer a quick reference for both old\n",
    "and new users but also to provide a set of exercises for those who teach.\n",
    "\n",
    "\n",
    "If you find an error or think you've a better way to solve some of them, feel\n",
    "free to open an issue at <https://github.com/rougier/numpy-100>.\n",
    "File automatically generated. See the documentation to update questions/answers/hints programmatically."
   ]
  },
  {
   "cell_type": "code",
   "execution_count": null,
   "id": "e7e3e115",
   "metadata": {},
   "outputs": [],
   "source": [
    "#### 1. Import the numpy package under the name `np` (★☆☆)\n",
    "`hint: import … as`"
   ]
  },
  {
   "cell_type": "code",
   "execution_count": 1,
   "id": "c9b9688b",
   "metadata": {},
   "outputs": [],
   "source": [
    "import numpy as np"
   ]
  },
  {
   "cell_type": "code",
   "execution_count": null,
   "id": "c045550f",
   "metadata": {},
   "outputs": [],
   "source": [
    "#### 2. Create a null vector of size 10 (★☆☆)\n",
    "`hint: np.zeros`"
   ]
  },
  {
   "cell_type": "code",
   "execution_count": 2,
   "id": "894647c2",
   "metadata": {},
   "outputs": [
    {
     "data": {
      "text/plain": [
       "array([0., 0., 0., 0., 0., 0., 0., 0., 0., 0.])"
      ]
     },
     "execution_count": 2,
     "metadata": {},
     "output_type": "execute_result"
    }
   ],
   "source": [
    "a = np.zeros([10])\n",
    "a"
   ]
  },
  {
   "cell_type": "code",
   "execution_count": 8,
   "id": "281eed37",
   "metadata": {},
   "outputs": [
    {
     "data": {
      "text/plain": [
       "array([0, 0, 0, 0, 1, 0, 0, 0, 0, 0])"
      ]
     },
     "execution_count": 8,
     "metadata": {},
     "output_type": "execute_result"
    }
   ],
   "source": [
    "#### 3. Create a null vector of size 10 but the fifth value which is 1 (★☆☆)\n",
    "#hint: array[4]`\n",
    "a = np.array([int(x==4) for x in range(10)])\n",
    "a"
   ]
  },
  {
   "cell_type": "code",
   "execution_count": 6,
   "id": "750bc89a",
   "metadata": {},
   "outputs": [
    {
     "data": {
      "text/plain": [
       "array([10, 11, 12, 13, 14, 15, 16, 17, 18, 19, 20, 21, 22, 23, 24, 25, 26,\n",
       "       27, 28, 29, 30, 31, 32, 33, 34, 35, 36, 37, 38, 39, 40, 41, 42, 43,\n",
       "       44, 45, 46, 47, 48, 49])"
      ]
     },
     "execution_count": 6,
     "metadata": {},
     "output_type": "execute_result"
    }
   ],
   "source": [
    "#### 4. Create a vector with values ranging from 10 to 49 (★☆☆)\n",
    "#hint: arange`\n",
    "a = np.arange(10,50)\n",
    "a"
   ]
  },
  {
   "cell_type": "code",
   "execution_count": 9,
   "id": "ebda77b3",
   "metadata": {},
   "outputs": [
    {
     "data": {
      "text/plain": [
       "array([[0, 1, 2],\n",
       "       [3, 4, 5],\n",
       "       [6, 7, 8]])"
      ]
     },
     "execution_count": 9,
     "metadata": {},
     "output_type": "execute_result"
    }
   ],
   "source": [
    "#### 5. Create a 3x3 matrix with values ranging from 0 to 8 (★☆☆)\n",
    "#hint: reshape`\n",
    "a = np.arange(0,9).reshape(3,3)\n",
    "a"
   ]
  },
  {
   "cell_type": "code",
   "execution_count": 16,
   "id": "d9e64d55",
   "metadata": {},
   "outputs": [
    {
     "data": {
      "text/plain": [
       "(array([0, 1, 4], dtype=int64),)"
      ]
     },
     "execution_count": 16,
     "metadata": {},
     "output_type": "execute_result"
    }
   ],
   "source": [
    "#### 6. Find indices of non-zero elements from [1,2,0,0,4,0] (★☆☆)\n",
    "#hint: np.nonzero`\n",
    "\n",
    "a = np.array([1,2,0,0,4,0]) #nonzero returns indices of non-zero elements\n",
    "indices = np.nonzero(a)\n",
    "indices"
   ]
  },
  {
   "cell_type": "code",
   "execution_count": 18,
   "id": "5e821a37",
   "metadata": {},
   "outputs": [
    {
     "data": {
      "text/plain": [
       "array([[1., 0., 0.],\n",
       "       [0., 1., 0.],\n",
       "       [0., 0., 1.]])"
      ]
     },
     "execution_count": 18,
     "metadata": {},
     "output_type": "execute_result"
    }
   ],
   "source": [
    "#### 7. Create a 3x3 identity matrix = Eiheitsmatrix!\n",
    "#hint: np.eye`\n",
    "a = np.eye(3)\n",
    "a"
   ]
  },
  {
   "cell_type": "code",
   "execution_count": 42,
   "id": "91d8fa33",
   "metadata": {},
   "outputs": [
    {
     "data": {
      "text/plain": [
       "array([[[0.43749497, 0.49281501, 0.60168967],\n",
       "        [0.67018251, 0.0351337 , 0.96990113],\n",
       "        [0.70482431, 0.32696432, 0.88150329]],\n",
       "\n",
       "       [[0.21124144, 0.69868592, 0.52855062],\n",
       "        [0.47954746, 0.72649608, 0.66963581],\n",
       "        [0.8640896 , 0.25697626, 0.63596735]],\n",
       "\n",
       "       [[0.4462032 , 0.29282878, 0.56683055],\n",
       "        [0.1167652 , 0.10681199, 0.94224282],\n",
       "        [0.44452251, 0.03090028, 0.86121373]]])"
      ]
     },
     "execution_count": 42,
     "metadata": {},
     "output_type": "execute_result"
    }
   ],
   "source": [
    "#### 8. Create a 3x3x3 array with random values (★☆☆)\n",
    "#hint: np.random.random`\n",
    "a = np.random.random((3,3,3)) #1:anzahl block 2: höhe block 3: spalten\n",
    "a"
   ]
  },
  {
   "cell_type": "code",
   "execution_count": 45,
   "id": "15bbcea9",
   "metadata": {},
   "outputs": [
    {
     "data": {
      "text/plain": [
       "0.011424626541908456"
      ]
     },
     "execution_count": 45,
     "metadata": {},
     "output_type": "execute_result"
    }
   ],
   "source": [
    "#### 9. Create a 10x10 array with random values and find the minimum and maximum values (★☆☆)\n",
    "#hint: min, max`\n",
    "a = np.random.random((10,10))\n",
    "a_min = a.min()\n",
    "a_min\n"
   ]
  },
  {
   "cell_type": "code",
   "execution_count": 46,
   "id": "11ab3ae3",
   "metadata": {},
   "outputs": [
    {
     "data": {
      "text/plain": [
       "0.989487736624734"
      ]
     },
     "execution_count": 46,
     "metadata": {},
     "output_type": "execute_result"
    }
   ],
   "source": [
    "a_max = a.max()\n",
    "a_max"
   ]
  },
  {
   "cell_type": "code",
   "execution_count": 50,
   "id": "27592579",
   "metadata": {},
   "outputs": [
    {
     "data": {
      "text/plain": [
       "array([0.34227825, 0.42450812, 0.28592976, 0.55051174, 0.90372733,\n",
       "       0.32324625, 0.0949113 , 0.03445929, 0.03187842, 0.2229898 ,\n",
       "       0.20376987, 0.7729441 , 0.63443788, 0.10402145, 0.09638423,\n",
       "       0.17916099, 0.08956725, 0.25111753, 0.30157768, 0.0235273 ,\n",
       "       0.70622956, 0.69437743, 0.69447951, 0.65152416, 0.88312023,\n",
       "       0.64828781, 0.04823871, 0.21500367, 0.97239102, 0.89850903])"
      ]
     },
     "execution_count": 50,
     "metadata": {},
     "output_type": "execute_result"
    }
   ],
   "source": [
    "#### 10. Create a random vector of size 30 and find the mean value (★☆☆)\n",
    "#hint: mean`\n",
    "a = np.random.random(30)\n",
    "a_mean = a.mean()\n",
    "a_mean\n",
    "a"
   ]
  },
  {
   "cell_type": "code",
   "execution_count": 51,
   "id": "1a117582",
   "metadata": {},
   "outputs": [
    {
     "data": {
      "text/plain": [
       "array([[0, 0, 0, 0, 0],\n",
       "       [1, 0, 0, 0, 0],\n",
       "       [0, 2, 0, 0, 0],\n",
       "       [0, 0, 3, 0, 0],\n",
       "       [0, 0, 0, 4, 0]])"
      ]
     },
     "execution_count": 51,
     "metadata": {},
     "output_type": "execute_result"
    }
   ],
   "source": [
    "#### 11. Create a 5x5 matrix with values 1,2,3,4 just below the diagonal (★☆☆)\n",
    "#hint: np.diag`\n",
    "a = np.diag(1+np.arange(4), k = -1)\n",
    "a"
   ]
  },
  {
   "cell_type": "code",
   "execution_count": 56,
   "id": "286c24a6",
   "metadata": {},
   "outputs": [
    {
     "data": {
      "text/plain": [
       "array([[ 0.28051899, -1.03533286, -0.41547736,  0.15257611, -1.6860839 ],\n",
       "       [ 1.5017592 ,  0.77378565, -0.49244505,  0.7525149 , -0.93498028],\n",
       "       [-0.24442081, -1.59790612,  0.89046564,  0.57082214, -1.4105546 ],\n",
       "       [ 1.46223321,  1.35153458, -0.31568359,  0.38922158, -0.14239098],\n",
       "       [ 0.51117526, -1.62269028,  1.34134068, -0.93974957,  0.85976747]])"
      ]
     },
     "execution_count": 56,
     "metadata": {},
     "output_type": "execute_result"
    }
   ],
   "source": [
    "#### 12. Normalize a 5x5 random matrix #normalizing means here using stdev\n",
    "#hint: (x -mean)/std`     #random always creates values between 0 and 1\n",
    "a = np.random.random((5,5))\n",
    "a_norm = (a-a.mean())/a.std()\n",
    "a_norm"
   ]
  },
  {
   "cell_type": "code",
   "execution_count": 57,
   "id": "b40017ca",
   "metadata": {},
   "outputs": [
    {
     "data": {
      "text/plain": [
       "array([4, 5, 6, 7, 8])"
      ]
     },
     "execution_count": 57,
     "metadata": {},
     "output_type": "execute_result"
    }
   ],
   "source": [
    "#### 13. How to find common values between two arrays? (★☆☆)\n",
    "#hint: np.intersect1d`\n",
    "\n",
    "a = np.arange(0,9)\n",
    "b = np.arange(4,9)\n",
    "a_b = np.intersect1d(a,b)\n",
    "a_b"
   ]
  },
  {
   "cell_type": "code",
   "execution_count": 68,
   "id": "22948a6e",
   "metadata": {},
   "outputs": [],
   "source": [
    "#### 14. Create a random vector of size 10 and sort it (★★☆)\n",
    "#hint: sort`"
   ]
  },
  {
   "cell_type": "code",
   "execution_count": 72,
   "id": "90da0854",
   "metadata": {},
   "outputs": [
    {
     "data": {
      "text/plain": [
       "array([0.11530613, 0.16544548, 0.19277329, 0.23132244, 0.24216728,\n",
       "       0.45481358, 0.5123135 , 0.56220528, 0.63949155, 0.69241219])"
      ]
     },
     "execution_count": 72,
     "metadata": {},
     "output_type": "execute_result"
    }
   ],
   "source": [
    "a = np.random.random((10)) #sort() is a in-place method, value doesnt need to be stored in new variable\n",
    "a.sort()\n",
    "a"
   ]
  },
  {
   "cell_type": "code",
   "execution_count": 74,
   "id": "cd2867b4",
   "metadata": {},
   "outputs": [
    {
     "data": {
      "text/plain": [
       "array([0.68243091, 0.63392025, 0.34563379, 0.56050061, 0.        ,\n",
       "       0.23542891, 0.05478709, 0.1074605 , 0.6153512 , 0.69629003])"
      ]
     },
     "execution_count": 74,
     "metadata": {},
     "output_type": "execute_result"
    }
   ],
   "source": [
    "#### 15. Create random vector of size 10 and replace the maximum value by 0 (★★☆)\n",
    "#hint: argmax`\n",
    "a = np.random.random((10)) # arg max (argumentum maximi, dt. Argument des Maximums\n",
    "a[a.argmax()] = 0\n",
    "a"
   ]
  },
  {
   "cell_type": "code",
   "execution_count": 85,
   "id": "7e6f2a58",
   "metadata": {},
   "outputs": [
    {
     "data": {
      "text/plain": [
       "array([[0, 1, 2],\n",
       "       [3, 4, 5],\n",
       "       [6, 7, 8]])"
      ]
     },
     "execution_count": 85,
     "metadata": {},
     "output_type": "execute_result"
    }
   ],
   "source": [
    "#### 16. Subtract the mean of each row of a matrix (★★☆)\n",
    "#hint: mean(axis=,keepdims=)`\n",
    "\n",
    "a = np.arange(0,9).reshape(3,3)\n",
    "a\n",
    "#axis along which we want the sum to be computed\n",
    "#If the axis is None, it will sum all the elements of the input array\n",
    "#If the axis is negative, the sum is computed from the last to the first axis \n",
    "#An axis with a value of 0 will compute the sum along the column\n",
    "#an axis with a value of 1 will compute row.\n",
    "#keepdims: true value ensures that the reduced axes are left as dimensions with size one in the output. This ensures that the output is broadcasted correctly against the input array. If a non-default value is passed, keepdims will be passed through to the sum() method of sub-classes of ndarray. In the case of the default value, this will not be done."
   ]
  },
  {
   "cell_type": "code",
   "execution_count": 88,
   "id": "baf60ab2",
   "metadata": {},
   "outputs": [
    {
     "data": {
      "text/plain": [
       "array([[3., 4., 5.]])"
      ]
     },
     "execution_count": 88,
     "metadata": {},
     "output_type": "execute_result"
    }
   ],
   "source": [
    "sub_mean = a.mean(axis=0, keepdims=True) #bei axis = 0 bildet mittelwert y-Achse\n",
    "sub_mean"
   ]
  },
  {
   "cell_type": "code",
   "execution_count": 89,
   "id": "85a14945",
   "metadata": {},
   "outputs": [
    {
     "data": {
      "text/plain": [
       "array([[1.],\n",
       "       [4.],\n",
       "       [7.]])"
      ]
     },
     "execution_count": 89,
     "metadata": {},
     "output_type": "execute_result"
    }
   ],
   "source": [
    "sub_mean = a.mean(axis=1, keepdims=True) #bei axis = 1 bildet mittelwert x-Achse\n",
    "sub_mean"
   ]
  },
  {
   "cell_type": "code",
   "execution_count": 107,
   "id": "ae280e26",
   "metadata": {},
   "outputs": [
    {
     "name": "stdout",
     "output_type": "stream",
     "text": [
      "[   0    1    2 ... 9997 9998 9999]\n",
      "[5927  976 7347 ... 1966 5260 5037]\n"
     ]
    }
   ],
   "source": [
    "#### 17. How to get the n largest values of an array \n",
    "#Z = np.arange(10000)\n",
    "#np.random.shuffle(Z)\n",
    "#n = 5\n",
    "#hint: np.argsort | np.argpartition`\n",
    "a = np.arange(10000)\n",
    "print(a)\n",
    "np.random.shuffle(a)\n",
    "print(a)"
   ]
  },
  {
   "cell_type": "code",
   "execution_count": 108,
   "id": "709593ea",
   "metadata": {},
   "outputs": [
    {
     "name": "stdout",
     "output_type": "stream",
     "text": [
      "\n",
      "        shuffle(x)\n",
      "\n",
      "        Modify a sequence in-place by shuffling its contents.\n",
      "\n",
      "        This function only shuffles the array along the first axis of a\n",
      "        multi-dimensional array. The order of sub-arrays is changed but\n",
      "        their contents remains the same.\n",
      "\n",
      "        .. note::\n",
      "            New code should use the ``shuffle`` method of a ``default_rng()``\n",
      "            instance instead; please see the :ref:`random-quick-start`.\n",
      "\n",
      "        Parameters\n",
      "        ----------\n",
      "        x : ndarray or MutableSequence\n",
      "            The array, list or mutable sequence to be shuffled.\n",
      "\n",
      "        Returns\n",
      "        -------\n",
      "        None\n",
      "\n",
      "        See Also\n",
      "        --------\n",
      "        Generator.shuffle: which should be used for new code.\n",
      "\n",
      "        Examples\n",
      "        --------\n",
      "        >>> arr = np.arange(10)\n",
      "        >>> np.random.shuffle(arr)\n",
      "        >>> arr\n",
      "        [1 7 5 2 9 4 3 6 0 8] # random\n",
      "\n",
      "        Multi-dimensional arrays are only shuffled along the first axis:\n",
      "\n",
      "        >>> arr = np.arange(9).reshape((3, 3))\n",
      "        >>> np.random.shuffle(arr)\n",
      "        >>> arr\n",
      "        array([[3, 4, 5], # random\n",
      "               [6, 7, 8],\n",
      "               [0, 1, 2]])\n",
      "\n",
      "        \n"
     ]
    }
   ],
   "source": [
    "print(np.random.shuffle.__doc__)"
   ]
  },
  {
   "cell_type": "code",
   "execution_count": 110,
   "id": "643d073b",
   "metadata": {},
   "outputs": [],
   "source": [
    "a_random =  np.random.shuffle(np.arange(10000))\n",
    "\n",
    " "
   ]
  },
  {
   "cell_type": "code",
   "execution_count": 113,
   "id": "06e574e9",
   "metadata": {},
   "outputs": [],
   "source": [
    "a_random =  np.arange(19)"
   ]
  },
  {
   "cell_type": "code",
   "execution_count": 114,
   "id": "7063d369",
   "metadata": {},
   "outputs": [],
   "source": [
    "np.random.shuffle(a_random)"
   ]
  },
  {
   "cell_type": "code",
   "execution_count": 115,
   "id": "c750aecb",
   "metadata": {},
   "outputs": [
    {
     "data": {
      "text/plain": [
       "array([16,  9, 15, 14,  3, 12,  8,  6, 13,  5,  7,  0,  1,  2,  4, 11, 10,\n",
       "       18, 17])"
      ]
     },
     "execution_count": 115,
     "metadata": {},
     "output_type": "execute_result"
    }
   ],
   "source": [
    "a_random"
   ]
  },
  {
   "cell_type": "code",
   "execution_count": null,
   "id": "0d3c9ac1",
   "metadata": {},
   "outputs": [],
   "source": [
    "#### 18. Create a random 5*3 matrix and replace items that are larger than 4 by their squares ( Example:  6 --> 36) \n",
    "#hint: np.where`"
   ]
  }
 ],
 "metadata": {
  "kernelspec": {
   "display_name": "Python 3 (ipykernel)",
   "language": "python",
   "name": "python3"
  },
  "language_info": {
   "codemirror_mode": {
    "name": "ipython",
    "version": 3
   },
   "file_extension": ".py",
   "mimetype": "text/x-python",
   "name": "python",
   "nbconvert_exporter": "python",
   "pygments_lexer": "ipython3",
   "version": "3.9.13"
  }
 },
 "nbformat": 4,
 "nbformat_minor": 5
}
