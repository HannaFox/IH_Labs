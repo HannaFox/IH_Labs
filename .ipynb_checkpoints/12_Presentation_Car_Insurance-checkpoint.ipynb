{
 "cells": [
  {
   "cell_type": "markdown",
   "id": "ee2a725a",
   "metadata": {},
   "source": [
    "# Car Insurance 24"
   ]
  },
  {
   "cell_type": "markdown",
   "id": "95602f0d",
   "metadata": {},
   "source": [
    "## Gaining a better understanding of our customers, improving our services and improving profitability"
   ]
  },
  {
   "cell_type": "markdown",
   "id": "582af903",
   "metadata": {},
   "source": [
    "Business Objectives:\n",
    "Retain customers,\n",
    "analyze relevant customer data,\n",
    "develop focused customer retention programs.\n",
    "Based on the analysis, take targeted actions to increase profitable customer response, retention, and growth."
   ]
  }
 ],
 "metadata": {
  "kernelspec": {
   "display_name": "Python 3 (ipykernel)",
   "language": "python",
   "name": "python3"
  },
  "language_info": {
   "codemirror_mode": {
    "name": "ipython",
    "version": 3
   },
   "file_extension": ".py",
   "mimetype": "text/x-python",
   "name": "python",
   "nbconvert_exporter": "python",
   "pygments_lexer": "ipython3",
   "version": "3.9.13"
  }
 },
 "nbformat": 4,
 "nbformat_minor": 5
}
