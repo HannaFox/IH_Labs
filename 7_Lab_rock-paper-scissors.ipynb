{
 "cells": [
  {
   "cell_type": "markdown",
   "metadata": {},
   "source": [
    "<img src=\"https://bit.ly/2VnXWr2\" width=\"100\" align=\"left\">"
   ]
  },
  {
   "cell_type": "markdown",
   "metadata": {},
   "source": [
    "# Rock, Paper & Scissors\n",
    "\n",
    "Let's play the famous game against our computer. You can check the rules [here](https://en.wikipedia.org/wiki/Rock%E2%80%93paper%E2%80%93scissors). \n",
    "\n",
    "## Task\n",
    "Create a program that imitates the playability of the well known game of rock, paper, scissors. Follow the guidelines provided.\n",
    "\n",
    "## Tools\n",
    "1. Loop: **for/while**\n",
    "2. Functions: **input(), print()...**\n",
    "3. Conditional statements: **if, elif, else**\n",
    "4. Definition of functions. Modular programming\n",
    "5. Import modules\n",
    "\n",
    "- **To solve this challenge, the use of functions is recommended.**\n",
    "- <b>Hint: You dont need necessarily to follow the instructions in this notebook to solve the tasks. simply just get the job done effeciently ;) \n",
    "\n",
    "#### 1. Import the choice function of the random module."
   ]
  },
  {
   "cell_type": "code",
   "execution_count": 1,
   "metadata": {},
   "outputs": [
    {
     "data": {
      "text/plain": [
       "'rock'"
      ]
     },
     "execution_count": 1,
     "metadata": {},
     "output_type": "execute_result"
    }
   ],
   "source": [
    "gestures = [\"rock\",\"paper\",\"scissors\"]\n",
    "import random\n",
    "random.choice(gestures)\n"
   ]
  },
  {
   "cell_type": "markdown",
   "metadata": {},
   "source": [
    "#### 2. Create a list that includes the 3 possible gesture options of the game: 'rock', 'paper' or 'scissors'. Store the list in a variable called `gestures`."
   ]
  },
  {
   "cell_type": "code",
   "execution_count": null,
   "metadata": {},
   "outputs": [],
   "source": []
  },
  {
   "cell_type": "markdown",
   "metadata": {},
   "source": [
    "#### 3. Create a variable called `n_rounds` to store the maximum number of rounds to play in a game. \n",
    "Remember that the number of rounds must be odd: 1, 3, 5, ..."
   ]
  },
  {
   "cell_type": "code",
   "execution_count": 2,
   "metadata": {},
   "outputs": [],
   "source": [
    "n_rounds = 3"
   ]
  },
  {
   "cell_type": "markdown",
   "metadata": {},
   "source": [
    "#### 4. Create a variable called `rounds_to_win` to store the number of rounds that a player must win to win the game.\n",
    "**Hint**: the value stored in `rounds_to_win` depends on the value of `n_rounds`. "
   ]
  },
  {
   "cell_type": "code",
   "execution_count": 3,
   "metadata": {},
   "outputs": [],
   "source": [
    "rounds_to_win = 2"
   ]
  },
  {
   "cell_type": "markdown",
   "metadata": {},
   "source": [
    "#### 5. Create two variables to store the number of rounds that the computer and the player have won. Call these variables `cpu_score` and `player_score`."
   ]
  },
  {
   "cell_type": "code",
   "execution_count": 4,
   "metadata": {},
   "outputs": [],
   "source": [
    "cpu_score = 0\n",
    "player_score = 0"
   ]
  },
  {
   "cell_type": "markdown",
   "metadata": {},
   "source": [
    "#### 6. Define a function that randomly returns one of the 3 gesture options.\n",
    "You will use this function to simulate the gesture choice of the computer. "
   ]
  },
  {
   "cell_type": "code",
   "execution_count": 5,
   "metadata": {},
   "outputs": [],
   "source": [
    "def cpu_choice():\n",
    "    \"\"\"creates random choice of gesture for the computer player\"\"\"\n",
    "    gestures = [\"rock\",\"paper\",\"scissors\"]\n",
    "    import random\n",
    "    random_cpu = random.choice(gestures)\n",
    "    return random_cpu\n"
   ]
  },
  {
   "cell_type": "code",
   "execution_count": 6,
   "metadata": {},
   "outputs": [
    {
     "name": "stdout",
     "output_type": "stream",
     "text": [
      "paper\n"
     ]
    }
   ],
   "source": [
    "saved_cpu_choice = cpu_choice()\n",
    "print(saved_cpu_choice)"
   ]
  },
  {
   "cell_type": "markdown",
   "metadata": {},
   "source": [
    "#### 7. Define a function that asks the player which is the gesture he or she wants to show: 'rock', 'paper' or 'scissors'.\n",
    "The player should only be allowed to choose one of the 3 gesture options. If the player's choice is not rock, paper or scissors, keep asking until it is."
   ]
  },
  {
   "cell_type": "code",
   "execution_count": 7,
   "metadata": {},
   "outputs": [],
   "source": [
    "def player_choice():\n",
    "    \"\"\"ask player for input to play the game until input is correct\"\"\"\n",
    "    x = input(\"Enter your gesture: \")\n",
    "    gestures = [\"rock\",\"paper\",\"scissors\"]\n",
    "    while x not in gestures:\n",
    "        print(\"You can only choose rock, paper or scissors.\")\n",
    "        x = input(\"Enter your gesture: \")\n",
    "    else:\n",
    "        player_choice = x\n",
    "        return player_choice \n",
    "\n",
    "            \n"
   ]
  },
  {
   "cell_type": "code",
   "execution_count": 8,
   "metadata": {},
   "outputs": [
    {
     "name": "stdout",
     "output_type": "stream",
     "text": [
      "Enter your gesture: rock\n"
     ]
    }
   ],
   "source": [
    "saved_player_choice = player_choice()"
   ]
  },
  {
   "cell_type": "code",
   "execution_count": 9,
   "metadata": {},
   "outputs": [
    {
     "name": "stdout",
     "output_type": "stream",
     "text": [
      "rock\n"
     ]
    }
   ],
   "source": [
    "print(saved_player_choice)"
   ]
  },
  {
   "cell_type": "markdown",
   "metadata": {},
   "source": [
    "#### 8. Define a function that checks who won a round. \n",
    "The function should return 0 if there is a tie, 1 if the computer wins and 2 if the player wins."
   ]
  },
  {
   "cell_type": "code",
   "execution_count": 10,
   "metadata": {},
   "outputs": [],
   "source": [
    "def who_wins():\n",
    "    if saved_cpu_choice == saved_player_choice:\n",
    "        return 0\n",
    "    elif saved_cpu_choice == \"rock\": \n",
    "        if saved_player_choice == \"scissors\":\n",
    "            return 1\n",
    "        else:\n",
    "            return 2\n",
    "    elif saved_cpu_choice == \"scissors\": \n",
    "        if saved_player_choice == \"paper\":\n",
    "            return 1\n",
    "        else:\n",
    "            return 2\n",
    "    elif saved_cpu_choice == \"paper\": \n",
    "        if saved_player_choice == \"rock\":\n",
    "            return 1\n",
    "        else:\n",
    "            return 2\n",
    "    \n",
    "    "
   ]
  },
  {
   "cell_type": "code",
   "execution_count": 11,
   "metadata": {},
   "outputs": [
    {
     "data": {
      "text/plain": [
       "1"
      ]
     },
     "execution_count": 11,
     "metadata": {},
     "output_type": "execute_result"
    }
   ],
   "source": [
    "who_wins()"
   ]
  },
  {
   "cell_type": "code",
   "execution_count": 12,
   "metadata": {},
   "outputs": [],
   "source": [
    "round_result = who_wins()"
   ]
  },
  {
   "cell_type": "code",
   "execution_count": null,
   "metadata": {},
   "outputs": [],
   "source": []
  },
  {
   "cell_type": "markdown",
   "metadata": {},
   "source": [
    "#### 9. Define a function that prints the choice of the computer, the choice of the player and a message that announces who won the current round. \n",
    "You should also use this function to update the variables that count the number of rounds that the computer and the player have won. The score of the winner increases by one point. If there is a tie, the score does not increase."
   ]
  },
  {
   "cell_type": "code",
   "execution_count": 13,
   "metadata": {},
   "outputs": [],
   "source": [
    "def count_wins():\n",
    "    global cpu_score\n",
    "    global player_score\n",
    "    print(\"computer: \",saved_cpu_choice,\"vs. player: \",saved_player_choice)\n",
    "    if round_result == 0:\n",
    "        print(\"It's a tie!\")\n",
    "    if round_result == 1:\n",
    "        cpu_score += 1\n",
    "        print(\"computer wins!\")\n",
    "    if round_result == 2:\n",
    "        player_score += 1\n",
    "        print(\"player wins!\")\n",
    "    \n",
    "    \n"
   ]
  },
  {
   "cell_type": "code",
   "execution_count": 14,
   "metadata": {},
   "outputs": [
    {
     "name": "stdout",
     "output_type": "stream",
     "text": [
      "computer:  paper vs. player:  rock\n",
      "computer wins!\n"
     ]
    }
   ],
   "source": [
    "count_wins()"
   ]
  },
  {
   "cell_type": "markdown",
   "metadata": {},
   "source": [
    "#### 10. Now it's time to code the execution of the game using the functions and variables you defined above. \n",
    "\n",
    "First, create a loop structure that repeats while no player reaches the minimum score necessary to win and the number of rounds is less than the maximum number of rounds to play in a game.  \n",
    "\n",
    "Inside the loop, use the functions and variables above to create the execution of a round: ask for the player's choice, generate the random choice of the computer, show the round results, update the scores, etc. "
   ]
  },
  {
   "cell_type": "code",
   "execution_count": 15,
   "metadata": {},
   "outputs": [
    {
     "name": "stdout",
     "output_type": "stream",
     "text": [
      "1\n"
     ]
    }
   ],
   "source": [
    "print(cpu_score)"
   ]
  },
  {
   "cell_type": "markdown",
   "metadata": {},
   "source": [
    "#### 11. Print the winner of the game based on who won more rounds.\n",
    "Remember that the game might be tied. "
   ]
  },
  {
   "cell_type": "code",
   "execution_count": 35,
   "metadata": {},
   "outputs": [
    {
     "ename": "SyntaxError",
     "evalue": "invalid syntax (1431057701.py, line 3)",
     "output_type": "error",
     "traceback": [
      "\u001b[1;36m  File \u001b[1;32m\"C:\\Users\\h_wei\\AppData\\Local\\Temp\\ipykernel_3468\\1431057701.py\"\u001b[1;36m, line \u001b[1;32m3\u001b[0m\n\u001b[1;33m    while\u001b[0m\n\u001b[1;37m          ^\u001b[0m\n\u001b[1;31mSyntaxError\u001b[0m\u001b[1;31m:\u001b[0m invalid syntax\n"
     ]
    }
   ],
   "source": [
    "def ultimate_winner():\n",
    "    \"\"\"maximum of 5 games, first who wins 2 rounds is the ultimate winner\"\"\"\n",
    "    while \n",
    "        global cpu_score\n",
    "        global player_score\n",
    "        if cpu_score == 2 or player_score == 2:\n",
    "            break\n",
    "\n",
    "\n",
    "\n"
   ]
  },
  {
   "cell_type": "code",
   "execution_count": 36,
   "metadata": {},
   "outputs": [
    {
     "name": "stdout",
     "output_type": "stream",
     "text": [
      "You are about to play rock, paper, scissors against your computer.\n",
      "First to win 2 rounds wins!\n",
      "Round 1\n",
      "Enter your gesture: paper\n",
      "Player wins!\n",
      "Round 2\n",
      "Enter your gesture: paper\n",
      "It's a tie!\n",
      "Round 3\n",
      "Enter your gesture: rock\n",
      "Computer wins!\n",
      "Round 4\n",
      "Enter your gesture: rock\n",
      "Player wins!\n",
      "You won the game!\n"
     ]
    }
   ],
   "source": [
    "#final code for RBS\n",
    "\n",
    "print(\"You are about to play rock, paper, scissors against your computer.\")\n",
    "print(\"First to win 2 rounds wins!\")\n",
    "\n",
    "\n",
    "def cpu_choice():\n",
    "    \"\"\"creates random choice of gesture for the computer player\"\"\"\n",
    "    gestures = [\"rock\",\"paper\",\"scissors\"]\n",
    "    import random\n",
    "    cpu_choice = random.choice(gestures)\n",
    "    return cpu_choice\n",
    "\n",
    "\n",
    "def player_choice():\n",
    "    \"\"\"ask player for input to play the game until input is correct\"\"\"\n",
    "    x = input(\"Enter your gesture: \")\n",
    "    gestures = [\"rock\",\"paper\",\"scissors\"]\n",
    "    while x not in gestures:\n",
    "        print(\"You can only choose rock, paper or scissors.\")\n",
    "        x = input(\"Enter your gesture: \")\n",
    "    else:\n",
    "        player_choice = x\n",
    "        return player_choice \n",
    "\n",
    " \n",
    "def who_wins():\n",
    "    #global cpu_choice\n",
    "    #global player_choice\n",
    "    \n",
    "    cpu_choices = cpu_choice()\n",
    "    player_choices = player_choice()\n",
    "    \n",
    "    if cpu_choices == player_choices:\n",
    "        return 0\n",
    "    elif cpu_choices == \"rock\": \n",
    "        if player_choices == \"scissors\":\n",
    "            return 1\n",
    "        else:\n",
    "            return 2\n",
    "    elif cpu_choices == \"scissors\": \n",
    "        if player_choices == \"paper\":\n",
    "            return 1\n",
    "        else:\n",
    "            return 2\n",
    "    elif cpu_choices == \"paper\": \n",
    "        if player_choices == \"rock\":\n",
    "            return 1\n",
    "        else:\n",
    "            return 2\n",
    "cpu_score = 0\n",
    "player_score = 0\n",
    "rounds_played = 0\n",
    "\n",
    "while rounds_played < 5 and cpu_score < 2 and player_score < 2:\n",
    "    print(\"Round \"+ str(rounds_played +1))\n",
    "    round_result = who_wins()\n",
    "    if round_result == 0:\n",
    "        print(\"It's a tie!\")\n",
    "    elif round_result == 1:\n",
    "        cpu_score += 1\n",
    "        print(\"Computer wins!\")\n",
    "    elif round_result == 2:\n",
    "        player_score += 1\n",
    "        print(\"Player wins!\")\n",
    "    rounds_played += 1\n",
    "\n",
    "if player_score > cpu_score:\n",
    "    print(\"You won the game!\")\n",
    "elif player_score < cpu_score:\n",
    "    print(\"You lost the game.\")\n",
    "else:\n",
    "    print(\"It's a tie!\")\n",
    "\n",
    "\n",
    "\n",
    "    "
   ]
  },
  {
   "cell_type": "code",
   "execution_count": 32,
   "metadata": {},
   "outputs": [
    {
     "name": "stdout",
     "output_type": "stream",
     "text": [
      "Enter your gesture: rock#\n",
      "You can only choose rock, paper or scissors.\n",
      "Enter your gesture: rock\n"
     ]
    },
    {
     "data": {
      "text/plain": [
       "2"
      ]
     },
     "execution_count": 32,
     "metadata": {},
     "output_type": "execute_result"
    }
   ],
   "source": [
    "who_wins()"
   ]
  },
  {
   "cell_type": "code",
   "execution_count": 33,
   "metadata": {},
   "outputs": [
    {
     "name": "stdout",
     "output_type": "stream",
     "text": [
      "Round 1\n",
      "Enter your gesture: rock\n",
      "Player wins!\n",
      "Round 2\n",
      "Enter your gesture: rock\n",
      "Computer wins!\n",
      "Round 3\n",
      "Enter your gesture: scisssor\n",
      "You can only choose rock, paper or scissors.\n",
      "Enter your gesture: scissors\n",
      "Player wins!\n",
      "You won the game!\n"
     ]
    }
   ],
   "source": [
    "\n",
    "cpu_score = 0\n",
    "player_score = 0\n",
    "rounds_played = 0\n",
    "\n",
    "while rounds_played < 5 and cpu_score < 2 and player_score < 2:\n",
    "    print(\"Round \"+ str(rounds_played +1))\n",
    "    round_result = who_wins()\n",
    "    if round_result == 0:\n",
    "        print(\"It's a tie!\")\n",
    "    elif round_result == 1:\n",
    "        cpu_score += 1\n",
    "        print(\"Computer wins!\")\n",
    "    elif round_result == 2:\n",
    "        player_score += 1\n",
    "        print(\"Player wins!\")\n",
    "    rounds_played += 1\n",
    "\n",
    "if player_score > cpu_score:\n",
    "    print(\"You won the game!\")\n",
    "elif player_score < cpu_score:\n",
    "    print(\"You lost the game.\")\n",
    "else:\n",
    "    print(\"It's a tie!\")\n"
   ]
  },
  {
   "cell_type": "code",
   "execution_count": 18,
   "metadata": {},
   "outputs": [
    {
     "data": {
      "text/plain": [
       "<function __main__.player_choice()>"
      ]
     },
     "execution_count": 18,
     "metadata": {},
     "output_type": "execute_result"
    }
   ],
   "source": [
    "player_choice"
   ]
  },
  {
   "cell_type": "code",
   "execution_count": 7,
   "metadata": {},
   "outputs": [
    {
     "ename": "NameError",
     "evalue": "name 'game_rps' is not defined",
     "output_type": "error",
     "traceback": [
      "\u001b[1;31m---------------------------------------------------------------------------\u001b[0m",
      "\u001b[1;31mNameError\u001b[0m                                 Traceback (most recent call last)",
      "\u001b[1;32m~\\AppData\\Local\\Temp\\ipykernel_504\\3411211541.py\u001b[0m in \u001b[0;36m<module>\u001b[1;34m\u001b[0m\n\u001b[1;32m----> 1\u001b[1;33m \u001b[0mgame_rps\u001b[0m\u001b[1;33m(\u001b[0m\u001b[1;33m)\u001b[0m\u001b[1;33m\u001b[0m\u001b[1;33m\u001b[0m\u001b[0m\n\u001b[0m",
      "\u001b[1;31mNameError\u001b[0m: name 'game_rps' is not defined"
     ]
    }
   ],
   "source": [
    "game_rps()"
   ]
  },
  {
   "cell_type": "code",
   "execution_count": 17,
   "metadata": {},
   "outputs": [
    {
     "ename": "KeyboardInterrupt",
     "evalue": "",
     "output_type": "error",
     "traceback": [
      "\u001b[1;31m---------------------------------------------------------------------------\u001b[0m",
      "\u001b[1;31mKeyboardInterrupt\u001b[0m                         Traceback (most recent call last)",
      "\u001b[1;32m~\\AppData\\Local\\Temp\\ipykernel_13200\\3411211541.py\u001b[0m in \u001b[0;36m<module>\u001b[1;34m\u001b[0m\n\u001b[1;32m----> 1\u001b[1;33m \u001b[0mgame_rps\u001b[0m\u001b[1;33m(\u001b[0m\u001b[1;33m)\u001b[0m\u001b[1;33m\u001b[0m\u001b[1;33m\u001b[0m\u001b[0m\n\u001b[0m",
      "\u001b[1;32m~\\AppData\\Local\\Temp\\ipykernel_13200\\2858339228.py\u001b[0m in \u001b[0;36mgame_rps\u001b[1;34m()\u001b[0m\n\u001b[0;32m     47\u001b[0m                         \u001b[1;32mreturn\u001b[0m \u001b[1;36m2\u001b[0m\u001b[1;33m\u001b[0m\u001b[1;33m\u001b[0m\u001b[0m\n\u001b[0;32m     48\u001b[0m \u001b[1;33m\u001b[0m\u001b[0m\n\u001b[1;32m---> 49\u001b[1;33m         \u001b[1;32mdef\u001b[0m \u001b[0mcount_wins\u001b[0m\u001b[1;33m(\u001b[0m\u001b[1;33m)\u001b[0m\u001b[1;33m:\u001b[0m\u001b[1;33m\u001b[0m\u001b[1;33m\u001b[0m\u001b[0m\n\u001b[0m\u001b[0;32m     50\u001b[0m                 \u001b[1;32mglobal\u001b[0m \u001b[0mcpu_score\u001b[0m\u001b[1;33m\u001b[0m\u001b[1;33m\u001b[0m\u001b[0m\n\u001b[0;32m     51\u001b[0m                 \u001b[1;32mglobal\u001b[0m \u001b[0mplayer_score\u001b[0m\u001b[1;33m\u001b[0m\u001b[1;33m\u001b[0m\u001b[0m\n",
      "\u001b[1;31mKeyboardInterrupt\u001b[0m: "
     ]
    }
   ],
   "source": [
    "def count_wins():\n",
    "                global cpu_score\n",
    "                global player_score\n",
    "                print(\"Computer: \",saved_cpu_choice,\"Vs. player: \",saved_player_choice)\n",
    "                if round_result"
   ]
  },
  {
   "cell_type": "markdown",
   "metadata": {},
   "source": [
    "# (Optional) Rock, Paper, Scissors, Lizard & Spock\n",
    "![](images/rpsls.jpg)\n",
    "\n",
    "In this challenge, you need to improve the previous game by adding two new options. To know more about the rules of the improved version of rock, paper, scissors, check this [link](http://www.samkass.com/theories/RPSSL.html). \n",
    "\n",
    "In addition, you will also need to improve how the game interacts with the player: the number of rounds to play, which must be an odd number, will be requested to the user until a valid number is entered. Define a new function to make that request.\n",
    "\n",
    "**Hint**: Try to reuse the code that you already coded in the previous challenge. If your code is efficient, this bonus will only consist of simple modifications to the original game."
   ]
  },
  {
   "cell_type": "code",
   "execution_count": null,
   "metadata": {},
   "outputs": [],
   "source": []
  }
 ],
 "metadata": {
  "kernelspec": {
   "display_name": "Python 3 (ipykernel)",
   "language": "python",
   "name": "python3"
  },
  "language_info": {
   "codemirror_mode": {
    "name": "ipython",
    "version": 3
   },
   "file_extension": ".py",
   "mimetype": "text/x-python",
   "name": "python",
   "nbconvert_exporter": "python",
   "pygments_lexer": "ipython3",
   "version": "3.9.13"
  },
  "toc": {
   "base_numbering": 1,
   "nav_menu": {},
   "number_sections": true,
   "sideBar": true,
   "skip_h1_title": false,
   "title_cell": "Table of Contents",
   "title_sidebar": "Contents",
   "toc_cell": false,
   "toc_position": {},
   "toc_section_display": true,
   "toc_window_display": false
  }
 },
 "nbformat": 4,
 "nbformat_minor": 2
}
